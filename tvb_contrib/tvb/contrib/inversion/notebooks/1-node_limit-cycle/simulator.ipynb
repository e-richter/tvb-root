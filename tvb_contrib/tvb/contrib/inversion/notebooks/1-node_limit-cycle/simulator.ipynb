{
 "cells": [
  {
   "cell_type": "code",
   "execution_count": 12,
   "id": "fa562ba8",
   "metadata": {},
   "outputs": [],
   "source": [
    "from tvb.simulator.models.oscillator import Generic2dOscillator\n",
    "from tvb.simulator.integrators import HeunStochastic\n",
    "import matplotlib.pyplot as plt\n",
    "import numpy as np\n",
    "import math"
   ]
  },
  {
   "cell_type": "code",
   "execution_count": 13,
   "id": "cb8993de",
   "metadata": {},
   "outputs": [],
   "source": [
    "# Parameters\n",
    "a_sim = 2.0\n",
    "b_sim = -10.0\n",
    "c_sim = 0.0\n",
    "d_sim = 0.02\n",
    "I_sim = 0.0"
   ]
  },
  {
   "cell_type": "code",
   "execution_count": 14,
   "id": "714b6c77",
   "metadata": {},
   "outputs": [],
   "source": [
    "# TVB model and integrator setup\n",
    "oscillator_model = Generic2dOscillator(\n",
    "    a=np.asarray([a_sim]),\n",
    "    b=np.asarray([b_sim]),\n",
    "    c=np.asarray([c_sim]),\n",
    "    d=np.asarray([d_sim]),\n",
    "    I=np.asarray([I_sim]),\n",
    ")\n",
    "oscillator_model.configure()\n",
    "\n",
    "integrator = HeunStochastic(dt=0.1)\n",
    "integrator.noise.nsig = np.array([0.003])\n",
    "integrator.noise.configure()\n",
    "integrator.noise.configure_white(dt=integrator.dt)\n",
    "integrator.set_random_state(random_state=None)\n",
    "integrator.configure()\n",
    "integrator.configure_boundaries(oscillator_model)"
   ]
  },
  {
   "cell_type": "code",
   "execution_count": 15,
   "id": "2f62bbfd",
   "metadata": {},
   "outputs": [],
   "source": [
    "simulation_length = 100\n",
    "stimulus = 0.0\n",
    "local_coupling = 0.0\n",
    "\n",
    "current_state_v = np.random.uniform(low=-2.0, high=4.0, size=[1, 1, 1])\n",
    "current_state_w = np.random.uniform(low=-6.0, high=6.0, size=[1, 1, 1])\n",
    "current_state = np.vstack([current_state_v, current_state_w])\n",
    "state = current_state\n",
    "\n",
    "current_step = 0\n",
    "number_of_nodes = 1\n",
    "start_step = current_step + 1\n",
    "node_coupling = np.zeros([2, 1, 1])\n",
    "n_steps = int(math.ceil(simulation_length / integrator.dt))\n",
    "\n",
    "X = [current_state.copy()]\n",
    "for step in range(start_step, start_step + n_steps):\n",
    "    state = integrator.integrate(state, oscillator_model, node_coupling, local_coupling, stimulus)\n",
    "    X.append(state.copy())\n",
    "\n",
    "X = np.asarray(X)"
   ]
  },
  {
   "cell_type": "code",
   "execution_count": 16,
   "id": "076790a8",
   "metadata": {},
   "outputs": [],
   "source": [
    "np.save(\"limit-cycle_simulation\", X)"
   ]
  },
  {
   "cell_type": "code",
   "execution_count": 17,
   "id": "f11135da",
   "metadata": {},
   "outputs": [
    {
     "data": {
      "text/plain": [
       "(1001, 2, 1, 1)"
      ]
     },
     "execution_count": 17,
     "metadata": {},
     "output_type": "execute_result"
    }
   ],
   "source": [
    "X.shape"
   ]
  },
  {
   "cell_type": "code",
   "execution_count": null,
   "id": "5743b80f",
   "metadata": {},
   "outputs": [],
   "source": []
  }
 ],
 "metadata": {
  "kernelspec": {
   "display_name": "Python 3 (ipykernel)",
   "language": "python",
   "name": "python3"
  },
  "language_info": {
   "codemirror_mode": {
    "name": "ipython",
    "version": 3
   },
   "file_extension": ".py",
   "mimetype": "text/x-python",
   "name": "python",
   "nbconvert_exporter": "python",
   "pygments_lexer": "ipython3",
   "version": "3.7.12"
  }
 },
 "nbformat": 4,
 "nbformat_minor": 5
}
