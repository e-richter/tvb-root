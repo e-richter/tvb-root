{
 "cells": [
  {
   "cell_type": "code",
   "execution_count": null,
   "id": "4d52acab",
   "metadata": {},
   "outputs": [],
   "source": [
    "from tvb.simulator.models.oscillator import Generic2dOscillator\n",
    "from tvb.simulator.integrators import HeunStochastic\n",
    "import matplotlib.pyplot as plt\n",
    "import numpy as np\n",
    "import torch\n",
    "import math\n",
    "from sbi import utils as utils\n",
    "from sbi import analysis as analysis\n",
    "from sbi.inference.base import infer\n",
    "import arviz as az\n",
    "from datetime import datetime\n",
    "%load_ext autoreload\n",
    "%autoreload 2"
   ]
  },
  {
   "cell_type": "code",
   "execution_count": null,
   "id": "0378bda8",
   "metadata": {},
   "outputs": [],
   "source": [
    "# Simulation parameters\n",
    "a_sim = 2.0\n",
    "b_sim = -10.0\n",
    "c_sim = 0.0\n",
    "d_sim = 0.02\n",
    "I_sim = 0.0\n",
    "nsig = 0.003\n",
    "dt = 0.1\n",
    "simulation_length = 300"
   ]
  },
  {
   "cell_type": "code",
   "execution_count": null,
   "id": "88242074",
   "metadata": {},
   "outputs": [],
   "source": [
    "# TVB model and integrator setup\n",
    "oscillator_model = Generic2dOscillator(\n",
    "    a=np.asarray([a_sim]),\n",
    "    b=np.asarray([b_sim]),\n",
    "    c=np.asarray([c_sim]),\n",
    "    d=np.asarray([d_sim]),\n",
    "    I=np.asarray([I_sim]),\n",
    ")\n",
    "oscillator_model.configure()\n",
    "\n",
    "integrator = HeunStochastic(dt=dt)\n",
    "integrator.noise.nsig = np.array([nsig])\n",
    "integrator.noise.configure()\n",
    "integrator.noise.configure_white(dt=integrator.dt)\n",
    "integrator.set_random_state(random_state=None)\n",
    "integrator.configure()\n",
    "integrator.configure_boundaries(oscillator_model)"
   ]
  },
  {
   "cell_type": "code",
   "execution_count": null,
   "id": "44b0ec87",
   "metadata": {},
   "outputs": [],
   "source": [
    "X = np.load(\"limit-cycle_simulation.npy\")"
   ]
  },
  {
   "cell_type": "code",
   "execution_count": null,
   "id": "26b1cf4a",
   "metadata": {},
   "outputs": [],
   "source": [
    "f1 = plt.figure(figsize=(14,8))\n",
    "plt.plot(X[:, 0, 0, 0], label=\"V\")\n",
    "plt.plot(X[:, 1, 0, 0], label=\"W\")\n",
    "plt.ylabel(\"states\")\n",
    "plt.legend()\n",
    "plt.show()"
   ]
  },
  {
   "cell_type": "code",
   "execution_count": null,
   "id": "99e979b0",
   "metadata": {},
   "outputs": [],
   "source": [
    "obs = X\n",
    "\n",
    "priors = {\n",
    "    \"a\": [1.8, 2.2, False],\n",
    "    \"b\": [-10.3, -9.7, False],\n",
    "    \"c\": [-0.1, 0.1, False],\n",
    "    \"d\": [0.01, 0.03, False],\n",
    "    \"I\": [-0.1, 0.1, False],\n",
    "    \"epsilon\": [0.0, 0.01, False]\n",
    "}\n",
    "\n",
    "shape = X.shape"
   ]
  },
  {
   "cell_type": "code",
   "execution_count": null,
   "id": "daf3e28c",
   "metadata": {},
   "outputs": [],
   "source": [
    "from tvb.contrib.inversion.sbiInference import sbiModel"
   ]
  },
  {
   "cell_type": "markdown",
   "id": "4f8b3fb9",
   "metadata": {},
   "source": [
    "### SNPE inference"
   ]
  },
  {
   "cell_type": "code",
   "execution_count": null,
   "id": "74d095fb",
   "metadata": {},
   "outputs": [],
   "source": [
    "snpe_model = sbiModel(\n",
    "    integrator_instance=integrator, \n",
    "    model_instance=oscillator_model, \n",
    "    method=\"SNPE\", \n",
    "    obs=obs, \n",
    "    priors=priors,\n",
    "    obs_shape=shape\n",
    ")"
   ]
  },
  {
   "cell_type": "code",
   "execution_count": null,
   "id": "30a9b0c8",
   "metadata": {},
   "outputs": [],
   "source": [
    "snpe_model.run_inference(\n",
    "    num_simulations=800, \n",
    "    num_workers=1, \n",
    "    num_samples=2000\n",
    ")"
   ]
  },
  {
   "cell_type": "code",
   "execution_count": null,
   "id": "679f1a62",
   "metadata": {},
   "outputs": [],
   "source": [
    "inference_data = snpe_model.to_arviz_data(save=True)"
   ]
  },
  {
   "cell_type": "code",
   "execution_count": null,
   "id": "b10bd842",
   "metadata": {},
   "outputs": [],
   "source": [
    "snpe_model.plot_posterior_samples(\n",
    "    init_params={\"a\": a_sim, \"b\": b_sim, \"c\": c_sim, \"d\": d_sim, \"I\": I_sim, \"epsilon\": 0.0}\n",
    ")"
   ]
  },
  {
   "cell_type": "code",
   "execution_count": null,
   "id": "43f10e22",
   "metadata": {},
   "outputs": [],
   "source": [
    "map_estimator = snpe_model.get_map_estimator()\n",
    "map_estimator"
   ]
  },
  {
   "cell_type": "code",
   "execution_count": null,
   "id": "d67ddeca",
   "metadata": {},
   "outputs": [],
   "source": [
    "posterior_sample = snpe_model.get_sample()[0]\n",
    "posterior_sample"
   ]
  },
  {
   "cell_type": "code",
   "execution_count": null,
   "id": "fb11d679",
   "metadata": {},
   "outputs": [],
   "source": [
    "posterior_obs = snpe_model.simulation_wrapper(params=posterior_sample)\n",
    "posterior_obs = posterior_obs.numpy().reshape(shape, order=\"F\")"
   ]
  },
  {
   "cell_type": "code",
   "execution_count": null,
   "id": "58c5d131",
   "metadata": {},
   "outputs": [],
   "source": [
    "f3 = plt.figure(figsize=(13,8))\n",
    "plt.plot(snpe_model.inference_data.observed_data.x_obs.values[:, 0, 0, 0], label=\"V_simulated\", color=\"blue\")\n",
    "plt.plot(snpe_model.inference_data.observed_data.x_obs.values[:, 1, 0, 0], label=\"W_simulated\", color=\"red\")\n",
    "plt.plot(posterior_obs[:, 0, 0, 0], label=\"V_posterior\", color=\"cyan\")\n",
    "plt.plot(posterior_obs[:, 1, 0, 0], label=\"W_posterior\", color=\"orange\")\n",
    "plt.legend()\n",
    "plt.xlabel(\"time (ms)\")\n",
    "plt.ylabel(\"states\")\n",
    "plt.show()"
   ]
  },
  {
   "cell_type": "code",
   "execution_count": null,
   "id": "9440fb07",
   "metadata": {},
   "outputs": [],
   "source": [
    "snpe_model.information_criteria()"
   ]
  },
  {
   "cell_type": "markdown",
   "id": "51babb29",
   "metadata": {},
   "source": [
    "### SNLE inference"
   ]
  },
  {
   "cell_type": "code",
   "execution_count": null,
   "id": "90a5f311",
   "metadata": {},
   "outputs": [],
   "source": [
    "snle_model = sbiModel(\n",
    "    integrator_instance=integrator, \n",
    "    model_instance=oscillator_model, \n",
    "    method=\"SNLE\", \n",
    "    obs=obs, \n",
    "    priors=priors,\n",
    "    obs_shape=shape\n",
    ")"
   ]
  },
  {
   "cell_type": "code",
   "execution_count": null,
   "id": "663dc5df",
   "metadata": {},
   "outputs": [],
   "source": [
    "snle_model.run_inference(\n",
    "    num_simulations=800,\n",
    "    num_workers=1,\n",
    "    num_samples=2000\n",
    ")"
   ]
  },
  {
   "cell_type": "code",
   "execution_count": null,
   "id": "ae5e2eb5",
   "metadata": {},
   "outputs": [],
   "source": [
    "inference_data = snle_model.to_arviz_data(save=True)"
   ]
  },
  {
   "cell_type": "code",
   "execution_count": null,
   "id": "06a958bf",
   "metadata": {},
   "outputs": [],
   "source": [
    "snle_model.plot_posterior_samples(\n",
    "    init_params={\"a\": a_sim, \"b\": b_sim, \"c\": c_sim, \"d\": d_sim, \"I\": I_sim, \"epsilon\": 0.0},\n",
    "    bins=50\n",
    ")"
   ]
  },
  {
   "cell_type": "code",
   "execution_count": null,
   "id": "a900c6fe",
   "metadata": {},
   "outputs": [],
   "source": [
    "map_estimator = snle_model.get_map_estimator()\n",
    "map_estimator"
   ]
  },
  {
   "cell_type": "code",
   "execution_count": null,
   "id": "f6965df9",
   "metadata": {},
   "outputs": [],
   "source": [
    "posterior_sample = snle_model.get_sample()[0]\n",
    "posterior_sample"
   ]
  },
  {
   "cell_type": "code",
   "execution_count": null,
   "id": "9c99b0c9",
   "metadata": {},
   "outputs": [],
   "source": [
    "posterior_obs = snle_model.simulation_wrapper(params=posterior_sample)\n",
    "posterior_obs = posterior_obs.numpy().reshape(shape, order=\"F\")"
   ]
  },
  {
   "cell_type": "code",
   "execution_count": null,
   "id": "121179e4",
   "metadata": {},
   "outputs": [],
   "source": [
    "f4 = plt.figure(figsize=(13,8))\n",
    "plt.plot(snle_model.inference_data.observed_data.x_obs.values[:, 0, 0, 0], label=\"V_simulated\", color=\"blue\")\n",
    "plt.plot(snle_model.inference_data.observed_data.x_obs.values[:, 1, 0, 0], label=\"W_simulated\", color=\"red\")\n",
    "plt.plot(posterior_obs[:, 0, 0, 0], label=\"V_posterior\", color=\"cyan\")\n",
    "plt.plot(posterior_obs[:, 1, 0, 0], label=\"W_posterior\", color=\"orange\")\n",
    "plt.legend()\n",
    "plt.xlabel(\"time (ms)\")\n",
    "plt.ylabel(\"states\")\n",
    "plt.show()"
   ]
  },
  {
   "cell_type": "code",
   "execution_count": null,
   "id": "df54d4d6",
   "metadata": {},
   "outputs": [],
   "source": [
    "snle_model.information_criteria()"
   ]
  },
  {
   "cell_type": "markdown",
   "id": "155de18b",
   "metadata": {},
   "source": [
    "### SNRE inference"
   ]
  },
  {
   "cell_type": "code",
   "execution_count": null,
   "id": "bc0ed28c",
   "metadata": {},
   "outputs": [],
   "source": [
    "snre_model = sbiModel(\n",
    "    integrator_instance=integrator, \n",
    "    model_instance=oscillator_model, \n",
    "    method=\"SNRE\", \n",
    "    obs=obs, \n",
    "    priors=priors,\n",
    "    obs_shape=shape\n",
    ")"
   ]
  },
  {
   "cell_type": "code",
   "execution_count": null,
   "id": "7a0b3fb7",
   "metadata": {},
   "outputs": [],
   "source": [
    "snre_model.run_inference(\n",
    "    num_simulations=800,\n",
    "    num_workers=1,\n",
    "    num_samples=2000\n",
    ")"
   ]
  },
  {
   "cell_type": "code",
   "execution_count": null,
   "id": "d5e812f0",
   "metadata": {},
   "outputs": [],
   "source": [
    "inference_data = snre_model.to_arviz_data(save=True)"
   ]
  },
  {
   "cell_type": "code",
   "execution_count": null,
   "id": "6e62ad95",
   "metadata": {},
   "outputs": [],
   "source": [
    "snre_model.plot_posterior(\n",
    "    init_params={\"a\": a_sim, \"b\": b_sim, \"c\": c_sim, \"d\": d_sim, \"I\": I_sim, \"epsilon\": 0.0}\n",
    ")"
   ]
  },
  {
   "cell_type": "code",
   "execution_count": null,
   "id": "c5e97bd5",
   "metadata": {},
   "outputs": [],
   "source": [
    "map_estimator = snre_model.get_map_estimator()\n",
    "map_estimator"
   ]
  },
  {
   "cell_type": "code",
   "execution_count": null,
   "id": "f098ce37",
   "metadata": {},
   "outputs": [],
   "source": [
    "posterior_sample = snre_model.get_sample()[0]\n",
    "posterior_sample"
   ]
  },
  {
   "cell_type": "code",
   "execution_count": null,
   "id": "73f0051c",
   "metadata": {},
   "outputs": [],
   "source": [
    "posterior_obs = snre_model.simulation_wrapper(params=map_estimator)\n",
    "posterior_obs = posterior_obs.numpy().reshape(shape, order=\"F\")"
   ]
  },
  {
   "cell_type": "code",
   "execution_count": null,
   "id": "80239c4d",
   "metadata": {},
   "outputs": [],
   "source": [
    "f4 = plt.figure(figsize=(13,8))\n",
    "plt.plot(snre_model.inference_data.observed_data.x_obs.values[:, 0, 0, 0], label=\"V_simulated\", color=\"blue\")\n",
    "plt.plot(snre_model.inference_data.observed_data.x_obs.values[:, 1, 0, 0], label=\"W_simulated\", color=\"red\")\n",
    "plt.plot(posterior_obs[:, 0, 0, 0], label=\"V_posterior\", color=\"cyan\")\n",
    "plt.plot(posterior_obs[:, 1, 0, 0], label=\"W_posterior\", color=\"orange\")\n",
    "plt.legend()\n",
    "plt.xlabel(\"time (ms)\")\n",
    "plt.ylabel(\"states\")\n",
    "plt.show()"
   ]
  },
  {
   "cell_type": "code",
   "execution_count": null,
   "id": "55742411",
   "metadata": {},
   "outputs": [],
   "source": [
    "snre_model.information_criteria()"
   ]
  },
  {
   "cell_type": "code",
   "execution_count": null,
   "id": "5d43ca1f",
   "metadata": {},
   "outputs": [],
   "source": []
  }
 ],
 "metadata": {
  "kernelspec": {
   "display_name": "Python 3 (ipykernel)",
   "language": "python",
   "name": "python3"
  },
  "language_info": {
   "codemirror_mode": {
    "name": "ipython",
    "version": 3
   },
   "file_extension": ".py",
   "mimetype": "text/x-python",
   "name": "python",
   "nbconvert_exporter": "python",
   "pygments_lexer": "ipython3",
   "version": "3.7.12"
  }
 },
 "nbformat": 4,
 "nbformat_minor": 5
}
