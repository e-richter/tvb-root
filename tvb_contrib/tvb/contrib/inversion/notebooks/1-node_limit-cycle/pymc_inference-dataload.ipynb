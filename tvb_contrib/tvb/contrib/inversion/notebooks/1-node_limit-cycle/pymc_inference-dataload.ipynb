{
 "cells": [
  {
   "cell_type": "code",
   "execution_count": null,
   "id": "56e8ae3f",
   "metadata": {},
   "outputs": [],
   "source": [
    "import tvb.simulator.models\n",
    "import tvb.simulator.integrators\n",
    "\n",
    "import matplotlib.pyplot as plt\n",
    "import numpy as np\n",
    "import arviz as az\n",
    "import pymc3 as pm\n",
    "import scipy\n",
    "import theano.tensor as tt\n",
    "import theano\n",
    "import math\n",
    "import pickle\n",
    "from tqdm import tqdm\n",
    "\n",
    "%load_ext autoreload\n",
    "%autoreload 2\n",
    "%matplotlib inline"
   ]
  },
  {
   "cell_type": "code",
   "execution_count": null,
   "id": "6f0a7103",
   "metadata": {},
   "outputs": [],
   "source": [
    "# Simulation parameters\n",
    "with open('limit-cycle_simulation.pkl', 'rb') as f:\n",
    "    simulation_params = pickle.load(f)"
   ]
  },
  {
   "cell_type": "code",
   "execution_count": null,
   "id": "49819e99",
   "metadata": {},
   "outputs": [],
   "source": [
    "# Model\n",
    "oscillator_model = getattr(tvb.simulator.models, simulation_params[\"model\"])(\n",
    "    a=np.asarray([simulation_params[\"a_sim\"]]),\n",
    "    b=np.asarray([simulation_params[\"b_sim\"]]),\n",
    "    c=np.asarray([simulation_params[\"c_sim\"]]),\n",
    "    d=np.asarray([simulation_params[\"d_sim\"]]),\n",
    "    I=np.asarray([simulation_params[\"I_sim\"]]),\n",
    ")\n",
    "oscillator_model.configure()\n",
    "\n",
    "# Integrator\n",
    "integrator = getattr(tvb.simulator.integrators, simulation_params[\"integrator\"])(dt=simulation_params[\"dt\"])\n",
    "integrator.noise.nsig = np.array([simulation_params[\"nsig\"]])\n",
    "integrator.noise.configure()\n",
    "integrator.noise.configure_white(dt=integrator.dt)\n",
    "integrator.set_random_state(random_state=None)\n",
    "integrator.configure()\n",
    "integrator.configure_boundaries(oscillator_model)"
   ]
  },
  {
   "cell_type": "code",
   "execution_count": null,
   "id": "1db0aee2",
   "metadata": {},
   "outputs": [],
   "source": [
    "X = simulation_params[\"simulation\"]"
   ]
  },
  {
   "cell_type": "code",
   "execution_count": null,
   "id": "840e64f8",
   "metadata": {},
   "outputs": [],
   "source": [
    "f1 = plt.figure(figsize=(14,8))\n",
    "plt.plot(X[:, 0, 0, 0], label=\"V\")\n",
    "plt.plot(X[:, 1, 0, 0], label=\"W\")\n",
    "plt.ylabel(\"states\")\n",
    "plt.legend()\n",
    "plt.show()"
   ]
  },
  {
   "cell_type": "code",
   "execution_count": null,
   "id": "79215f4d",
   "metadata": {},
   "outputs": [],
   "source": [
    "# global inference parameters\n",
    "shape = X.shape\n",
    "draws = 500\n",
    "tune = 500\n",
    "num_cores = 2"
   ]
  },
  {
   "cell_type": "markdown",
   "id": "406e73b2",
   "metadata": {},
   "source": [
    "### Inference using non-centered model"
   ]
  },
  {
   "cell_type": "code",
   "execution_count": null,
   "id": "a5ce9033",
   "metadata": {},
   "outputs": [],
   "source": [
    "from tvb.contrib.inversion.pymcInference import NonCenteredModel"
   ]
  },
  {
   "cell_type": "code",
   "execution_count": null,
   "id": "da374f4e",
   "metadata": {},
   "outputs": [],
   "source": [
    "ncModel = NonCenteredModel(oscillator_model)"
   ]
  },
  {
   "cell_type": "code",
   "execution_count": null,
   "id": "833db1e7",
   "metadata": {},
   "outputs": [],
   "source": [
    "#i = 4\n",
    "#ncModel.pymc_model.unobserved_RVs[i].name"
   ]
  },
  {
   "cell_type": "code",
   "execution_count": null,
   "id": "e3c74f25",
   "metadata": {},
   "outputs": [],
   "source": [
    "#with ncModel.pymc_model:\n",
    "#    print(ncModel.pymc_model.unobserved_RVs[i])"
   ]
  },
  {
   "cell_type": "code",
   "execution_count": null,
   "id": "08894e4a",
   "metadata": {},
   "outputs": [],
   "source": [
    "with ncModel.pymc_model:\n",
    "    #a_star = pm.Normal(\"a_star\", mu=0.0, sd=1.0)\n",
    "    #a = pm.Deterministic(\"a\", var=2.0 + 0.05 * a_star)\n",
    "    \n",
    "    #b_star = pm.Normal(\"b_star\", mu=0.0, sd=1.0)\n",
    "    #b = pm.Deterministic(\"b\", -10.0 + 0.1 * b_star)\n",
    "    \n",
    "    #c_star = pm.Normal(\"c_star\", mu=0.0, sd=1.0)\n",
    "    #c = pm.Deterministic(\"c\", 0.0 + 0.01 * c_star)\n",
    "    \n",
    "    #d_star = pm.Normal(\"d_star\", mu=0.0, sd=1.0)\n",
    "    #d = pm.Deterministic(\"d\", 0.02 + 0.001 * d_star)\n",
    "    \n",
    "    #I_star = pm.Normal(\"I_star\", mu=0.0, sd=1.0)\n",
    "    #I = pm.Deterministic(\"I\", 0.0 + 0.01 * I_star)\n",
    "    \n",
    "    # Passing the prior distributions as dictionary. Also including fixed model parameters.\n",
    "    priors = {\n",
    "        \"a\": np.array([simulation_params[\"a_sim\"]]),\n",
    "        \"b\": np.array([simulation_params[\"b_sim\"]]),\n",
    "        \"c\": np.array([simulation_params[\"c_sim\"]]),\n",
    "        \"d\": np.array([simulation_params[\"d_sim\"]]),\n",
    "        \"I\": np.array([simulation_params[\"I_sim\"]]),\n",
    "        \"tau\": np.array([1.0]),\n",
    "        \"e\": np.array([3.0]),\n",
    "        \"f\": np.array([1.0]),\n",
    "        \"g\": np.array([0.0]),\n",
    "        \"alpha\": np.array([1.0]),\n",
    "        \"beta\": np.array([1.0]),\n",
    "        \"gamma\": np.array([1.0])\n",
    "    }\n",
    "    \n",
    "    consts = {\n",
    "        \"coupling\": np.zeros([2, 1, 1]), \n",
    "        \"local_coupling\": 0.0\n",
    "    }\n",
    "    \n",
    "    x_init = theano.shared(X[0], name=\"x_init\")\n",
    "    \n",
    "    BoundedNormal = pm.Bound(pm.Normal, lower=0.0)\n",
    "    \n",
    "    # sd should be in the range of sqrt(2*nsig)\n",
    "    noise_star = BoundedNormal(name=\"noise_star\", mu=0.0, sd=1.0)\n",
    "    noise = pm.Deterministic(name=\"noise\", var=0.05 + 0.1 * noise_star)\n",
    "    \n",
    "    x_t_star = pm.Normal(name=\"x_t_star\", mu=0.0, sd=1.0, shape=tuple(shape))\n",
    "    x_t = pm.Deterministic(name=\"x_t\", var=noise * x_t_star)\n",
    "    \n",
    "    amplitude_star = pm.Normal(\"amplitude_star\", mu=0.0, sd=1.0)\n",
    "    amplitude = pm.Deterministic(\"amplitude\", 0.0 + amplitude_star)\n",
    "    \n",
    "    offset_star = pm.Normal(\"offset_star\", mu=0.0, sd=1.0)\n",
    "    offset = pm.Deterministic(\"offset\", 0.0 + offset_star)\n",
    "    \n",
    "    epsilon = BoundedNormal(\"epsilon\", mu=0.0, sd=1.0)"
   ]
  },
  {
   "cell_type": "code",
   "execution_count": null,
   "id": "9c87d297",
   "metadata": {},
   "outputs": [],
   "source": [
    "ncModel.set_model(\n",
    "    priors=priors, \n",
    "    consts=consts, \n",
    "    obs=X, \n",
    "    time_step=dt,\n",
    "    x_init=x_init,\n",
    "    time_series=x_t,\n",
    "    amplitude=amplitude,\n",
    "    offset=offset,\n",
    "    obs_noise=epsilon\n",
    ")"
   ]
  },
  {
   "cell_type": "code",
   "execution_count": null,
   "id": "cce5a480",
   "metadata": {},
   "outputs": [],
   "source": [
    "ncModel.inference_data = az.from_netcdf(\"pymc_data/inference_data/2022-08-30_1619_inference_data.nc\")\n",
    "nc_data = ncModel.inference_data"
   ]
  },
  {
   "cell_type": "code",
   "execution_count": null,
   "id": "845f5f72",
   "metadata": {},
   "outputs": [],
   "source": [
    "ncModel.plot_posterior_samples(\n",
    "    init_params={\"epsilon\": 0.0, \"noise\": np.sqrt(2 * simulation_params[\"nsig\"])}\n",
    ")"
   ]
  },
  {
   "cell_type": "code",
   "execution_count": null,
   "id": "3cbd47ce",
   "metadata": {},
   "outputs": [],
   "source": [
    "posterior_x_obs = nc_data.posterior_predictive.x_obs.values.reshape((num_cores * draws, *shape))"
   ]
  },
  {
   "cell_type": "code",
   "execution_count": null,
   "id": "e28c16a2",
   "metadata": {},
   "outputs": [],
   "source": [
    "f3, axes3 = plt.subplots(nrows=2, ncols=1, figsize=(18,15))\n",
    "axes3[0].plot(np.percentile(posterior_x_obs[:, :, 0, 0, 0], [2.5, 97.5], axis=0).T, \n",
    "              \"k\", label=r\"$V_{95\\% PP}(t)$\")\n",
    "axes3[0].plot(X[:, 0, 0, 0], label=\"V_observed\")\n",
    "#axes3[0].plot(posterior_x_obs[0, :, 0, 0, 0])\n",
    "axes3[0].legend(fontsize=16)\n",
    "axes3[0].set_xlabel(\"time (ms)\", fontsize=16)\n",
    "axes3[0].tick_params(axis=\"both\", labelsize=16)\n",
    "\n",
    "axes3[1].plot(np.percentile(posterior_x_obs[:, :, 1, 0, 0], [2.5, 97.5], axis=0).T, \n",
    "         \"k\", label=r\"$W_{95\\% PP}(t)$\")\n",
    "axes3[1].plot(X[:, 1, 0, 0], label=\"W_observed\")\n",
    "#axes3[1].plot(posterior_x_obs[0, :, 1, 0, 0])\n",
    "axes3[1].legend(fontsize=16)\n",
    "axes3[1].set_xlabel(\"time (ms)\", fontsize=16)\n",
    "axes3[1].tick_params(axis=\"both\", labelsize=16)\n",
    "\n",
    "plt.show()"
   ]
  },
  {
   "cell_type": "code",
   "execution_count": null,
   "id": "b680a0ab",
   "metadata": {},
   "outputs": [],
   "source": [
    "criteria = ncModel.model_criteria([\"WAIC\", \"LOO\"])"
   ]
  },
  {
   "cell_type": "code",
   "execution_count": null,
   "id": "f85273fe",
   "metadata": {},
   "outputs": [],
   "source": [
    "print(\"WAIC: \", criteria[\"WAIC\"])\n",
    "print(\"LOO: \", criteria[\"LOO\"])"
   ]
  },
  {
   "cell_type": "code",
   "execution_count": null,
   "id": "c8c9304e",
   "metadata": {},
   "outputs": [],
   "source": [
    "ncModel.summary = az.summary(ncModel.inference_data)"
   ]
  },
  {
   "cell_type": "code",
   "execution_count": null,
   "id": "78a6881a",
   "metadata": {},
   "outputs": [],
   "source": [
    "ncModel.summary.loc[[\"epsilon\", \"noise\"]]"
   ]
  },
  {
   "cell_type": "code",
   "execution_count": null,
   "id": "8b51f898",
   "metadata": {},
   "outputs": [],
   "source": [
    "x_hat_indezes = [index for index in ncModel.summary.index if \"x_hat\" in index]\n",
    "x_rhat_mean = ncModel.summary.loc[x_hat_indezes][\"r_hat\"].mean()\n",
    "print(\"Mean r_hat value for time series:\", x_rhat_mean)\n",
    "x_rhat_sd = ncModel.summary.loc[x_hat_indezes][\"r_hat\"].std()\n",
    "print(\"SD r_hat value for time series:\", x_rhat_sd)"
   ]
  },
  {
   "cell_type": "code",
   "execution_count": null,
   "id": "cc5b7b9c",
   "metadata": {},
   "outputs": [],
   "source": [
    "divergent = ncModel.inference_data.sample_stats.diverging.values.reshape(-1)\n",
    "print(\"Number of Divergent %d\" % divergent.nonzero()[0].size)\n",
    "divperc = divergent.nonzero()[0].size / len(divergent) * 100\n",
    "print(\"Percentage of Divergent %.1f\" % divperc)\n",
    "print(\"Mean tree accept %.1f\" % ncModel.inference_data.sample_stats.acceptance_rate.values.mean())"
   ]
  },
  {
   "cell_type": "code",
   "execution_count": null,
   "id": "260294ca",
   "metadata": {},
   "outputs": [],
   "source": []
  }
 ],
 "metadata": {
  "kernelspec": {
   "display_name": "Python 3 (ipykernel)",
   "language": "python",
   "name": "python3"
  },
  "language_info": {
   "codemirror_mode": {
    "name": "ipython",
    "version": 3
   },
   "file_extension": ".py",
   "mimetype": "text/x-python",
   "name": "python",
   "nbconvert_exporter": "python",
   "pygments_lexer": "ipython3",
   "version": "3.9.13"
  }
 },
 "nbformat": 4,
 "nbformat_minor": 5
}
