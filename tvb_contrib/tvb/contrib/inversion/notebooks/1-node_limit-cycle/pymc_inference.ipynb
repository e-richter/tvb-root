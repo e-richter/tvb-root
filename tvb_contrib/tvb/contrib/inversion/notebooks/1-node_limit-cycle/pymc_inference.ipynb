{
 "cells": [
  {
   "cell_type": "code",
   "execution_count": null,
   "id": "56e8ae3f",
   "metadata": {},
   "outputs": [],
   "source": [
    "from tvb.simulator.models.oscillator import Generic2dOscillator\n",
    "from tvb.simulator.integrators import HeunStochastic\n",
    "import matplotlib.pyplot as plt\n",
    "import numpy as np\n",
    "import arviz as az\n",
    "import pymc3 as pm\n",
    "import scipy\n",
    "import theano.tensor as tt\n",
    "import theano\n",
    "import math\n",
    "from tqdm import tqdm\n",
    "\n",
    "%load_ext autoreload\n",
    "%autoreload 2\n",
    "%matplotlib inline"
   ]
  },
  {
   "cell_type": "code",
   "execution_count": null,
   "id": "6f0a7103",
   "metadata": {},
   "outputs": [],
   "source": [
    "# Parameters\n",
    "a_sim = 2.0\n",
    "b_sim = -10.0\n",
    "c_sim = 0.0\n",
    "d_sim = 0.02\n",
    "I_sim = 0.0\n",
    "nsig = 0.003\n",
    "dt = 0.1\n",
    "simulation_length = 300"
   ]
  },
  {
   "cell_type": "code",
   "execution_count": null,
   "id": "50b4cf0d",
   "metadata": {},
   "outputs": [],
   "source": [
    "X = np.load(\"limit-cycle_simulation.npy\")"
   ]
  },
  {
   "cell_type": "code",
   "execution_count": null,
   "id": "840e64f8",
   "metadata": {},
   "outputs": [],
   "source": [
    "f1 = plt.figure(figsize=(14,8))\n",
    "plt.plot(X[:, 0, 0, 0], label=\"V\")\n",
    "plt.plot(X[:, 1, 0, 0], label=\"W\")\n",
    "plt.ylabel(\"states\")\n",
    "plt.legend()\n",
    "plt.show()"
   ]
  },
  {
   "cell_type": "code",
   "execution_count": null,
   "id": "79215f4d",
   "metadata": {},
   "outputs": [],
   "source": [
    "# global inference parameters\n",
    "shape = X.shape\n",
    "draws = 1000\n",
    "tune = 1000"
   ]
  },
  {
   "cell_type": "markdown",
   "id": "406e73b2",
   "metadata": {},
   "source": [
    "### Inference using non-centered model"
   ]
  },
  {
   "cell_type": "code",
   "execution_count": null,
   "id": "a5ce9033",
   "metadata": {},
   "outputs": [],
   "source": [
    "from tvb.contrib.inversion.pymcInference import NonCenteredModel"
   ]
  },
  {
   "cell_type": "code",
   "execution_count": null,
   "id": "da374f4e",
   "metadata": {},
   "outputs": [],
   "source": [
    "ncModel = NonCenteredModel(Generic2dOscillator)"
   ]
  },
  {
   "cell_type": "code",
   "execution_count": null,
   "id": "08894e4a",
   "metadata": {},
   "outputs": [],
   "source": [
    "with ncModel.pymc_model:\n",
    "    a_star = pm.Normal(\"a_star\", mu=0.0, sd=1.0)\n",
    "    a = pm.Deterministic(\"a\", 2.0 + 0.1 * a_star)\n",
    "    \n",
    "    b_star = pm.Normal(\"b_star\", mu=0.0, sd=1.0)\n",
    "    b = pm.Deterministic(\"b\", -10.0 + 0.1 * b_star)\n",
    "    \n",
    "    c_star = pm.Normal(\"c_star\", mu=0.0, sd=1.0)\n",
    "    c = pm.Deterministic(\"c\", 0.0 + 0.1 * c_star)\n",
    "    \n",
    "    d_star = pm.Normal(\"d_star\", mu=0.0, sd=1.0)\n",
    "    d = pm.Deterministic(\"d\", 0.02 + 0.001 * d_star)\n",
    "    \n",
    "    I_star = pm.Normal(\"I_star\", mu=0.0, sd=1.0)\n",
    "    I = pm.Deterministic(\"I\", 0.0 + 0.1 * I_star)\n",
    "    \n",
    "    # Passing the prior distributions as dictionary. Also including fixed model parameters.\n",
    "    priors = {\n",
    "        \"a\": a,\n",
    "        \"b\": b,\n",
    "        \"c\": c,\n",
    "        \"d\": d,\n",
    "        \"I\": I,\n",
    "        \"tau\": np.array([1.0]),\n",
    "        \"e\": np.array([3.0]),\n",
    "        \"f\": np.array([1.0]),\n",
    "        \"g\": np.array([0.0]),\n",
    "        \"alpha\": np.array([1.0]),\n",
    "        \"beta\": np.array([1.0]),\n",
    "        \"gamma\": np.array([1.0])\n",
    "    }\n",
    "    \n",
    "    consts = {\"coupling\": np.zeros([2, 1, 1]), \n",
    "              \"local_coupling\": 0.0}\n",
    "    \n",
    "    x_init_star = pm.Normal(\"x_init_star\", mu=0.0, sd=1.0, shape=shape[1:])\n",
    "    x_init = pm.Deterministic(\"x_init\", 0.0 + x_init_star)\n",
    "    \n",
    "    x_t = pm.Normal(name=\"x_t\", mu=0.0, sd=0.001, shape=tuple(shape))\n",
    "    \n",
    "    BoundedNormal = pm.Bound(pm.Normal, lower=0.0)\n",
    "    noise = BoundedNormal(\"noise\", mu=0.0, sd=1.0)\n",
    "    \n",
    "    amplitude_star = pm.Normal(\"amplitude_star\", mu=0.0, sd=1.0)\n",
    "    amplitude = pm.Deterministic(\"amplitude\", 1.0 + 0.1 * amplitude_star)\n",
    "    \n",
    "    offset_star = pm.Normal(\"offset_star\", mu=0.0, sd=1.0)\n",
    "    offset = pm.Deterministic(\"offset\", 0.0 + 0.1 * offset_star)\n",
    "    \n",
    "    epsilon = BoundedNormal(\"epsilon\", mu=0.0, sd=0.01)"
   ]
  },
  {
   "cell_type": "code",
   "execution_count": null,
   "id": "9c87d297",
   "metadata": {},
   "outputs": [],
   "source": [
    "ncModel.set_model(\n",
    "    priors=priors, \n",
    "    consts=consts, \n",
    "    obs=X, \n",
    "    time_step=dt, \n",
    "    x_init=x_init, \n",
    "    x_t=x_t, \n",
    "    dyn_noise=noise, \n",
    "    obs_noise=epsilon, \n",
    "    shape=shape\n",
    ")"
   ]
  },
  {
   "cell_type": "code",
   "execution_count": null,
   "id": "cce5a480",
   "metadata": {},
   "outputs": [],
   "source": [
    "theano.config.allow_gc = False\n",
    "nc_data = ncModel.run_inference(draws=draws, tune=tune, cores=2, target_accept=0.9, save=True)"
   ]
  },
  {
   "cell_type": "code",
   "execution_count": null,
   "id": "845f5f72",
   "metadata": {},
   "outputs": [],
   "source": [
    "ncModel.plot_posterior_samples(\n",
    "    init_params={\"a\": a_sim, \"b\": b_sim, \"c\": c_sim, \"d\": d_sim, \"I\": I_sim, \"epsilon\": 0.0}\n",
    ")"
   ]
  },
  {
   "cell_type": "code",
   "execution_count": null,
   "id": "3cbd47ce",
   "metadata": {},
   "outputs": [],
   "source": [
    "posterior_x_obs = nc_data.posterior_predictive.x_obs.values.reshape((draws + tune, *shape))"
   ]
  },
  {
   "cell_type": "code",
   "execution_count": null,
   "id": "e28c16a2",
   "metadata": {},
   "outputs": [],
   "source": [
    "f3 = plt.figure(figsize=(14,8))\n",
    "plt.plot(np.percentile(posterior_x_obs[:, :, 0, 0, 0], [2.5, 97.5], axis=0).T, \n",
    "         \"k\", label=r\"$V_{95\\% PP}(t)$\")\n",
    "plt.plot(np.percentile(posterior_x_obs[:, :, 1, 0, 0], [2.5, 97.5], axis=0).T, \n",
    "         \"k\")\n",
    "plt.plot(X[:, 0, 0, 0], label=\"V_observed\")\n",
    "plt.plot(X[:, 1, 0, 0], label=\"W_observed\")\n",
    "plt.legend(fontsize=15)\n",
    "plt.xlabel(\"time (ms)\")\n",
    "plt.ylabel(\"states\")\n",
    "plt.show()"
   ]
  },
  {
   "cell_type": "code",
   "execution_count": null,
   "id": "b680a0ab",
   "metadata": {},
   "outputs": [],
   "source": [
    "criteria = ncModel.model_criteria([\"WAIC\", \"LOO\"])"
   ]
  },
  {
   "cell_type": "code",
   "execution_count": null,
   "id": "f85273fe",
   "metadata": {},
   "outputs": [],
   "source": [
    "print(\"WAIC: \", criteria[\"WAIC\"])\n",
    "print(\"LOO: \", criteria[\"LOO\"])"
   ]
  },
  {
   "cell_type": "code",
   "execution_count": null,
   "id": "b4717e05",
   "metadata": {},
   "outputs": [],
   "source": [
    "with ncModel.pymc_model:\n",
    "    map_estimate = pm.find_MAP()"
   ]
  },
  {
   "cell_type": "code",
   "execution_count": null,
   "id": "c8c9304e",
   "metadata": {},
   "outputs": [],
   "source": [
    "ncModel.summary"
   ]
  },
  {
   "cell_type": "code",
   "execution_count": null,
   "id": "cc5b7b9c",
   "metadata": {},
   "outputs": [],
   "source": [
    "divergent = ncModel.trace[\"diverging\"]\n",
    "print(\"Number of Divergent %d\" % divergent.nonzero()[0].size)\n",
    "divperc = divergent.nonzero()[0].size / len(ncModel.trace) * 100\n",
    "print(\"Percentage of Divergent %.1f\" % divperc)\n",
    "print(\"Mean tree accept %.1f\" % ncModel.trace['mean_tree_accept'].mean())"
   ]
  },
  {
   "cell_type": "markdown",
   "id": "79dc133c",
   "metadata": {},
   "source": [
    "### Inference using centered model"
   ]
  },
  {
   "cell_type": "code",
   "execution_count": null,
   "id": "7720eeb8",
   "metadata": {},
   "outputs": [],
   "source": [
    "from tvb.contrib.inversion.pymcInference import CenteredModel"
   ]
  },
  {
   "cell_type": "code",
   "execution_count": null,
   "id": "77fd4f99",
   "metadata": {},
   "outputs": [],
   "source": [
    "cModel = CenteredModel(oscillator_model)"
   ]
  },
  {
   "cell_type": "code",
   "execution_count": null,
   "id": "c59bfd6c",
   "metadata": {},
   "outputs": [],
   "source": [
    "with cModel.pymc_model:\n",
    "    a = pm.Normal(\"a\", mu=-2.0, sd=1.0)\n",
    "    \n",
    "    b = pm.Normal(\"b\", mu=-10.0, sd=1.0)\n",
    "    \n",
    "    c = pm.Normal(\"c\", mu=0.0, sd=1.0)\n",
    "    \n",
    "    d = pm.Normal(\"d\", mu=0.02, sd=1.0)\n",
    "    \n",
    "    I = pm.Normal(\"I\", mu=0.0, sd=1.0)\n",
    "    \n",
    "    # Passing the prior distributions as dictionary. Also including fixed model parameters.\n",
    "    priors = {\n",
    "        \"a\": a,\n",
    "        \"b\": b,\n",
    "        \"c\": c,\n",
    "        \"d\": d,\n",
    "        \"I\": I,\n",
    "        \"tau\": np.array([1.0]),\n",
    "        \"e\": np.array([3.0]),\n",
    "        \"f\": np.array([1.0]),\n",
    "        \"g\": np.array([0.0]),\n",
    "        \"alpha\": np.array([1.0]),\n",
    "        \"beta\": np.array([1.0]),\n",
    "        \"gamma\": np.array([1.0])\n",
    "    }\n",
    "    \n",
    "    consts = {\"coupling\": node_coupling, \n",
    "              \"local_coupling\": local_coupling}\n",
    "    \n",
    "    obs = {\"x_obs\": x_observed}\n",
    "    \n",
    "    time_step = integrator.dt\n",
    "    \n",
    "    x_init = pm.Normal(\"x_init\", mu=0.0, sd=1.0, shape=shape[1:])\n",
    "    \n",
    "    BoundedNormal = pm.Bound(pm.Normal, lower=0.0)\n",
    "    noise = BoundedNormal(\"noise\", mu=0.0, sd=1.0)\n",
    "    \n",
    "    amplitude = pm.Normal(\"amplitude\", mu=1.0, sd=1.0)\n",
    "    \n",
    "    offset = pm.Normal(\"offset\", mu=0.0, sd=1.0)\n",
    "    \n",
    "    epsilon = BoundedNormal(\"epsilon\", mu=0.0, sd=1.0)"
   ]
  },
  {
   "cell_type": "code",
   "execution_count": null,
   "id": "f39c1a6e",
   "metadata": {},
   "outputs": [],
   "source": [
    "cModel.set_model(priors, consts, obs, time_step, x_init, noise, amplitude, offset, epsilon, shape)"
   ]
  },
  {
   "cell_type": "code",
   "execution_count": null,
   "id": "8175d648",
   "metadata": {
    "scrolled": false
   },
   "outputs": [],
   "source": [
    "c_data = cModel.run_inference(draws=draws, tune=tune, cores=1, target_accept=0.9)"
   ]
  },
  {
   "cell_type": "code",
   "execution_count": null,
   "id": "7d4730bc",
   "metadata": {},
   "outputs": [],
   "source": [
    "cModel.plot_posterior(init_params={\"a\": a_sim, \"b\": b_sim, \"c\": c_sim, \"d\": d_sim, \"I\": I_sim})"
   ]
  },
  {
   "cell_type": "code",
   "execution_count": null,
   "id": "0d2ae0aa",
   "metadata": {},
   "outputs": [],
   "source": [
    "posterior_x_obs = c_data.posterior_predictive.x_obs.values.reshape((draws + tune, *shape))"
   ]
  },
  {
   "cell_type": "code",
   "execution_count": null,
   "id": "257bd0ef",
   "metadata": {},
   "outputs": [],
   "source": [
    "f5 = plt.figure(figsize=(14,8))\n",
    "plt.plot(t, np.percentile(posterior_x_obs[:, :, 0, 0, 0], [2.5, 97.5], axis=0).T, \n",
    "         \"k\", label=r\"$V_{95\\% PP}(t)$\")\n",
    "plt.plot(t, np.percentile(posterior_x_obs[:, :, 1, 0, 0], [2.5, 97.5], axis=0).T, \n",
    "         \"k\", label=r\"$W_{95\\% PP}(t)$\")\n",
    "plt.plot(t, x_observed[:, 0, 0, 0], label=\"V_observed\")\n",
    "plt.plot(t, x_observed[:, 1, 0, 0], label=\"W_observed\")\n",
    "#plt.legend(fontsize=15)\n",
    "plt.xlabel(\"time (ms)\")\n",
    "plt.ylabel(\"states\")\n",
    "plt.show()"
   ]
  },
  {
   "cell_type": "code",
   "execution_count": null,
   "id": "eae56208",
   "metadata": {},
   "outputs": [],
   "source": [
    "criteria = cModel.model_criteria([\"WAIC\", \"LOO\"])"
   ]
  },
  {
   "cell_type": "code",
   "execution_count": null,
   "id": "27c18b4e",
   "metadata": {},
   "outputs": [],
   "source": [
    "print(\"WAIC: \", criteria[\"WAIC\"])\n",
    "print(\"LOO: \", criteria[\"LOO\"])"
   ]
  },
  {
   "cell_type": "code",
   "execution_count": null,
   "id": "804694fc",
   "metadata": {},
   "outputs": [],
   "source": [
    "log_likelihood = c_data.log_likelihood.x_obs.values.reshape((draws + tune, shape[0]))"
   ]
  },
  {
   "cell_type": "code",
   "execution_count": null,
   "id": "75e12292",
   "metadata": {},
   "outputs": [],
   "source": [
    "with cModel.pymc_model:\n",
    "    map_estimate = pm.find_MAP()"
   ]
  },
  {
   "cell_type": "code",
   "execution_count": null,
   "id": "a8f4d9fe",
   "metadata": {},
   "outputs": [],
   "source": [
    "map_estimate"
   ]
  },
  {
   "cell_type": "code",
   "execution_count": null,
   "id": "79a19ff4",
   "metadata": {},
   "outputs": [],
   "source": [
    "cModel.summary"
   ]
  },
  {
   "cell_type": "code",
   "execution_count": null,
   "id": "ad70f85c",
   "metadata": {},
   "outputs": [],
   "source": [
    "divergent = cModel.trace[\"diverging\"]\n",
    "print(\"Number of Divergent %d\" % divergent.nonzero()[0].size)\n",
    "divperc = divergent.nonzero()[0].size / len(cModel.trace) * 100\n",
    "print(\"Percentage of Divergent %.1f\" % divperc)\n",
    "print(\"Mean tree accept %.1f\" % cModel.trace['mean_tree_accept'].mean())"
   ]
  },
  {
   "cell_type": "code",
   "execution_count": null,
   "id": "260294ca",
   "metadata": {},
   "outputs": [],
   "source": []
  }
 ],
 "metadata": {
  "kernelspec": {
   "display_name": "Python 3 (ipykernel)",
   "language": "python",
   "name": "python3"
  },
  "language_info": {
   "codemirror_mode": {
    "name": "ipython",
    "version": 3
   },
   "file_extension": ".py",
   "mimetype": "text/x-python",
   "name": "python",
   "nbconvert_exporter": "python",
   "pygments_lexer": "ipython3",
   "version": "3.7.12"
  }
 },
 "nbformat": 4,
 "nbformat_minor": 5
}
