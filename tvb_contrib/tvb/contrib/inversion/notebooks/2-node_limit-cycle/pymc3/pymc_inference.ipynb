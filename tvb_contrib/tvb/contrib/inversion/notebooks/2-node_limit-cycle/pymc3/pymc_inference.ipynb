{
 "cells": [
  {
   "cell_type": "code",
   "execution_count": null,
   "id": "034c3c39",
   "metadata": {},
   "outputs": [],
   "source": [
    "from tvb.simulator.simulator import Simulator\n",
    "from tvb.datatypes.connectivity import Connectivity\n",
    "from tvb.contrib.inversion.pymcInference import NonCenteredModel\n",
    "\n",
    "import tvb.simulator.models\n",
    "import tvb.simulator.integrators\n",
    "import tvb.simulator.coupling\n",
    "import tvb.simulator.monitors\n",
    "\n",
    "import matplotlib.pyplot as plt\n",
    "import numpy as np\n",
    "import math\n",
    "import arviz as az\n",
    "import pymc3 as pm\n",
    "import scipy\n",
    "import theano.tensor as tt\n",
    "import theano\n",
    "import pickle\n",
    "\n",
    "%load_ext autoreload\n",
    "%autoreload 2"
   ]
  },
  {
   "cell_type": "code",
   "execution_count": null,
   "id": "588c5a9e",
   "metadata": {},
   "outputs": [],
   "source": [
    "with open('../limit-cycle_simulation.pkl', 'rb') as f:\n",
    "    simulation_params = pickle.load(f)"
   ]
  },
  {
   "cell_type": "code",
   "execution_count": null,
   "id": "398f87c3",
   "metadata": {},
   "outputs": [],
   "source": [
    "# Connectivity\n",
    "if simulation_params[\"connectivity\"] == \"Own\":\n",
    "    connectivity = Connectivity()\n",
    "    connectivity.weights = np.array([[0., 2/3], [2/3, 0.]])\n",
    "    connectivity.region_labels = np.array([\"R1\", \"R2\"])\n",
    "    connectivity.centres = np.array([[0.1, 0.1, 0.1], [0.2, 0.1, 0.1]])\n",
    "    connectivity.tract_lengths = np.array([[0., 0.1], [0.1, 0.]])\n",
    "    connectivity.configure()\n",
    "\n",
    "# Model\n",
    "oscillator_model = getattr(tvb.simulator.models, simulation_params[\"model\"])(\n",
    "    a=np.asarray([simulation_params[\"a_sim\"]]),\n",
    "    b=np.asarray([simulation_params[\"b_sim\"]]),\n",
    "    c=np.asarray([simulation_params[\"c_sim\"]]),\n",
    "    d=np.asarray([simulation_params[\"d_sim\"]]),\n",
    "    I=np.asarray([simulation_params[\"I_sim\"]]),\n",
    ")\n",
    "oscillator_model.configure()\n",
    "\n",
    "# Integrator\n",
    "integrator = getattr(tvb.simulator.integrators, simulation_params[\"integrator\"])(dt=simulation_params[\"dt\"])\n",
    "integrator.noise.nsig = np.array([simulation_params[\"nsig\"]])\n",
    "integrator.configure()\n",
    "\n",
    "# Global coupling\n",
    "coupling = getattr(tvb.simulator.coupling, simulation_params[\"coupling\"])()\n",
    "\n",
    "# Monitor\n",
    "monitor = getattr(tvb.simulator.monitors, simulation_params[\"monitor\"])()"
   ]
  },
  {
   "cell_type": "code",
   "execution_count": null,
   "id": "84ab570b",
   "metadata": {},
   "outputs": [],
   "source": [
    "# Simulator\n",
    "sim = Simulator(\n",
    "    model=oscillator_model,\n",
    "    connectivity=connectivity,\n",
    "    coupling=coupling,\n",
    "    integrator=integrator,\n",
    "    monitors=(monitor,),\n",
    "    simulation_length=simulation_params[\"simulation_length\"]\n",
    ")\n",
    "\n",
    "sim.configure()"
   ]
  },
  {
   "cell_type": "code",
   "execution_count": null,
   "id": "f897d1c5",
   "metadata": {},
   "outputs": [],
   "source": [
    "X = simulation_params[\"simulation\"]"
   ]
  },
  {
   "cell_type": "code",
   "execution_count": null,
   "id": "5ff9ad95",
   "metadata": {},
   "outputs": [],
   "source": [
    "f1 = plt.figure(figsize=(14,8))\n",
    "plt.plot(X[:, 0, 0, 0], label=\"R1\")\n",
    "plt.plot(X[:, 0, 1, 0], label=\"R2\")\n",
    "plt.ylabel(\"states\")\n",
    "plt.legend()\n",
    "plt.show()"
   ]
  },
  {
   "cell_type": "code",
   "execution_count": null,
   "id": "0c19f246",
   "metadata": {},
   "outputs": [],
   "source": [
    "# global inference parameters\n",
    "shape = X.shape\n",
    "draws = 1000\n",
    "tune = 1000"
   ]
  },
  {
   "cell_type": "code",
   "execution_count": null,
   "id": "be3e0ddb",
   "metadata": {},
   "outputs": [],
   "source": []
  }
 ],
 "metadata": {
  "kernelspec": {
   "display_name": "BrainSim-env",
   "language": "python",
   "name": "brainsim-env"
  },
  "language_info": {
   "codemirror_mode": {
    "name": "ipython",
    "version": 3
   },
   "file_extension": ".py",
   "mimetype": "text/x-python",
   "name": "python",
   "nbconvert_exporter": "python",
   "pygments_lexer": "ipython3",
   "version": "3.9.13"
  }
 },
 "nbformat": 4,
 "nbformat_minor": 5
}
