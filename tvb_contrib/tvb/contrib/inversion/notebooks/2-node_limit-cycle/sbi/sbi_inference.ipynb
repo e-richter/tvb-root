{
 "cells": [
  {
   "cell_type": "code",
   "execution_count": null,
   "id": "1d2314ce",
   "metadata": {},
   "outputs": [],
   "source": [
    "from tvb.simulator.simulator import Simulator\n",
    "from tvb.datatypes.connectivity import Connectivity\n",
    "from tvb.contrib.inversion.sbiInference import sbiModel\n",
    "\n",
    "import tvb.simulator.models\n",
    "import tvb.simulator.integrators\n",
    "import tvb.simulator.coupling\n",
    "import tvb.simulator.monitors\n",
    "\n",
    "import matplotlib.pyplot as plt\n",
    "import numpy as np\n",
    "import torch\n",
    "import math\n",
    "import arviz as az\n",
    "import pickle\n",
    "\n",
    "%load_ext autoreload\n",
    "%autoreload 2"
   ]
  },
  {
   "cell_type": "code",
   "execution_count": null,
   "id": "457258e9",
   "metadata": {},
   "outputs": [],
   "source": [
    "with open('../limit-cycle_simulation.pkl', 'rb') as f:\n",
    "    simulation_params = pickle.load(f)"
   ]
  },
  {
   "cell_type": "code",
   "execution_count": null,
   "id": "6840b7c7",
   "metadata": {},
   "outputs": [],
   "source": [
    "# Connectivity\n",
    "connectivity = Connectivity()\n",
    "connectivity.weights = np.array([[0., 2/3], [2/3, 0.]])\n",
    "connectivity.region_labels = np.array([\"R1\", \"R2\"])\n",
    "connectivity.centres = np.array([[0.1, 0.1, 0.1], [0.2, 0.1, 0.1]])\n",
    "connectivity.tract_lengths = np.array([[0., 0.1], [0.1, 0.]])\n",
    "connectivity.configure()\n",
    "\n",
    "# Model\n",
    "oscillator_model = getattr(tvb.simulator.models, simulation_params[\"model\"])(\n",
    "    a=np.asarray([simulation_params[\"a_sim\"]]),\n",
    "    b=np.asarray([simulation_params[\"b_sim\"]]),\n",
    "    c=np.asarray([simulation_params[\"c_sim\"]]),\n",
    "    d=np.asarray([simulation_params[\"d_sim\"]]),\n",
    "    I=np.asarray([simulation_params[\"I_sim\"]]),\n",
    ")\n",
    "oscillator_model.configure()\n",
    "\n",
    "# Integrator\n",
    "integrator = getattr(tvb.simulator.integrators, simulation_params[\"integrator\"])(dt=simulation_params[\"dt\"])\n",
    "integrator.noise.nsig = np.array([simulation_params[\"nsig\"]])\n",
    "integrator.configure()\n",
    "\n",
    "# Global coupling\n",
    "coupling = getattr(tvb.simulator.coupling, simulation_params[\"coupling\"])()\n",
    "\n",
    "# Monitor\n",
    "monitor = getattr(tvb.simulator.monitors, simulation_params[\"monitor\"])()"
   ]
  },
  {
   "cell_type": "code",
   "execution_count": null,
   "id": "ff37b45b",
   "metadata": {},
   "outputs": [],
   "source": [
    "# Simulator\n",
    "sim = Simulator(\n",
    "    model=oscillator_model,\n",
    "    connectivity=connectivity,\n",
    "    coupling=coupling,\n",
    "    integrator=integrator,\n",
    "    monitors=(monitor,),\n",
    "    simulation_length=simulation_params[\"simulation_length\"]\n",
    ")\n",
    "\n",
    "sim.configure()"
   ]
  },
  {
   "cell_type": "code",
   "execution_count": null,
   "id": "44bf9bdd",
   "metadata": {},
   "outputs": [],
   "source": [
    "X = simulation_params[\"simulation\"]"
   ]
  },
  {
   "cell_type": "code",
   "execution_count": null,
   "id": "161ce348",
   "metadata": {},
   "outputs": [],
   "source": [
    "f1 = plt.figure(figsize=(14,8))\n",
    "plt.plot(X[:, 0, 0, 0], label=\"R1\")\n",
    "plt.plot(X[:, 0, 1, 0], label=\"R2\")\n",
    "plt.ylabel(\"states\")\n",
    "plt.legend()\n",
    "plt.show()"
   ]
  },
  {
   "cell_type": "code",
   "execution_count": null,
   "id": "04ac576b",
   "metadata": {},
   "outputs": [],
   "source": [
    "obs = X\n",
    "\n",
    "#priors = {\n",
    "#    \"a\": [1.8, 2.2, False],\n",
    "#    \"b\": [-10.3, -9.7, False],\n",
    "#    \"c\": [-0.1, 0.1, False],\n",
    "#    \"d\": [0.01, 0.03, False],\n",
    "#    \"I\": [-0.1, 0.1, False],\n",
    "#    \"epsilon\": [0.0, 0.01, False]\n",
    "#}\n",
    "\n",
    "#priors = {\n",
    "#    \"a\": [2.0, 0.1, False],\n",
    "#    \"b\": [-10, 0.1, False],\n",
    "#    \"c\": [0.0, 0.05, False],\n",
    "#    \"d\": [0.02, 0.005, False],\n",
    "#    \"I\": [0.0, 0.05, False],\n",
    "#    \"epsilon\": [0.0, 0.01, False]\n",
    "#}\n",
    "\n",
    "#prior_vars = {\n",
    "#    \"a\": [2.0, 1.0, \"model\"],\n",
    "#    \"b\": [-10.0, 1.0, \"model\"],\n",
    "#    \"A\": [0.1, 0.05, \"coupling\"],\n",
    "#    \"epsilon\": [0.0, 0.01, \"gloabl\"]\n",
    "#}\n",
    "\n",
    "#prior_vars = {\n",
    "#    \"a\": {\"mean\": 2.0, \"sd\": 1.0, \"for\": \"model\"},\n",
    "#    \"b\": {\"mean\": -10.0, \"sd\": 1.0, \"for\": \"model\"},\n",
    "#    \"A\": {\"mean\": 0.1, \"sd\": 0.05, \"for\": \"coupling\"},\n",
    "#    \"epsilon\": {\"mean\": 0.0, \"sd\": 0.01, \"for\": \"global\"}\n",
    "#}\n",
    "\n",
    "prior_vars = {\n",
    "    \"model\": {\n",
    "        \"a\": [2.0, 0.5],\n",
    "        \"b\": [-10.0, 0.5]\n",
    "    },\n",
    "    \"coupling\": {\n",
    "        \"a\": [0.1, 0.075]\n",
    "    },\n",
    "    \"integrator.noise\" :{\n",
    "        \"nsig\": [0.003, 0.002]\n",
    "    },\n",
    "    \"global\": {\n",
    "        \"epsilon\": [0.0, 0.1]\n",
    "    },\n",
    "}\n",
    "\n",
    "shape = X.shape"
   ]
  },
  {
   "cell_type": "markdown",
   "id": "1baf114b",
   "metadata": {},
   "source": [
    "### SNPE inference"
   ]
  },
  {
   "cell_type": "code",
   "execution_count": null,
   "id": "54503b25",
   "metadata": {},
   "outputs": [],
   "source": [
    "snpe_model = sbiModel(\n",
    "    simulator_instance=sim,\n",
    "    method=\"SNPE\", \n",
    "    obs=obs\n",
    ")"
   ]
  },
  {
   "cell_type": "code",
   "execution_count": null,
   "id": "9e145b62",
   "metadata": {
    "scrolled": false
   },
   "outputs": [],
   "source": [
    "snpe_model.run_inference(\n",
    "    prior_vars=prior_vars,\n",
    "    prior_dist=\"Uniform\",\n",
    "    num_simulations=600, \n",
    "    num_workers=4, \n",
    "    num_samples=1000,\n",
    "    neural_net=\"mdn\"\n",
    ")"
   ]
  },
  {
   "cell_type": "code",
   "execution_count": null,
   "id": "54ba47d7",
   "metadata": {},
   "outputs": [],
   "source": [
    "inference_data = snpe_model.to_arviz_data(num_workers=4, save=True)"
   ]
  },
  {
   "cell_type": "code",
   "execution_count": null,
   "id": "2b2fb2d4",
   "metadata": {},
   "outputs": [],
   "source": [
    "snpe_model.plot_posterior_samples(\n",
    "    init_params={\"a_model\": 2.0, \n",
    "                 \"b_model\": -10.0, \n",
    "                 \"a_coupling\": 0.1, \n",
    "                 \"epsilon_global\": 0.0,\n",
    "                 \"amplitude_global\": 0.0,\n",
    "                 \"offset_global\": 0.0,\n",
    "                 \"nsig_integrator.noise\": 0.003}\n",
    ")"
   ]
  },
  {
   "cell_type": "code",
   "execution_count": null,
   "id": "c045c094",
   "metadata": {},
   "outputs": [],
   "source": [
    "map_estimator = snpe_model.get_map_estimator()\n",
    "map_estimator"
   ]
  },
  {
   "cell_type": "code",
   "execution_count": null,
   "id": "834b71ec",
   "metadata": {},
   "outputs": [],
   "source": [
    "posterior_sample = snpe_model.get_sample()[0]\n",
    "posterior_sample"
   ]
  },
  {
   "cell_type": "code",
   "execution_count": null,
   "id": "a846792f",
   "metadata": {},
   "outputs": [],
   "source": [
    "posterior_obs = snpe_model.simulation_wrapper(params=posterior_sample)\n",
    "posterior_obs = posterior_obs.numpy().reshape(shape, order=\"F\")"
   ]
  },
  {
   "cell_type": "code",
   "execution_count": null,
   "id": "324b18ad",
   "metadata": {},
   "outputs": [],
   "source": [
    "f3 = plt.figure(figsize=(13,8))\n",
    "plt.plot(snpe_model.inference_data.observed_data.x_obs.values[:, 0, 0, 0], label=\"R1_observed\", color=\"blue\")\n",
    "plt.plot(snpe_model.inference_data.observed_data.x_obs.values[:, 0, 1, 0], label=\"R2_observed\", color=\"red\")\n",
    "plt.plot(posterior_obs[:, 0, 0, 0], label=\"R1_posterior\", color=\"cyan\")\n",
    "plt.plot(posterior_obs[:, 0, 1, 0], label=\"R2_posterior\", color=\"orange\")\n",
    "plt.legend()\n",
    "plt.xlabel(\"time (ms)\")\n",
    "plt.ylabel(\"states\")\n",
    "plt.show()"
   ]
  },
  {
   "cell_type": "code",
   "execution_count": null,
   "id": "2bf3212a",
   "metadata": {},
   "outputs": [],
   "source": [
    "snpe_model.information_criteria()"
   ]
  },
  {
   "cell_type": "code",
   "execution_count": null,
   "id": "76b4d247",
   "metadata": {},
   "outputs": [],
   "source": [
    "snpe_model.save(simulation_params=simulation_params.copy())"
   ]
  },
  {
   "cell_type": "markdown",
   "id": "7b7d5c19",
   "metadata": {},
   "source": [
    "### SNLE inference"
   ]
  },
  {
   "cell_type": "code",
   "execution_count": null,
   "id": "4f4d9e71",
   "metadata": {},
   "outputs": [],
   "source": [
    "snle_model = sbiModel(\n",
    "    simulator_instance=sim,\n",
    "    method=\"SNLE\", \n",
    "    obs=obs, \n",
    "    prior_vars=priors,\n",
    "    prior_dist=\"Normal\",\n",
    ")"
   ]
  },
  {
   "cell_type": "code",
   "execution_count": null,
   "id": "14c35a49",
   "metadata": {},
   "outputs": [],
   "source": [
    "snle_model.run_inference(\n",
    "    num_simulations=800,\n",
    "    num_workers=4,\n",
    "    num_samples=2000\n",
    ")"
   ]
  },
  {
   "cell_type": "code",
   "execution_count": null,
   "id": "8b0fe421",
   "metadata": {},
   "outputs": [],
   "source": [
    "inference_data = snle_model.to_arviz_data(save=True)"
   ]
  },
  {
   "cell_type": "code",
   "execution_count": null,
   "id": "fe8fefa5",
   "metadata": {},
   "outputs": [],
   "source": [
    "snle_model.plot_posterior_samples(\n",
    "    init_params={\"a\": a_sim, \"b\": b_sim, \"c\": c_sim, \"d\": d_sim, \"I\": I_sim, \"epsilon\": 0.0},\n",
    "    bins=50\n",
    ")"
   ]
  },
  {
   "cell_type": "code",
   "execution_count": null,
   "id": "00ea9864",
   "metadata": {},
   "outputs": [],
   "source": [
    "map_estimator = snle_model.get_map_estimator()\n",
    "map_estimator"
   ]
  },
  {
   "cell_type": "code",
   "execution_count": null,
   "id": "9be108f1",
   "metadata": {},
   "outputs": [],
   "source": [
    "posterior_sample = snle_model.get_sample()[0]\n",
    "posterior_sample"
   ]
  },
  {
   "cell_type": "code",
   "execution_count": null,
   "id": "ae608bd7",
   "metadata": {},
   "outputs": [],
   "source": [
    "posterior_obs = snle_model.simulation_wrapper(params=posterior_sample)\n",
    "posterior_obs = posterior_obs.numpy().reshape(shape, order=\"F\")"
   ]
  },
  {
   "cell_type": "code",
   "execution_count": null,
   "id": "29b2d624",
   "metadata": {},
   "outputs": [],
   "source": [
    "f4 = plt.figure(figsize=(13,8))\n",
    "plt.plot(snle_model.inference_data.observed_data.x_obs.values[:, 0, 0, 0], label=\"V_simulated\", color=\"blue\")\n",
    "plt.plot(snle_model.inference_data.observed_data.x_obs.values[:, 1, 0, 0], label=\"W_simulated\", color=\"red\")\n",
    "plt.plot(posterior_obs[:, 0, 0, 0], label=\"V_posterior\", color=\"cyan\")\n",
    "plt.plot(posterior_obs[:, 1, 0, 0], label=\"W_posterior\", color=\"orange\")\n",
    "plt.legend()\n",
    "plt.xlabel(\"time (ms)\")\n",
    "plt.ylabel(\"states\")\n",
    "plt.show()"
   ]
  },
  {
   "cell_type": "code",
   "execution_count": null,
   "id": "293542ff",
   "metadata": {},
   "outputs": [],
   "source": [
    "snle_model.information_criteria()"
   ]
  },
  {
   "cell_type": "markdown",
   "id": "42ac763d",
   "metadata": {},
   "source": [
    "### SNRE inference"
   ]
  },
  {
   "cell_type": "code",
   "execution_count": null,
   "id": "15451ba8",
   "metadata": {},
   "outputs": [],
   "source": [
    "snre_model = sbiModel(\n",
    "    integrator_instance=integrator, \n",
    "    model_instance=oscillator_model, \n",
    "    method=\"SNRE\", \n",
    "    obs=obs, \n",
    "    priors=priors,\n",
    "    obs_shape=shape\n",
    ")"
   ]
  },
  {
   "cell_type": "code",
   "execution_count": null,
   "id": "da3c49ed",
   "metadata": {},
   "outputs": [],
   "source": [
    "snre_model.run_inference(\n",
    "    num_simulations=800,\n",
    "    num_workers=1,\n",
    "    num_samples=2000\n",
    ")"
   ]
  },
  {
   "cell_type": "code",
   "execution_count": null,
   "id": "e42614b9",
   "metadata": {},
   "outputs": [],
   "source": [
    "inference_data = snre_model.to_arviz_data(save=True)"
   ]
  },
  {
   "cell_type": "code",
   "execution_count": null,
   "id": "29742329",
   "metadata": {},
   "outputs": [],
   "source": [
    "snre_model.plot_posterior(\n",
    "    init_params={\"a\": a_sim, \"b\": b_sim, \"c\": c_sim, \"d\": d_sim, \"I\": I_sim, \"epsilon\": 0.0}\n",
    ")"
   ]
  },
  {
   "cell_type": "code",
   "execution_count": null,
   "id": "30620475",
   "metadata": {},
   "outputs": [],
   "source": [
    "map_estimator = snre_model.get_map_estimator()\n",
    "map_estimator"
   ]
  },
  {
   "cell_type": "code",
   "execution_count": null,
   "id": "86636ad1",
   "metadata": {},
   "outputs": [],
   "source": [
    "posterior_sample = snre_model.get_sample()[0]\n",
    "posterior_sample"
   ]
  },
  {
   "cell_type": "code",
   "execution_count": null,
   "id": "2f7fcbbb",
   "metadata": {},
   "outputs": [],
   "source": [
    "posterior_obs = snre_model.simulation_wrapper(params=map_estimator)\n",
    "posterior_obs = posterior_obs.numpy().reshape(shape, order=\"F\")"
   ]
  },
  {
   "cell_type": "code",
   "execution_count": null,
   "id": "4d5f0746",
   "metadata": {},
   "outputs": [],
   "source": [
    "f4 = plt.figure(figsize=(13,8))\n",
    "plt.plot(snre_model.inference_data.observed_data.x_obs.values[:, 0, 0, 0], label=\"V_simulated\", color=\"blue\")\n",
    "plt.plot(snre_model.inference_data.observed_data.x_obs.values[:, 1, 0, 0], label=\"W_simulated\", color=\"red\")\n",
    "plt.plot(posterior_obs[:, 0, 0, 0], label=\"V_posterior\", color=\"cyan\")\n",
    "plt.plot(posterior_obs[:, 1, 0, 0], label=\"W_posterior\", color=\"orange\")\n",
    "plt.legend()\n",
    "plt.xlabel(\"time (ms)\")\n",
    "plt.ylabel(\"states\")\n",
    "plt.show()"
   ]
  },
  {
   "cell_type": "code",
   "execution_count": null,
   "id": "e1987897",
   "metadata": {},
   "outputs": [],
   "source": [
    "snre_model.information_criteria()"
   ]
  },
  {
   "cell_type": "code",
   "execution_count": null,
   "id": "93a6f550",
   "metadata": {},
   "outputs": [],
   "source": []
  }
 ],
 "metadata": {
  "kernelspec": {
   "display_name": "BrainSim-env",
   "language": "python",
   "name": "brainsim-env"
  },
  "language_info": {
   "codemirror_mode": {
    "name": "ipython",
    "version": 3
   },
   "file_extension": ".py",
   "mimetype": "text/x-python",
   "name": "python",
   "nbconvert_exporter": "python",
   "pygments_lexer": "ipython3",
   "version": "3.9.12"
  }
 },
 "nbformat": 4,
 "nbformat_minor": 5
}
