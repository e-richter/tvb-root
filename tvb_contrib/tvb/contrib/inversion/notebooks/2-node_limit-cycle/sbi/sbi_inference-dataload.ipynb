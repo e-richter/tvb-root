{
 "cells": [
  {
   "cell_type": "code",
   "execution_count": null,
   "id": "357c7d55",
   "metadata": {},
   "outputs": [],
   "source": [
    "from tvb.simulator.models.oscillator import Generic2dOscillator\n",
    "from tvb.simulator.integrators import HeunStochastic\n",
    "from tvb.simulator.simulator import Simulator\n",
    "from tvb.simulator.coupling import Linear\n",
    "from tvb.simulator.monitors import Raw, TemporalAverage\n",
    "from tvb.datatypes.connectivity import Connectivity\n",
    "from tvb.contrib.inversion.sbiInference import sbiModel\n",
    "\n",
    "import matplotlib.pyplot as plt\n",
    "import numpy as np\n",
    "import torch\n",
    "import math\n",
    "import arviz as az\n",
    "import pickle\n",
    "\n",
    "%load_ext autoreload\n",
    "%autoreload 2"
   ]
  },
  {
   "cell_type": "code",
   "execution_count": null,
   "id": "2a6927d5",
   "metadata": {},
   "outputs": [],
   "source": [
    "# Simulation parameters\n",
    "a_sim = 2.0\n",
    "b_sim = -10.0\n",
    "c_sim = 0.0\n",
    "d_sim = 0.02\n",
    "I_sim = 0.0\n",
    "nsig = 0.003\n",
    "dt = 1.0\n",
    "simulation_length = 1000"
   ]
  },
  {
   "cell_type": "code",
   "execution_count": null,
   "id": "67da597e",
   "metadata": {},
   "outputs": [],
   "source": [
    "# Connectivity\n",
    "connectivity = Connectivity()\n",
    "connectivity.weights = np.array([[0., 2/3], [2/3, 0.]])\n",
    "connectivity.region_labels = np.array([\"R1\", \"R2\"])\n",
    "connectivity.centres = np.array([[0.1, 0.1, 0.1], [0.2, 0.1, 0.1]])\n",
    "connectivity.tract_lengths = np.array([[0., 0.1], [0.1, 0.]])\n",
    "connectivity.configure()\n",
    "\n",
    "# Model\n",
    "oscillator_model = Generic2dOscillator(\n",
    "    a=np.asarray([a_sim]),\n",
    "    b=np.asarray([b_sim]),\n",
    "    c=np.asarray([c_sim]),\n",
    "    d=np.asarray([d_sim]),\n",
    "    I=np.asarray([I_sim]),\n",
    ")\n",
    "oscillator_model.configure()\n",
    "\n",
    "# Integrator\n",
    "integrator = HeunStochastic(dt=dt)\n",
    "integrator.noise.nsig = np.array([nsig])\n",
    "integrator.configure()\n",
    "\n",
    "# Global coupling\n",
    "coupling = Linear()\n",
    "\n",
    "# Monitor\n",
    "monitor = TemporalAverage()"
   ]
  },
  {
   "cell_type": "code",
   "execution_count": null,
   "id": "1d876d95",
   "metadata": {},
   "outputs": [],
   "source": [
    "# Simulator\n",
    "sim = Simulator(\n",
    "    model=oscillator_model,\n",
    "    connectivity=connectivity,\n",
    "    coupling=coupling,\n",
    "    integrator=integrator,\n",
    "    monitors=(monitor,),\n",
    "    simulation_length=simulation_length\n",
    ")\n",
    "\n",
    "sim.configure()"
   ]
  },
  {
   "cell_type": "code",
   "execution_count": null,
   "id": "372782b1",
   "metadata": {},
   "outputs": [],
   "source": [
    "X = np.load(\"../limit-cycle_simulation.npy\")"
   ]
  },
  {
   "cell_type": "code",
   "execution_count": null,
   "id": "c15cf283",
   "metadata": {},
   "outputs": [],
   "source": [
    "X.shape"
   ]
  },
  {
   "cell_type": "code",
   "execution_count": null,
   "id": "833dafae",
   "metadata": {},
   "outputs": [],
   "source": [
    "f1 = plt.figure(figsize=(14,8))\n",
    "plt.plot(X[:, 0, 0, 0], label=\"R1\")\n",
    "plt.plot(X[:, 0, 1, 0], label=\"R2\")\n",
    "plt.ylabel(\"states\")\n",
    "plt.legend()\n",
    "plt.show()"
   ]
  },
  {
   "cell_type": "markdown",
   "id": "cf4ee990",
   "metadata": {},
   "source": [
    "### SNPE inference"
   ]
  },
  {
   "cell_type": "code",
   "execution_count": null,
   "id": "d26971c6",
   "metadata": {},
   "outputs": [],
   "source": [
    "snpe_model = sbiModel(\n",
    "    simulator_instance=sim,\n",
    "    method=\"SNPE\", \n",
    "    obs=X\n",
    ")"
   ]
  },
  {
   "cell_type": "code",
   "execution_count": null,
   "id": "e8b98df2",
   "metadata": {},
   "outputs": [],
   "source": [
    "snpe_model.load(\"2022-07-29_1430_instance.pkl\")"
   ]
  },
  {
   "cell_type": "code",
   "execution_count": null,
   "id": "1b4fd9ed",
   "metadata": {},
   "outputs": [],
   "source": [
    "snpe_model.plot_posterior_samples(\n",
    "    init_params={\"a\": a_sim, \"b\": b_sim, \"c\": c_sim, \"d\": d_sim, \"I\": I_sim, \"epsilon\": 0.0}\n",
    ")"
   ]
  },
  {
   "cell_type": "code",
   "execution_count": null,
   "id": "d1ef91ef",
   "metadata": {},
   "outputs": [],
   "source": [
    "map_estimator = snpe_model.get_map_estimator()\n",
    "map_estimator"
   ]
  },
  {
   "cell_type": "code",
   "execution_count": null,
   "id": "be377371",
   "metadata": {},
   "outputs": [],
   "source": [
    "posterior_sample = snpe_model.get_sample()[0]\n",
    "posterior_sample"
   ]
  },
  {
   "cell_type": "code",
   "execution_count": null,
   "id": "38216af7",
   "metadata": {},
   "outputs": [],
   "source": [
    "posterior_obs = snpe_model.simulation_wrapper(params=posterior_sample)\n",
    "posterior_obs = posterior_obs.numpy().reshape(shape, order=\"F\")"
   ]
  },
  {
   "cell_type": "code",
   "execution_count": null,
   "id": "c07a3895",
   "metadata": {},
   "outputs": [],
   "source": [
    "f3 = plt.figure(figsize=(13,8))\n",
    "plt.plot(snpe_model.inference_data.observed_data.x_obs.values[:, 0, 0, 0], label=\"R1_observed\", color=\"blue\")\n",
    "plt.plot(snpe_model.inference_data.observed_data.x_obs.values[:, 0, 1, 0], label=\"R2_observed\", color=\"red\")\n",
    "plt.plot(posterior_obs[:, 0, 0, 0], label=\"R1_posterior\", color=\"cyan\")\n",
    "plt.plot(posterior_obs[:, 0, 1, 0], label=\"R2_posterior\", color=\"orange\")\n",
    "plt.legend()\n",
    "plt.xlabel(\"time (ms)\")\n",
    "plt.ylabel(\"states\")\n",
    "plt.show()"
   ]
  },
  {
   "cell_type": "code",
   "execution_count": null,
   "id": "75b2acd8",
   "metadata": {},
   "outputs": [],
   "source": [
    "snpe_model.information_criteria()"
   ]
  },
  {
   "cell_type": "code",
   "execution_count": null,
   "id": "62641213",
   "metadata": {},
   "outputs": [],
   "source": [
    "#snpe_model.save()"
   ]
  },
  {
   "cell_type": "markdown",
   "id": "2734170b",
   "metadata": {},
   "source": [
    "### SNLE inference"
   ]
  },
  {
   "cell_type": "code",
   "execution_count": null,
   "id": "4f5455fb",
   "metadata": {},
   "outputs": [],
   "source": [
    "snle_model = sbiModel(\n",
    "    simulator_instance=sim,\n",
    "    method=\"SNLE\", \n",
    "    obs=obs, \n",
    "    prior_vars=priors,\n",
    "    prior_dist=\"Normal\",\n",
    ")"
   ]
  },
  {
   "cell_type": "code",
   "execution_count": null,
   "id": "ad004530",
   "metadata": {},
   "outputs": [],
   "source": [
    "snle_model.run_inference(\n",
    "    num_simulations=800,\n",
    "    num_workers=4,\n",
    "    num_samples=2000\n",
    ")"
   ]
  },
  {
   "cell_type": "code",
   "execution_count": null,
   "id": "7ec8b791",
   "metadata": {},
   "outputs": [],
   "source": [
    "inference_data = snle_model.to_arviz_data(save=True)"
   ]
  },
  {
   "cell_type": "code",
   "execution_count": null,
   "id": "365ffaac",
   "metadata": {},
   "outputs": [],
   "source": [
    "snle_model.plot_posterior_samples(\n",
    "    init_params={\"a\": a_sim, \"b\": b_sim, \"c\": c_sim, \"d\": d_sim, \"I\": I_sim, \"epsilon\": 0.0},\n",
    "    bins=50\n",
    ")"
   ]
  },
  {
   "cell_type": "code",
   "execution_count": null,
   "id": "b35cf02f",
   "metadata": {},
   "outputs": [],
   "source": [
    "map_estimator = snle_model.get_map_estimator()\n",
    "map_estimator"
   ]
  },
  {
   "cell_type": "code",
   "execution_count": null,
   "id": "e8f356d8",
   "metadata": {},
   "outputs": [],
   "source": [
    "posterior_sample = snle_model.get_sample()[0]\n",
    "posterior_sample"
   ]
  },
  {
   "cell_type": "code",
   "execution_count": null,
   "id": "d00f1e5c",
   "metadata": {},
   "outputs": [],
   "source": [
    "posterior_obs = snle_model.simulation_wrapper(params=posterior_sample)\n",
    "posterior_obs = posterior_obs.numpy().reshape(shape, order=\"F\")"
   ]
  },
  {
   "cell_type": "code",
   "execution_count": null,
   "id": "ae3b5600",
   "metadata": {},
   "outputs": [],
   "source": [
    "f4 = plt.figure(figsize=(13,8))\n",
    "plt.plot(snle_model.inference_data.observed_data.x_obs.values[:, 0, 0, 0], label=\"V_simulated\", color=\"blue\")\n",
    "plt.plot(snle_model.inference_data.observed_data.x_obs.values[:, 1, 0, 0], label=\"W_simulated\", color=\"red\")\n",
    "plt.plot(posterior_obs[:, 0, 0, 0], label=\"V_posterior\", color=\"cyan\")\n",
    "plt.plot(posterior_obs[:, 1, 0, 0], label=\"W_posterior\", color=\"orange\")\n",
    "plt.legend()\n",
    "plt.xlabel(\"time (ms)\")\n",
    "plt.ylabel(\"states\")\n",
    "plt.show()"
   ]
  },
  {
   "cell_type": "code",
   "execution_count": null,
   "id": "6797e94a",
   "metadata": {},
   "outputs": [],
   "source": [
    "snle_model.information_criteria()"
   ]
  },
  {
   "cell_type": "markdown",
   "id": "56cc1e9e",
   "metadata": {},
   "source": [
    "### SNRE inference"
   ]
  },
  {
   "cell_type": "code",
   "execution_count": null,
   "id": "228b05c8",
   "metadata": {},
   "outputs": [],
   "source": [
    "snre_model = sbiModel(\n",
    "    integrator_instance=integrator, \n",
    "    model_instance=oscillator_model, \n",
    "    method=\"SNRE\", \n",
    "    obs=obs, \n",
    "    priors=priors,\n",
    "    obs_shape=shape\n",
    ")"
   ]
  },
  {
   "cell_type": "code",
   "execution_count": null,
   "id": "5206afcd",
   "metadata": {},
   "outputs": [],
   "source": [
    "snre_model.run_inference(\n",
    "    num_simulations=800,\n",
    "    num_workers=1,\n",
    "    num_samples=2000\n",
    ")"
   ]
  },
  {
   "cell_type": "code",
   "execution_count": null,
   "id": "59b1f57e",
   "metadata": {},
   "outputs": [],
   "source": [
    "inference_data = snre_model.to_arviz_data(save=True)"
   ]
  },
  {
   "cell_type": "code",
   "execution_count": null,
   "id": "04b8c70f",
   "metadata": {},
   "outputs": [],
   "source": [
    "snre_model.plot_posterior(\n",
    "    init_params={\"a\": a_sim, \"b\": b_sim, \"c\": c_sim, \"d\": d_sim, \"I\": I_sim, \"epsilon\": 0.0}\n",
    ")"
   ]
  },
  {
   "cell_type": "code",
   "execution_count": null,
   "id": "c31314f2",
   "metadata": {},
   "outputs": [],
   "source": [
    "map_estimator = snre_model.get_map_estimator()\n",
    "map_estimator"
   ]
  },
  {
   "cell_type": "code",
   "execution_count": null,
   "id": "717f6196",
   "metadata": {},
   "outputs": [],
   "source": [
    "posterior_sample = snre_model.get_sample()[0]\n",
    "posterior_sample"
   ]
  },
  {
   "cell_type": "code",
   "execution_count": null,
   "id": "202c9da3",
   "metadata": {},
   "outputs": [],
   "source": [
    "posterior_obs = snre_model.simulation_wrapper(params=map_estimator)\n",
    "posterior_obs = posterior_obs.numpy().reshape(shape, order=\"F\")"
   ]
  },
  {
   "cell_type": "code",
   "execution_count": null,
   "id": "901d5786",
   "metadata": {},
   "outputs": [],
   "source": [
    "f4 = plt.figure(figsize=(13,8))\n",
    "plt.plot(snre_model.inference_data.observed_data.x_obs.values[:, 0, 0, 0], label=\"V_simulated\", color=\"blue\")\n",
    "plt.plot(snre_model.inference_data.observed_data.x_obs.values[:, 1, 0, 0], label=\"W_simulated\", color=\"red\")\n",
    "plt.plot(posterior_obs[:, 0, 0, 0], label=\"V_posterior\", color=\"cyan\")\n",
    "plt.plot(posterior_obs[:, 1, 0, 0], label=\"W_posterior\", color=\"orange\")\n",
    "plt.legend()\n",
    "plt.xlabel(\"time (ms)\")\n",
    "plt.ylabel(\"states\")\n",
    "plt.show()"
   ]
  },
  {
   "cell_type": "code",
   "execution_count": null,
   "id": "3f76c0f0",
   "metadata": {},
   "outputs": [],
   "source": [
    "snre_model.information_criteria()"
   ]
  },
  {
   "cell_type": "code",
   "execution_count": null,
   "id": "d2ac0660",
   "metadata": {},
   "outputs": [],
   "source": []
  }
 ],
 "metadata": {
  "kernelspec": {
   "display_name": "BrainSim-env",
   "language": "python",
   "name": "brainsim-env"
  },
  "language_info": {
   "codemirror_mode": {
    "name": "ipython",
    "version": 3
   },
   "file_extension": ".py",
   "mimetype": "text/x-python",
   "name": "python",
   "nbconvert_exporter": "python",
   "pygments_lexer": "ipython3",
   "version": "3.9.12"
  }
 },
 "nbformat": 4,
 "nbformat_minor": 5
}
