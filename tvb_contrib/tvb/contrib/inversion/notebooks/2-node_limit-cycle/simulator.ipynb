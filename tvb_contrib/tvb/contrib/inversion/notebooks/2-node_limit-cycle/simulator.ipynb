{
 "cells": [
  {
   "cell_type": "code",
   "execution_count": null,
   "id": "5e78b88f",
   "metadata": {},
   "outputs": [],
   "source": [
    "from tvb.simulator.simulator import Simulator\n",
    "\n",
    "import tvb.simulator.models\n",
    "import tvb.simulator.integrators\n",
    "import tvb.simulator.coupling\n",
    "import tvb.simulator.monitors\n",
    "\n",
    "from tvb.simulator.models.oscillator import Generic2dOscillator\n",
    "from tvb.simulator.integrators import HeunStochastic\n",
    "from tvb.simulator.coupling import Linear\n",
    "from tvb.simulator.monitors import Raw, TemporalAverage\n",
    "from tvb.datatypes.connectivity import Connectivity\n",
    "\n",
    "import matplotlib.pyplot as plt\n",
    "import numpy as np\n",
    "import math\n",
    "import pickle"
   ]
  },
  {
   "cell_type": "code",
   "execution_count": null,
   "id": "336e8102",
   "metadata": {},
   "outputs": [],
   "source": [
    "simulator_setup = {\n",
    "    \"connectivity\": \"Own\",\n",
    "    \"model\": \"Generic2dOscillator\",\n",
    "    \"integrator\": \"HeunStochastic\",\n",
    "    \"coupling\": \"Difference\",\n",
    "    \"monitor\": \"Raw\",\n",
    "}"
   ]
  },
  {
   "cell_type": "code",
   "execution_count": null,
   "id": "6b125fb5",
   "metadata": {},
   "outputs": [],
   "source": [
    "# Parameters\n",
    "simulator_params = {\n",
    "    \"a_sim\": 2.0,\n",
    "    \"b_sim\": -10.0,\n",
    "    \"c_sim\": 0.0,\n",
    "    \"d_sim\": 0.02,\n",
    "    \"I_sim\": 0.0,\n",
    "    \"nsig\": 0.003,\n",
    "    \"dt\": 1.0,\n",
    "    \"simulation_length\": 1000\n",
    "}"
   ]
  },
  {
   "cell_type": "code",
   "execution_count": null,
   "id": "809d169b",
   "metadata": {},
   "outputs": [],
   "source": [
    "connectivity = Connectivity()\n",
    "connectivity.weights = np.array([[0., 2/3], [2/3, 0.]])\n",
    "connectivity.region_labels = np.array([\"R1\", \"R2\"])\n",
    "connectivity.centres = np.array([[0.1, 0.1, 0.1], [0.2, 0.1, 0.1]])\n",
    "connectivity.tract_lengths = np.array([[0., 0.1], [0.1, 0.]])\n",
    "connectivity.configure()"
   ]
  },
  {
   "cell_type": "code",
   "execution_count": null,
   "id": "157ca9d8",
   "metadata": {},
   "outputs": [],
   "source": [
    "oscillator_model = getattr(tvb.simulator.models, simulator_setup[\"model\"])(\n",
    "    a=np.asarray([simulator_params[\"a_sim\"]]),\n",
    "    b=np.asarray([simulator_params[\"b_sim\"]]),\n",
    "    c=np.asarray([simulator_params[\"c_sim\"]]),\n",
    "    d=np.asarray([simulator_params[\"d_sim\"]]),\n",
    "    I=np.asarray([simulator_params[\"I_sim\"]]),\n",
    ")\n",
    "oscillator_model.configure()"
   ]
  },
  {
   "cell_type": "code",
   "execution_count": null,
   "id": "154abeda",
   "metadata": {},
   "outputs": [],
   "source": [
    "integrator = getattr(tvb.simulator.integrators, simulator_setup[\"integrator\"])(dt=simulator_params[\"dt\"])\n",
    "integrator.noise.nsig = np.array([simulator_params[\"nsig\"]])\n",
    "integrator.configure()"
   ]
  },
  {
   "cell_type": "code",
   "execution_count": null,
   "id": "af918005",
   "metadata": {},
   "outputs": [],
   "source": [
    "coupling = getattr(tvb.simulator.coupling, simulator_setup[\"coupling\"])()"
   ]
  },
  {
   "cell_type": "code",
   "execution_count": null,
   "id": "610950d7",
   "metadata": {},
   "outputs": [],
   "source": [
    "monitor = getattr(tvb.simulator.monitors, simulator_setup[\"monitor\"])()"
   ]
  },
  {
   "cell_type": "code",
   "execution_count": null,
   "id": "c212b73a",
   "metadata": {},
   "outputs": [],
   "source": [
    "sim = Simulator(\n",
    "    model=oscillator_model,\n",
    "    connectivity=connectivity,\n",
    "    coupling=coupling,\n",
    "    integrator=integrator,\n",
    "    monitors=(monitor,),\n",
    "    simulation_length=simulator_params[\"simulation_length\"]\n",
    ")"
   ]
  },
  {
   "cell_type": "code",
   "execution_count": null,
   "id": "0aa015b9",
   "metadata": {},
   "outputs": [],
   "source": [
    "sim.configure()"
   ]
  },
  {
   "cell_type": "code",
   "execution_count": null,
   "id": "4876d703",
   "metadata": {},
   "outputs": [],
   "source": [
    "(t, X), = sim.run()"
   ]
  },
  {
   "cell_type": "code",
   "execution_count": null,
   "id": "e51ffc1b",
   "metadata": {},
   "outputs": [],
   "source": [
    "f1 = plt.figure(figsize=(14,8))\n",
    "plt.plot(t, X[:, 0, 0, 0], label=\"R1\")\n",
    "plt.plot(t, X[:, 0, 1, 0], label=\"R2\")\n",
    "plt.xlabel(\"time (ms)\")\n",
    "plt.ylabel(\"states\")\n",
    "plt.legend()\n",
    "plt.show()"
   ]
  },
  {
   "cell_type": "code",
   "execution_count": null,
   "id": "471662b8",
   "metadata": {},
   "outputs": [],
   "source": [
    "with open(\"limit-cycle_simulation.pkl\", \"wb\") as f:\n",
    "    pickle.dump({**simulator_setup, **simulator_params, \"simulation\": X}, f)"
   ]
  },
  {
   "cell_type": "code",
   "execution_count": null,
   "id": "7b1250d9",
   "metadata": {},
   "outputs": [],
   "source": [
    "#np.save(f\"limit-cycle_simulation\", X)"
   ]
  },
  {
   "cell_type": "code",
   "execution_count": null,
   "id": "d7febd6b",
   "metadata": {},
   "outputs": [],
   "source": []
  }
 ],
 "metadata": {
  "kernelspec": {
   "display_name": "BrainSim-env",
   "language": "python",
   "name": "brainsim-env"
  },
  "language_info": {
   "codemirror_mode": {
    "name": "ipython",
    "version": 3
   },
   "file_extension": ".py",
   "mimetype": "text/x-python",
   "name": "python",
   "nbconvert_exporter": "python",
   "pygments_lexer": "ipython3",
   "version": "3.9.12"
  }
 },
 "nbformat": 4,
 "nbformat_minor": 5
}
