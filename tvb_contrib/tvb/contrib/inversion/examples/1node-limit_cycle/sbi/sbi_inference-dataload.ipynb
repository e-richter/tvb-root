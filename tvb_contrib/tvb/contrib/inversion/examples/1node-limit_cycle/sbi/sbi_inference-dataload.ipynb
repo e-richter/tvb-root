{
 "cells": [
  {
   "cell_type": "code",
   "execution_count": null,
   "id": "7fbb3ddc",
   "metadata": {},
   "outputs": [],
   "source": [
    "from tvb.simulator.simulator import Simulator\n",
    "from tvb.datatypes.connectivity import Connectivity\n",
    "from tvb.contrib.inversion.sbiInference import sbiModel\n",
    "\n",
    "import tvb.simulator.models\n",
    "import tvb.simulator.integrators\n",
    "import tvb.simulator.coupling\n",
    "import tvb.simulator.monitors\n",
    "\n",
    "import matplotlib.pyplot as plt\n",
    "import numpy as np\n",
    "import torch\n",
    "import math\n",
    "import arviz as az\n",
    "import pickle\n",
    "\n",
    "%load_ext autoreload\n",
    "%autoreload 2"
   ]
  },
  {
   "cell_type": "code",
   "execution_count": null,
   "id": "4935f335",
   "metadata": {},
   "outputs": [],
   "source": [
    "run_ids = [\n",
    "    \"\"\n",
    "]"
   ]
  },
  {
   "cell_type": "code",
   "execution_count": null,
   "id": "5ded5da8",
   "metadata": {},
   "outputs": [],
   "source": [
    "with open(f\"sbi_data/inference_data/{run_ids[0]}.pkl\", \"rb\") as f:\n",
    "    instance_params = pickle.load(f)\n",
    "    simulation_params = instance_params[\"simulation_params\"]"
   ]
  },
  {
   "cell_type": "code",
   "execution_count": null,
   "id": "cf32ba9d",
   "metadata": {},
   "outputs": [],
   "source": [
    "# Model\n",
    "oscillator_model = getattr(tvb.simulator.models, simulation_params[\"model\"])(\n",
    "    a=np.asarray([simulation_params[\"a_sim\"]]),\n",
    "    b=np.asarray([simulation_params[\"b_sim\"]]),\n",
    "    c=np.asarray([simulation_params[\"c_sim\"]]),\n",
    "    d=np.asarray([simulation_params[\"d_sim\"]]),\n",
    "    I=np.asarray([simulation_params[\"I_sim\"]]),\n",
    ")\n",
    "oscillator_model.configure()\n",
    "\n",
    "# Integrator\n",
    "integrator = getattr(tvb.simulator.integrators, simulation_params[\"integrator\"])(dt=simulation_params[\"dt\"])\n",
    "integrator.noise.nsig = np.array([simulation_params[\"nsig\"]])\n",
    "integrator.noise.configure()\n",
    "integrator.noise.configure_white(dt=integrator.dt)\n",
    "integrator.set_random_state(random_state=None)\n",
    "integrator.configure()\n",
    "integrator.configure_boundaries(oscillator_model)"
   ]
  },
  {
   "cell_type": "code",
   "execution_count": null,
   "id": "74583374",
   "metadata": {},
   "outputs": [],
   "source": [
    "X = instance_params[\"obs\"]"
   ]
  },
  {
   "cell_type": "code",
   "execution_count": null,
   "id": "4b5f401d",
   "metadata": {},
   "outputs": [],
   "source": [
    "f1 = plt.figure(figsize=(14,8))\n",
    "plt.plot(X[:, 0, 0, 0], label=\"Region 1\")\n",
    "plt.plot(X[:, 0, 1, 0], label=\"Region 2\")\n",
    "plt.ylabel(\"states\", fontsize=16)\n",
    "plt.xlabel(\"time (ms)\", fontsize=16)\n",
    "plt.legend(fontsize=16)\n",
    "plt.xticks(fontsize=16)\n",
    "plt.yticks(fontsize=16)\n",
    "plt.show()"
   ]
  },
  {
   "cell_type": "markdown",
   "id": "05cd02ce",
   "metadata": {},
   "source": [
    "### SNPE inference"
   ]
  },
  {
   "cell_type": "code",
   "execution_count": null,
   "id": "e538706d",
   "metadata": {},
   "outputs": [],
   "source": [
    "snpe_model = sbiModel(\n",
    "    method=\"SNPE\", \n",
    "    obs=X,\n",
    "    model_instance=oscillator_model,\n",
    "    integrator_instance=integrator\n",
    ")"
   ]
  },
  {
   "cell_type": "code",
   "execution_count": null,
   "id": "abc0d1a7",
   "metadata": {},
   "outputs": [],
   "source": [
    "snpe_model.load(f\"{run_ids[0]}.pkl\")"
   ]
  },
  {
   "cell_type": "code",
   "execution_count": null,
   "id": "64425879",
   "metadata": {},
   "outputs": [],
   "source": [
    "snpe_model.plot_posterior_samples(\n",
    "    init_params={\"a_model\": simulation_params[\"a_sim\"],\n",
    "                 \"nsig_integrator.noise\": 0.003,\n",
    "                 \"epsilon_global\": 0.0}\n",
    ")"
   ]
  },
  {
   "cell_type": "code",
   "execution_count": null,
   "id": "62f38c58",
   "metadata": {},
   "outputs": [],
   "source": [
    "print(\"posterior std dev:\", snpe_model.posterior_samples.std(dim=0).numpy())\n",
    "print(\"prior std dev:\", torch.diag(snpe_model.priors.scale_tril).numpy())\n",
    "print(\"shrinkages:\", snpe_model.posterior_shrinkage().numpy())"
   ]
  },
  {
   "cell_type": "code",
   "execution_count": null,
   "id": "63b545fa",
   "metadata": {},
   "outputs": [],
   "source": [
    "f2 = plt.figure(figsize=(12,8))\n",
    "plt.plot(snpe_model.posterior_shrinkage(), snpe_model.posterior_zscore(), \n",
    "         color=\"blue\", linewidth=0, marker=\"*\", markersize=12)"
   ]
  },
  {
   "cell_type": "code",
   "execution_count": null,
   "id": "1b5e5cf0",
   "metadata": {},
   "outputs": [],
   "source": [
    "posterior_sample = snpe_model.get_sample()[0]\n",
    "posterior_sample"
   ]
  },
  {
   "cell_type": "code",
   "execution_count": null,
   "id": "a8bc494e",
   "metadata": {},
   "outputs": [],
   "source": [
    "posterior_obs = snpe_model.simulation_wrapper(params=posterior_sample)\n",
    "posterior_obs = posterior_obs.numpy().reshape(X.shape, order=\"F\")"
   ]
  },
  {
   "cell_type": "code",
   "execution_count": null,
   "id": "d5985cbb",
   "metadata": {},
   "outputs": [],
   "source": [
    "f3, axes3 = plt.subplots(nrows=2, ncols=1, figsize=(18,15))\n",
    "axes3[0].plot(snpe_model.inference_data.observed_data.x_obs.values[:, 0, 0, 0], label=\"R1_observed\", color=\"blue\")\n",
    "axes3[0].plot(posterior_obs[:, 0, 0, 0], label=\"R1_posterior\", color=\"cyan\")\n",
    "axes3[0].legend(fontsize=16)\n",
    "axes3[0].set_xlabel(\"time (ms)\", fontsize=16)\n",
    "axes3[0].tick_params(axis=\"both\", labelsize=16)\n",
    "\n",
    "axes3[1].plot(snpe_model.inference_data.observed_data.x_obs.values[:, 0, 1, 0], label=\"R2_observed\", color=\"red\")\n",
    "axes3[1].plot(posterior_obs[:, 0, 1, 0], label=\"R2_posterior\", color=\"orange\")\n",
    "axes3[1].legend(fontsize=16)\n",
    "axes3[1].set_xlabel(\"time (ms)\", fontsize=16)\n",
    "axes3[1].tick_params(axis=\"both\", labelsize=16)\n",
    "\n",
    "plt.show()"
   ]
  },
  {
   "cell_type": "code",
   "execution_count": null,
   "id": "e09bd04e",
   "metadata": {},
   "outputs": [],
   "source": [
    "#snpe_model.save()"
   ]
  },
  {
   "cell_type": "markdown",
   "id": "a09cb8d4",
   "metadata": {},
   "source": [
    "### SNLE inference"
   ]
  },
  {
   "cell_type": "code",
   "execution_count": null,
   "id": "6c3709d3",
   "metadata": {},
   "outputs": [],
   "source": [
    "snle_model = sbiModel(\n",
    "    simulator_instance=sim,\n",
    "    method=\"SNLE\", \n",
    "    obs=obs, \n",
    "    prior_vars=priors,\n",
    "    prior_dist=\"Normal\",\n",
    ")"
   ]
  },
  {
   "cell_type": "code",
   "execution_count": null,
   "id": "9492848d",
   "metadata": {},
   "outputs": [],
   "source": [
    "snle_model.run_inference(\n",
    "    num_simulations=800,\n",
    "    num_workers=4,\n",
    "    num_samples=2000\n",
    ")"
   ]
  },
  {
   "cell_type": "code",
   "execution_count": null,
   "id": "90c0d061",
   "metadata": {},
   "outputs": [],
   "source": [
    "inference_data = snle_model.to_arviz_data(save=True)"
   ]
  },
  {
   "cell_type": "code",
   "execution_count": null,
   "id": "ce0b83be",
   "metadata": {},
   "outputs": [],
   "source": [
    "snle_model.plot_posterior_samples(\n",
    "    init_params={\"a\": a_sim, \"b\": b_sim, \"c\": c_sim, \"d\": d_sim, \"I\": I_sim, \"epsilon\": 0.0},\n",
    "    bins=50\n",
    ")"
   ]
  },
  {
   "cell_type": "code",
   "execution_count": null,
   "id": "9d38bf8d",
   "metadata": {},
   "outputs": [],
   "source": [
    "map_estimator = snle_model.get_map_estimator()\n",
    "map_estimator"
   ]
  },
  {
   "cell_type": "code",
   "execution_count": null,
   "id": "8243e0b8",
   "metadata": {},
   "outputs": [],
   "source": [
    "posterior_sample = snle_model.get_sample()[0]\n",
    "posterior_sample"
   ]
  },
  {
   "cell_type": "code",
   "execution_count": null,
   "id": "fa5f133b",
   "metadata": {},
   "outputs": [],
   "source": [
    "posterior_obs = snle_model.simulation_wrapper(params=posterior_sample)\n",
    "posterior_obs = posterior_obs.numpy().reshape(shape, order=\"F\")"
   ]
  },
  {
   "cell_type": "code",
   "execution_count": null,
   "id": "0eaea84c",
   "metadata": {},
   "outputs": [],
   "source": [
    "f4 = plt.figure(figsize=(13,8))\n",
    "plt.plot(snle_model.inference_data.observed_data.x_obs.values[:, 0, 0, 0], label=\"V_simulated\", color=\"blue\")\n",
    "plt.plot(snle_model.inference_data.observed_data.x_obs.values[:, 1, 0, 0], label=\"W_simulated\", color=\"red\")\n",
    "plt.plot(posterior_obs[:, 0, 0, 0], label=\"V_posterior\", color=\"cyan\")\n",
    "plt.plot(posterior_obs[:, 1, 0, 0], label=\"W_posterior\", color=\"orange\")\n",
    "plt.legend()\n",
    "plt.xlabel(\"time (ms)\")\n",
    "plt.ylabel(\"states\")\n",
    "plt.show()"
   ]
  },
  {
   "cell_type": "code",
   "execution_count": null,
   "id": "fbbdf8b5",
   "metadata": {},
   "outputs": [],
   "source": [
    "snle_model.information_criteria()"
   ]
  },
  {
   "cell_type": "markdown",
   "id": "dea16a18",
   "metadata": {},
   "source": [
    "### SNRE inference"
   ]
  },
  {
   "cell_type": "code",
   "execution_count": null,
   "id": "7f3962f3",
   "metadata": {},
   "outputs": [],
   "source": [
    "snre_model = sbiModel(\n",
    "    integrator_instance=integrator, \n",
    "    model_instance=oscillator_model, \n",
    "    method=\"SNRE\", \n",
    "    obs=obs, \n",
    "    priors=priors,\n",
    "    obs_shape=shape\n",
    ")"
   ]
  },
  {
   "cell_type": "code",
   "execution_count": null,
   "id": "5555c81c",
   "metadata": {},
   "outputs": [],
   "source": [
    "snre_model.run_inference(\n",
    "    num_simulations=800,\n",
    "    num_workers=1,\n",
    "    num_samples=2000\n",
    ")"
   ]
  },
  {
   "cell_type": "code",
   "execution_count": null,
   "id": "fa33416d",
   "metadata": {},
   "outputs": [],
   "source": [
    "inference_data = snre_model.to_arviz_data(save=True)"
   ]
  },
  {
   "cell_type": "code",
   "execution_count": null,
   "id": "f19eb8cf",
   "metadata": {},
   "outputs": [],
   "source": [
    "snre_model.plot_posterior(\n",
    "    init_params={\"a\": a_sim, \"b\": b_sim, \"c\": c_sim, \"d\": d_sim, \"I\": I_sim, \"epsilon\": 0.0}\n",
    ")"
   ]
  },
  {
   "cell_type": "code",
   "execution_count": null,
   "id": "cb0c1f56",
   "metadata": {},
   "outputs": [],
   "source": [
    "map_estimator = snre_model.get_map_estimator()\n",
    "map_estimator"
   ]
  },
  {
   "cell_type": "code",
   "execution_count": null,
   "id": "d538b1f6",
   "metadata": {},
   "outputs": [],
   "source": [
    "posterior_sample = snre_model.get_sample()[0]\n",
    "posterior_sample"
   ]
  },
  {
   "cell_type": "code",
   "execution_count": null,
   "id": "400f23e8",
   "metadata": {},
   "outputs": [],
   "source": [
    "posterior_obs = snre_model.simulation_wrapper(params=map_estimator)\n",
    "posterior_obs = posterior_obs.numpy().reshape(shape, order=\"F\")"
   ]
  },
  {
   "cell_type": "code",
   "execution_count": null,
   "id": "b9b21f5b",
   "metadata": {},
   "outputs": [],
   "source": [
    "f4 = plt.figure(figsize=(13,8))\n",
    "plt.plot(snre_model.inference_data.observed_data.x_obs.values[:, 0, 0, 0], label=\"V_simulated\", color=\"blue\")\n",
    "plt.plot(snre_model.inference_data.observed_data.x_obs.values[:, 1, 0, 0], label=\"W_simulated\", color=\"red\")\n",
    "plt.plot(posterior_obs[:, 0, 0, 0], label=\"V_posterior\", color=\"cyan\")\n",
    "plt.plot(posterior_obs[:, 1, 0, 0], label=\"W_posterior\", color=\"orange\")\n",
    "plt.legend()\n",
    "plt.xlabel(\"time (ms)\")\n",
    "plt.ylabel(\"states\")\n",
    "plt.show()"
   ]
  },
  {
   "cell_type": "code",
   "execution_count": null,
   "id": "b15355ab",
   "metadata": {},
   "outputs": [],
   "source": [
    "snre_model.information_criteria()"
   ]
  },
  {
   "cell_type": "code",
   "execution_count": null,
   "id": "5820d93e",
   "metadata": {},
   "outputs": [],
   "source": []
  }
 ],
 "metadata": {
  "kernelspec": {
   "display_name": "BrainSim-env",
   "language": "python",
   "name": "brainsim-env"
  },
  "language_info": {
   "codemirror_mode": {
    "name": "ipython",
    "version": 3
   },
   "file_extension": ".py",
   "mimetype": "text/x-python",
   "name": "python",
   "nbconvert_exporter": "python",
   "pygments_lexer": "ipython3",
   "version": "3.9.13"
  }
 },
 "nbformat": 4,
 "nbformat_minor": 5
}
