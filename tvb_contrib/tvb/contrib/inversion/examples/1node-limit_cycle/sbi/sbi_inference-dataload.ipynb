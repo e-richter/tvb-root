{
 "cells": [
  {
   "cell_type": "code",
   "execution_count": null,
   "id": "03e728b7",
   "metadata": {},
   "outputs": [],
   "source": [
    "from tvb.simulator.simulator import Simulator\n",
    "from tvb.datatypes.connectivity import Connectivity\n",
    "from tvb.contrib.inversion.sbiInference import sbiModel\n",
    "\n",
    "import tvb.simulator.models\n",
    "import tvb.simulator.integrators\n",
    "import tvb.simulator.coupling\n",
    "import tvb.simulator.monitors\n",
    "\n",
    "import matplotlib.pyplot as plt\n",
    "import numpy as np\n",
    "import torch\n",
    "import math\n",
    "import arviz as az\n",
    "import pickle\n",
    "\n",
    "%load_ext autoreload\n",
    "%autoreload 2"
   ]
  },
  {
   "cell_type": "code",
   "execution_count": null,
   "id": "2226953e",
   "metadata": {},
   "outputs": [],
   "source": [
    "#run_ids = [\n",
    "#    \"2022-09-13_08-20-56-466197_instance\",\n",
    "#    \"2022-09-13_08-20-56-525471_instance\",\n",
    "#    \"2022-09-13_08-20-56-675430_instance\",\n",
    "#    \"2022-09-13_08-20-56-756109_instance\"\n",
    "#]\n",
    "\n",
    "#run_ids = [\n",
    "#    \"2022-09-13_08-49-00-122871_instance\",\n",
    "#    \"2022-09-13_08-49-00-133581_instance\",\n",
    "#    \"2022-09-13_08-49-00-218087_instance\",\n",
    "#    \"2022-09-13_08-49-00-292717_instance\"\n",
    "#]\n",
    "\n",
    "#run_ids = [\n",
    "#    \"2022-09-13_09-35-43-404460_instance\",\n",
    "#    \"2022-09-13_09-35-43-411359_instance\",\n",
    "#    \"2022-09-13_09-35-43-450581_instance\",\n",
    "#    \"2022-09-13_09-35-43-452609_instance\"\n",
    "#]\n",
    "\n",
    "#run_ids = [\n",
    "#    \"2022-09-13_16-37-13-003930_instance\",\n",
    "#    \"2022-09-13_16-37-13-010276_instance\",\n",
    "#    \"2022-09-13_16-37-13-112678_instance\",\n",
    "#    \"2022-09-13_16-37-13-116596_instance\"\n",
    "#]\n",
    "\n",
    "#run_ids = [\n",
    "#    \"2022-09-14_10-46-45-546821_instance\",\n",
    "#    \"2022-09-14_10-46-45-606165_instance\",\n",
    "#    \"2022-09-14_10-46-46-077166_instance\",\n",
    "#    \"2022-09-14_10-46-46-130627_instance\"\n",
    "#]\n",
    "\n",
    "#run_ids = [\n",
    "#    \"2022-09-14_12-52-25-374945_instance\",\n",
    "#    \"2022-09-14_12-52-25-376720_instance\",\n",
    "#    \"2022-09-14_12-52-25-377273_instance\",\n",
    "#    \"2022-09-14_12-52-25-381972_instance\"\n",
    "#]\n",
    "\n",
    "#run_ids = [\n",
    "#    \"2022-09-14_16-3-58-776480_instance\",\n",
    "#    \"2022-09-14_16-3-58-777523_instance\",\n",
    "#    \"2022-09-14_16-3-58-812755_instance\",\n",
    "#    \"2022-09-14_16-3-58-824044_instance\"\n",
    "#]\n",
    "\n",
    "#run_ids = [\n",
    "#    \"2022-09-20_14-19-51-374717_instance\",\n",
    "#    \"2022-09-20_14-19-51-404129_instance\",\n",
    "#    \"2022-09-20_14-19-51-416879_instance\",\n",
    "#    \"2022-09-20_14-19-51-433541_instance\"\n",
    "#]\n",
    "\n",
    "#run_ids = [\n",
    "#    \"2022-09-23_16-4-31-962206_instance\",\n",
    "#    \"2022-09-23_16-4-31-984204_instance\",\n",
    "#    \"2022-09-23_16-4-32-263625_instance\",\n",
    "#    \"2022-09-23_16-4-32-330215_instance\"\n",
    "#]\n",
    "\n",
    "run_ids = [\n",
    "    \"2022-09-27_13-18-07-815553_instance\",\n",
    "    \"2022-09-27_13-18-07-815833_instance\",\n",
    "    \"2022-09-27_13-18-07-823480_instance\",\n",
    "    \"2022-09-27_13-18-07-824198_instance\"\n",
    "]"
   ]
  },
  {
   "cell_type": "code",
   "execution_count": null,
   "id": "51fcdc63",
   "metadata": {},
   "outputs": [],
   "source": [
    "with open(f\"sbi_data/inference_data/{run_ids[0]}.pkl\", \"rb\") as f:\n",
    "    instance_params = pickle.load(f)\n",
    "    simulation_params = instance_params[\"simulation_params\"]"
   ]
  },
  {
   "cell_type": "code",
   "execution_count": null,
   "id": "58ecff5e",
   "metadata": {},
   "outputs": [],
   "source": [
    "# Model\n",
    "oscillator_model = getattr(tvb.simulator.models, simulation_params[\"model\"])(\n",
    "    a=np.asarray([simulation_params[\"a_sim\"]]),\n",
    "    b=np.asarray([simulation_params[\"b_sim\"]]),\n",
    "    c=np.asarray([simulation_params[\"c_sim\"]]),\n",
    "    d=np.asarray([simulation_params[\"d_sim\"]]),\n",
    "    I=np.asarray([simulation_params[\"I_sim\"]]),\n",
    ")\n",
    "oscillator_model.configure()\n",
    "\n",
    "# Integrator\n",
    "integrator = getattr(tvb.simulator.integrators, simulation_params[\"integrator\"])(dt=simulation_params[\"dt\"])\n",
    "integrator.noise.nsig = np.array([simulation_params[\"nsig\"]])\n",
    "integrator.noise.configure()\n",
    "integrator.noise.configure_white(dt=integrator.dt)\n",
    "integrator.set_random_state(random_state=None)\n",
    "integrator.configure()\n",
    "integrator.configure_boundaries(oscillator_model)"
   ]
  },
  {
   "cell_type": "code",
   "execution_count": null,
   "id": "eafb027b",
   "metadata": {},
   "outputs": [],
   "source": [
    "X = instance_params[\"obs\"]"
   ]
  },
  {
   "cell_type": "code",
   "execution_count": null,
   "id": "91d71e10",
   "metadata": {},
   "outputs": [],
   "source": [
    "f1 = plt.figure(figsize=(14,8))\n",
    "plt.plot(X[:, 0, 0, 0], label=\"V\")\n",
    "plt.plot(X[:, 1, 0, 0], label=\"W\")\n",
    "plt.ylabel(\"states\", fontsize=16)\n",
    "plt.xlabel(\"time (ms)\", fontsize=16)\n",
    "plt.legend(fontsize=16)\n",
    "plt.xticks(fontsize=16)\n",
    "plt.yticks(fontsize=16)\n",
    "plt.legend()\n",
    "plt.show()"
   ]
  },
  {
   "cell_type": "markdown",
   "id": "aecf51a8",
   "metadata": {},
   "source": [
    "### SNPE inference"
   ]
  },
  {
   "cell_type": "code",
   "execution_count": null,
   "id": "d6d642ce",
   "metadata": {},
   "outputs": [],
   "source": [
    "snpe_model = sbiModel(\n",
    "    method=\"SNPE\", \n",
    "    obs=X,\n",
    "    model_instance=oscillator_model,\n",
    "    integrator_instance=integrator\n",
    ")"
   ]
  },
  {
   "cell_type": "code",
   "execution_count": null,
   "id": "0fb86291",
   "metadata": {},
   "outputs": [],
   "source": [
    "snpe_model.load(f\"{run_ids[0]}.pkl\")"
   ]
  },
  {
   "cell_type": "code",
   "execution_count": null,
   "id": "8a9872c3",
   "metadata": {},
   "outputs": [],
   "source": [
    "print(\"Priors\")\n",
    "print(\"------\")\n",
    "for iprior in snpe_model.prior_keys:\n",
    "    print(f\"{iprior[2]}.{iprior[1]}:\", \"\\t\", \"\\t\",\n",
    "          \"mean:\", snpe_model.priors.loc.numpy()[iprior[0]], \"\\t\", \n",
    "          \"std:\", np.diag(snpe_model.priors.scale_tril)[iprior[0]])"
   ]
  },
  {
   "cell_type": "code",
   "execution_count": null,
   "id": "20c6eec0",
   "metadata": {},
   "outputs": [],
   "source": [
    "snpe_model.plot_posterior_samples(\n",
    "    init_params={\"a_model\": simulation_params[\"a_sim\"],\n",
    "                 \"b_model\": simulation_params[\"b_sim\"],\n",
    "                 \"c_model\": simulation_params[\"c_sim\"],\n",
    "                 \"nsig_integrator.noise\": 0.003,\n",
    "                 \"epsilon_global\": 0.0}\n",
    ")"
   ]
  },
  {
   "cell_type": "code",
   "execution_count": null,
   "id": "b565b8e9",
   "metadata": {
    "scrolled": true
   },
   "outputs": [],
   "source": [
    "print(\"posterior std dev:\", snpe_model.posterior_samples.std(dim=0).numpy())\n",
    "print(\"prior std dev:\", torch.diag(snpe_model.priors.scale_tril).numpy())\n",
    "print(\"shrinkages:\", snpe_model.posterior_shrinkage().numpy())"
   ]
  },
  {
   "cell_type": "code",
   "execution_count": null,
   "id": "c6ff0ba0",
   "metadata": {},
   "outputs": [],
   "source": [
    "posterior_zscores = snpe_model.posterior_zscore(\n",
    "    init_params={\"a_model\": simulation_params[\"a_sim\"],\n",
    "                 \"b_model\": simulation_params[\"b_sim\"],\n",
    "                 \"c_model\": simulation_params[\"c_sim\"],\n",
    "                 \"nsig_integrator.noise\": 0.003,\n",
    "                 \"epsilon_global\": 0.0}\n",
    ")"
   ]
  },
  {
   "cell_type": "code",
   "execution_count": null,
   "id": "f0c324ad",
   "metadata": {},
   "outputs": [],
   "source": [
    "posterior_zscores"
   ]
  },
  {
   "cell_type": "code",
   "execution_count": null,
   "id": "07f16403",
   "metadata": {},
   "outputs": [],
   "source": [
    "snpe_model.posterior_samples[:, 1].mean() - (-10.0)"
   ]
  },
  {
   "cell_type": "code",
   "execution_count": null,
   "id": "94db3524",
   "metadata": {},
   "outputs": [],
   "source": [
    "snpe_model.posterior_samples[:, 1].std()"
   ]
  },
  {
   "cell_type": "code",
   "execution_count": null,
   "id": "f9be1246",
   "metadata": {},
   "outputs": [],
   "source": [
    "f2 = plt.figure(figsize=(12,8))\n",
    "plt.plot(snpe_model.posterior_shrinkage(), posterior_zscores, \n",
    "         color=\"blue\", linewidth=0, marker=\"*\", markersize=12)\n",
    "plt.xlabel(\"posterior shrinkage\")\n",
    "plt.ylabel(\"posterior zscore\")\n",
    "#plt.xlim([0.0, 1.1])\n",
    "#plt.ylim([0.0, 1.1])\n",
    "plt.plot();"
   ]
  },
  {
   "cell_type": "code",
   "execution_count": null,
   "id": "47c076a7",
   "metadata": {},
   "outputs": [],
   "source": [
    "posterior_sample = snpe_model.get_sample()[0]\n",
    "posterior_sample"
   ]
  },
  {
   "cell_type": "code",
   "execution_count": null,
   "id": "6cfa79d4",
   "metadata": {},
   "outputs": [],
   "source": [
    "posterior_obs = snpe_model.simulation_wrapper(params=posterior_sample)\n",
    "posterior_obs = posterior_obs.numpy().reshape(X.shape, order=\"F\")"
   ]
  },
  {
   "cell_type": "code",
   "execution_count": null,
   "id": "2684841c",
   "metadata": {},
   "outputs": [],
   "source": [
    "f3, axes3 = plt.subplots(nrows=2, ncols=1, figsize=(18,15))\n",
    "axes3[0].plot(snpe_model.inference_data.observed_data.x_obs.values[:, 0, 0, 0], label=\"V_observed\", color=\"blue\")\n",
    "axes3[0].plot(posterior_obs[:, 0, 0, 0], label=\"V_posterior\", color=\"cyan\")\n",
    "axes3[0].legend(fontsize=16)\n",
    "axes3[0].set_xlabel(\"time (ms)\", fontsize=16)\n",
    "axes3[0].tick_params(axis=\"both\", labelsize=16)\n",
    "\n",
    "axes3[1].plot(snpe_model.inference_data.observed_data.x_obs.values[:, 1, 0, 0], label=\"W_observed\", color=\"red\")\n",
    "axes3[1].plot(posterior_obs[:, 1, 0, 0], label=\"W_posterior\", color=\"orange\")\n",
    "axes3[1].legend(fontsize=16)\n",
    "axes3[1].set_xlabel(\"time (ms)\", fontsize=16)\n",
    "axes3[1].tick_params(axis=\"both\", labelsize=16)\n",
    "\n",
    "plt.show()"
   ]
  },
  {
   "cell_type": "code",
   "execution_count": null,
   "id": "78950d0d",
   "metadata": {},
   "outputs": [],
   "source": [
    "#snpe_model.save()"
   ]
  },
  {
   "cell_type": "code",
   "execution_count": null,
   "id": "af0d008f",
   "metadata": {},
   "outputs": [],
   "source": []
  }
 ],
 "metadata": {
  "kernelspec": {
   "display_name": "BrainSim-env",
   "language": "python",
   "name": "brainsim-env"
  },
  "language_info": {
   "codemirror_mode": {
    "name": "ipython",
    "version": 3
   },
   "file_extension": ".py",
   "mimetype": "text/x-python",
   "name": "python",
   "nbconvert_exporter": "python",
   "pygments_lexer": "ipython3",
   "version": "3.9.12"
  }
 },
 "nbformat": 4,
 "nbformat_minor": 5
}
