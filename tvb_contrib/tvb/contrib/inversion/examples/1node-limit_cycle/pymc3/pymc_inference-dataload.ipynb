{
 "cells": [
  {
   "cell_type": "code",
   "execution_count": null,
   "id": "6b479642",
   "metadata": {},
   "outputs": [],
   "source": [
    "from tvb.simulator.simulator import Simulator\n",
    "from tvb.datatypes.connectivity import Connectivity\n",
    "from tvb.contrib.inversion.pymcInference import pymcModel1node\n",
    "\n",
    "import tvb.simulator.models\n",
    "import tvb.simulator.integrators\n",
    "import tvb.simulator.coupling\n",
    "import tvb.simulator.monitors\n",
    "\n",
    "import matplotlib.pyplot as plt\n",
    "import numpy as np\n",
    "import arviz as az\n",
    "import pymc3 as pm\n",
    "import scipy\n",
    "import theano.tensor as tt\n",
    "import theano\n",
    "import math\n",
    "from tqdm import tqdm\n",
    "import pickle\n",
    "\n",
    "%load_ext autoreload\n",
    "%autoreload 2"
   ]
  },
  {
   "cell_type": "code",
   "execution_count": null,
   "id": "e7b637a1",
   "metadata": {},
   "outputs": [],
   "source": [
    "run_ids = [\n",
    "    \"2022-09-11_1858_instance\",\n",
    "    \"2022-09-12_0858_instance\",\n",
    "    \"2022-09-12_2353_instance\",\n",
    "    \"2022-09-13_1420_instance\",\n",
    "    \"2022-09-14_1038_instance\",\n",
    "    \"2022-09-16_0905_instance\",\n",
    "    \"2022-09-20_1251_instance\",\n",
    "    \"2022-09-23_1555_instance\",\n",
    "    \"2022-09-27_1313_instance\",\n",
    "    \"2022-09-29_1238_instance\", #a, b shifted\n",
    "    \"2022-09-30_2201_instance\", #a, b around ground truth\n",
    "    \"2022-10-01_1007_instance\", #a, b, c shifted\n",
    "    \"2022-10-03_0751_instance\", #a, b around ground truth\n",
    "    \"2022-10-03_1129_instance\", #a, b, c around ground truth\n",
    "    \"2022-10-04_0941_instance\", #a, b shifted\n",
    "    \"2022-10-08_1034_instance\",\n",
    "    \"2022-10-08_1039_instance\",\n",
    "    \"2022-10-13_1454_instance\",\n",
    "    \"2022-10-14_1402_instance\", #a, b, c, I around ground truth\n",
    "    \"2022-10-15_1056_instance\", #a, b, c, I shifted\n",
    "    \"2022-10-16_1149_instance\",\n",
    "    \"2022-10-17_1226_instance\",\n",
    "    \"2022-10-18_1002_instance\",\n",
    "    \"2022-10-19_2353_instance\",\n",
    "]"
   ]
  },
  {
   "cell_type": "code",
   "execution_count": null,
   "id": "b9c119d1",
   "metadata": {},
   "outputs": [],
   "source": [
    "idx = -1"
   ]
  },
  {
   "cell_type": "code",
   "execution_count": null,
   "id": "a23ad9ad",
   "metadata": {},
   "outputs": [],
   "source": [
    "with open(f\"pymc_data/inference_data/{run_ids[idx]}.pkl\", \"rb\") as f:\n",
    "    instance_params = pickle.load(f)\n",
    "    simulation_params = instance_params[\"simulation_params\"]"
   ]
  },
  {
   "cell_type": "code",
   "execution_count": null,
   "id": "8a39f2df",
   "metadata": {},
   "outputs": [],
   "source": [
    "# Model\n",
    "oscillator_model = getattr(tvb.simulator.models, simulation_params[\"model\"])(\n",
    "    a=np.asarray([simulation_params[\"a_sim\"]]),\n",
    "    b=np.asarray([simulation_params[\"b_sim\"]]),\n",
    "    c=np.asarray([simulation_params[\"c_sim\"]]),\n",
    "    d=np.asarray([simulation_params[\"d_sim\"]]),\n",
    "    I=np.asarray([simulation_params[\"I_sim\"]]),\n",
    ")\n",
    "oscillator_model.configure()\n",
    "\n",
    "# Integrator\n",
    "integrator = getattr(tvb.simulator.integrators, simulation_params[\"integrator\"])(dt=simulation_params[\"dt\"])\n",
    "integrator.noise.nsig = np.array([simulation_params[\"nsig\"]])\n",
    "integrator.noise.configure()\n",
    "integrator.noise.configure_white(dt=integrator.dt)\n",
    "integrator.set_random_state(random_state=None)\n",
    "integrator.configure()\n",
    "integrator.configure_boundaries(oscillator_model)"
   ]
  },
  {
   "cell_type": "code",
   "execution_count": null,
   "id": "25fd913f",
   "metadata": {},
   "outputs": [],
   "source": [
    "X = instance_params[\"obs\"]"
   ]
  },
  {
   "cell_type": "code",
   "execution_count": null,
   "id": "86a0c61d",
   "metadata": {
    "collapsed": false
   },
   "outputs": [],
   "source": [
    "oscillator_model"
   ]
  },
  {
   "cell_type": "code",
   "execution_count": null,
   "id": "a7f6796c",
   "metadata": {},
   "outputs": [],
   "source": [
    "f1 = plt.figure(figsize=(14,8))\n",
    "plt.plot(X[:, 0, 0, 0], label=\"V\")\n",
    "plt.plot(X[:, 1, 0, 0], label=\"W\")\n",
    "plt.ylabel(\"state (a.u.)\", fontsize=16)\n",
    "plt.xlabel(\"time (ms)\", fontsize=16)\n",
    "plt.legend(fontsize=16)\n",
    "plt.xticks(fontsize=16)\n",
    "plt.yticks(fontsize=16)\n",
    "plt.show()"
   ]
  },
  {
   "cell_type": "code",
   "execution_count": null,
   "id": "fc400624",
   "metadata": {},
   "outputs": [],
   "source": [
    "pymc_model = pymcModel1node(oscillator_model)"
   ]
  },
  {
   "cell_type": "code",
   "execution_count": null,
   "id": "05223a8f",
   "metadata": {},
   "outputs": [],
   "source": [
    "pymc_model.load(f\"{run_ids[idx]}.pkl\")"
   ]
  },
  {
   "cell_type": "code",
   "execution_count": null,
   "id": "4c2311ca",
   "metadata": {},
   "outputs": [],
   "source": [
    "pymc_model.prior_stats"
   ]
  },
  {
   "cell_type": "code",
   "execution_count": null,
   "id": "2a0ebe00",
   "metadata": {},
   "outputs": [],
   "source": [
    "#pymc_model.plot_posterior_samples(\n",
    "#    init_params={\"a\": simulation_params[\"a_sim\"],\n",
    "#                 #\"b\": simulation_params[\"b_sim\"],\n",
    "#                 \"epsilon\": 0.0,\n",
    "#                 \"noise\": np.sqrt(2 * simulation_params[\"nsig\"])\n",
    "#                }\n",
    "#)"
   ]
  },
  {
   "cell_type": "code",
   "execution_count": null,
   "id": "379abb8d",
   "metadata": {},
   "outputs": [],
   "source": [
    "pymc_model.plot_posterior_samples(\n",
    "    init_params={\"model_a\": simulation_params[\"a_sim\"],\n",
    "                 \"model_b\": simulation_params[\"b_sim\"],\n",
    "                 \"model_c\": simulation_params[\"c_sim\"],\n",
    "                 #\"model_d\": simulation_params[\"d_sim\"],\n",
    "                 \"model_I\": simulation_params[\"I_sim\"],\n",
    "                 #\"model_tau\": oscillator_model.tau[0],\n",
    "                 \"global_noise\": 0.0,\n",
    "                 \"noise_gfun\": np.sqrt(2 * simulation_params[\"nsig\"])\n",
    "                }\n",
    ")"
   ]
  },
  {
   "cell_type": "code",
   "execution_count": null,
   "id": "369d6ec3",
   "metadata": {},
   "outputs": [],
   "source": [
    "s = pymc_model.posterior_shrinkage()\n",
    "z = pymc_model.posterior_zscore(init_params={\n",
    "    \"model_a\": simulation_params[\"a_sim\"],\n",
    "    \"model_b\": simulation_params[\"b_sim\"],\n",
    "    \"model_c\": simulation_params[\"c_sim\"],\n",
    "    #\"model_d\": simulation_params[\"d_sim\"],\n",
    "    \"model_I\": simulation_params[\"I_sim\"],\n",
    "    #\"model_tau\": oscillator_model.tau[0],\n",
    "    \"global_noise\": 0.0,\n",
    "    \"noise_gfun\": np.sqrt(2 * simulation_params[\"nsig\"])\n",
    "})"
   ]
  },
  {
   "cell_type": "code",
   "execution_count": null,
   "id": "9f8df3ed",
   "metadata": {
    "collapsed": false
   },
   "outputs": [],
   "source": [
    "#s = pymc_model.posterior_shrinkage()\n",
    "#z = pymc_model.posterior_zscore(init_params={\n",
    "#    \"a\": simulation_params[\"a_sim\"],\n",
    "#    \"epsilon\": 0.0,\n",
    "#    \"noise\": np.sqrt(2 * simulation_params[\"nsig\"])\n",
    "#})"
   ]
  },
  {
   "cell_type": "code",
   "execution_count": null,
   "id": "017ad1c4",
   "metadata": {},
   "outputs": [],
   "source": [
    "f2 = plt.figure(figsize=(12,8))\n",
    "plt.plot(s, z, color=\"blue\", linewidth=0, marker=\"*\", markersize=12)\n",
    "plt.xlabel(\"posterior shrinkage\", fontsize=16)\n",
    "plt.ylabel(\"posterior z-score\", fontsize=16)\n",
    "plt.xlim([0.0, 1.1])\n",
    "#plt.ylim([0.0, 5])\n",
    "plt.tick_params(axis=\"both\", labelsize=16)\n",
    "plt.plot();"
   ]
  },
  {
   "cell_type": "code",
   "execution_count": null,
   "id": "7c8ca4f6",
   "metadata": {},
   "outputs": [],
   "source": [
    "n_draws = len(pymc_model.inference_data.sample_stats.draw)\n",
    "n_chains = len(pymc_model.inference_data.sample_stats.chain)"
   ]
  },
  {
   "cell_type": "code",
   "execution_count": null,
   "id": "49a06a19",
   "metadata": {},
   "outputs": [],
   "source": [
    "posterior_x_obs = pymc_model.inference_data.posterior_predictive.x_obs.values.reshape((n_chains*n_draws, *X.shape))"
   ]
  },
  {
   "cell_type": "code",
   "execution_count": null,
   "id": "83ae95ee",
   "metadata": {},
   "outputs": [],
   "source": [
    "f3, axes3 = plt.subplots(nrows=2, ncols=1, figsize=(18,15))\n",
    "axes3[0].plot(np.percentile(posterior_x_obs[:, :, 0, 0, 0], [2.5, 97.5], axis=0).T, \n",
    "              \"k\", label=r\"$V_{95\\% PP}(t)$\")\n",
    "axes3[0].plot(X[:, 0, 0, 0], label=\"V_observed\")\n",
    "axes3[0].legend(fontsize=16)\n",
    "axes3[0].set_xlabel(\"time (ms)\", fontsize=16)\n",
    "axes3[0].tick_params(axis=\"both\", labelsize=16)\n",
    "\n",
    "axes3[1].plot(np.percentile(posterior_x_obs[:, :, 1, 0, 0], [2.5, 97.5], axis=0).T, \n",
    "         \"k\", label=r\"$W_{95\\% PP}(t)$\")\n",
    "axes3[1].plot(X[:, 1, 0, 0], label=\"W_observed\")\n",
    "axes3[1].legend(fontsize=16)\n",
    "axes3[1].set_xlabel(\"time (ms)\", fontsize=16)\n",
    "axes3[1].tick_params(axis=\"both\", labelsize=16)\n",
    "\n",
    "plt.show()"
   ]
  },
  {
   "cell_type": "code",
   "execution_count": null,
   "id": "a5c50783",
   "metadata": {},
   "outputs": [],
   "source": [
    "criteria = pymc_model.model_criteria()"
   ]
  },
  {
   "cell_type": "code",
   "execution_count": null,
   "id": "b5da5499",
   "metadata": {},
   "outputs": [],
   "source": [
    "criteria"
   ]
  },
  {
   "cell_type": "code",
   "execution_count": null,
   "id": "036650c0",
   "metadata": {},
   "outputs": [],
   "source": [
    "#pymc_model.summary[pymc_model.summary[\"r_hat\"] >= 1.2]"
   ]
  },
  {
   "cell_type": "code",
   "execution_count": null,
   "id": "1b610893",
   "metadata": {},
   "outputs": [],
   "source": [
    "#pymc_model.summary.loc[[\"a\", \"noise\", \"epsilon\"]]"
   ]
  },
  {
   "cell_type": "code",
   "execution_count": null,
   "id": "849ae1fa",
   "metadata": {},
   "outputs": [],
   "source": [
    "pymc_model.summary.loc[[\"model_a\", \"model_b\", \"model_c\", \"model_I\", \"noise_gfun\", \"global_noise\"]]"
   ]
  },
  {
   "cell_type": "code",
   "execution_count": null,
   "id": "11b0eff2",
   "metadata": {},
   "outputs": [],
   "source": [
    "divergent = pymc_model.trace[\"diverging\"]\n",
    "print(\"Number of Divergent %d\" % divergent.nonzero()[0].size)\n",
    "divperc = divergent.nonzero()[0].size / (n_draws +  n_chains) * 100\n",
    "print(\"Percentage of Divergent %.1f\" % divperc)\n",
    "print(\"Mean tree accept %.1f\" % pymc_model.trace['mean_tree_accept'].mean())"
   ]
  },
  {
   "cell_type": "code",
   "execution_count": null,
   "id": "63b460b0",
   "metadata": {},
   "outputs": [],
   "source": [
    "print(\"Sampling time in hours:\", pymc_model.inference_data.sample_stats.sampling_time / 3600)"
   ]
  },
  {
   "cell_type": "code",
   "execution_count": null,
   "id": "ae9245e8",
   "metadata": {},
   "outputs": [],
   "source": []
  }
 ],
 "metadata": {
  "kernelspec": {
   "display_name": "BrainSim-env",
   "language": "python",
   "name": "brainsim-env"
  },
  "language_info": {
   "codemirror_mode": {
    "name": "ipython",
    "version": 3
   },
   "file_extension": ".py",
   "mimetype": "text/x-python",
   "name": "python",
   "nbconvert_exporter": "python",
   "pygments_lexer": "ipython3",
   "version": "3.9.12"
  }
 },
 "nbformat": 4,
 "nbformat_minor": 5
}
