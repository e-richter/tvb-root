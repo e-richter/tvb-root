{
 "cells": [
  {
   "cell_type": "code",
   "execution_count": null,
   "id": "1ec24efb",
   "metadata": {},
   "outputs": [],
   "source": [
    "from tvb.simulator.simulator import Simulator\n",
    "from tvb.datatypes.connectivity import Connectivity\n",
    "from tvb.contrib.inversion.pymcInference import NonCenteredModel\n",
    "\n",
    "import tvb.simulator.models\n",
    "import tvb.simulator.integrators\n",
    "import tvb.simulator.coupling\n",
    "import tvb.simulator.monitors\n",
    "\n",
    "import matplotlib.pyplot as plt\n",
    "import numpy as np\n",
    "import arviz as az\n",
    "import pymc3 as pm\n",
    "import scipy\n",
    "import theano.tensor as tt\n",
    "import theano\n",
    "import math\n",
    "from tqdm import tqdm\n",
    "import pickle\n",
    "\n",
    "%load_ext autoreload\n",
    "%autoreload 2"
   ]
  },
  {
   "cell_type": "code",
   "execution_count": null,
   "id": "8a2737d7",
   "metadata": {},
   "outputs": [],
   "source": [
    "run_ids = [\n",
    "    \"2022-09-11_1858_instance\",\n",
    "    \"2022-09-12_0858_instance\",\n",
    "    \"2022-09-12_2353_instance\",\n",
    "    \"2022-09-13_1420_instance\",\n",
    "    \"2022-09-14_1038_instance\",\n",
    "    \"2022-09-16_0905_instance\",\n",
    "    \"2022-09-20_1251_instance\",\n",
    "    \"2022-09-23_1555_instance\",\n",
    "    \"2022-09-27_1313_instance\",\n",
    "    \"2022-09-29_1238_instance\"\n",
    "]"
   ]
  },
  {
   "cell_type": "code",
   "execution_count": null,
   "id": "14d7154f",
   "metadata": {},
   "outputs": [],
   "source": [
    "idx = -1"
   ]
  },
  {
   "cell_type": "code",
   "execution_count": null,
   "id": "884c2f68",
   "metadata": {},
   "outputs": [],
   "source": [
    "with open(f\"pymc_data/inference_data/{run_ids[idx]}.pkl\", \"rb\") as f:\n",
    "    instance_params = pickle.load(f)\n",
    "    simulation_params = instance_params[\"simulation_params\"]"
   ]
  },
  {
   "cell_type": "code",
   "execution_count": null,
   "id": "d4ed755d",
   "metadata": {},
   "outputs": [],
   "source": [
    "# Model\n",
    "oscillator_model = getattr(tvb.simulator.models, simulation_params[\"model\"])(\n",
    "    a=np.asarray([simulation_params[\"a_sim\"]]),\n",
    "    b=np.asarray([simulation_params[\"b_sim\"]]),\n",
    "    c=np.asarray([simulation_params[\"c_sim\"]]),\n",
    "    d=np.asarray([simulation_params[\"d_sim\"]]),\n",
    "    I=np.asarray([simulation_params[\"I_sim\"]]),\n",
    ")\n",
    "oscillator_model.configure()\n",
    "\n",
    "# Integrator\n",
    "integrator = getattr(tvb.simulator.integrators, simulation_params[\"integrator\"])(dt=simulation_params[\"dt\"])\n",
    "integrator.noise.nsig = np.array([simulation_params[\"nsig\"]])\n",
    "integrator.noise.configure()\n",
    "integrator.noise.configure_white(dt=integrator.dt)\n",
    "integrator.set_random_state(random_state=None)\n",
    "integrator.configure()\n",
    "integrator.configure_boundaries(oscillator_model)"
   ]
  },
  {
   "cell_type": "code",
   "execution_count": null,
   "id": "5720d4cd",
   "metadata": {},
   "outputs": [],
   "source": [
    "X = instance_params[\"obs\"]"
   ]
  },
  {
   "cell_type": "code",
   "execution_count": null,
   "id": "f9f7b9ed",
   "metadata": {},
   "outputs": [],
   "source": [
    "f1 = plt.figure(figsize=(14,8))\n",
    "plt.plot(X[:, 0, 0, 0], label=\"V\")\n",
    "plt.plot(X[:, 1, 0, 0], label=\"W\")\n",
    "plt.ylabel(\"states\", fontsize=16)\n",
    "plt.xlabel(\"time (ms)\", fontsize=16)\n",
    "plt.legend(fontsize=16)\n",
    "plt.xticks(fontsize=16)\n",
    "plt.yticks(fontsize=16)\n",
    "plt.legend()\n",
    "plt.show()"
   ]
  },
  {
   "cell_type": "code",
   "execution_count": null,
   "id": "37d3eeb0",
   "metadata": {},
   "outputs": [],
   "source": [
    "ncModel = NonCenteredModel(oscillator_model)"
   ]
  },
  {
   "cell_type": "code",
   "execution_count": null,
   "id": "0583c9b7",
   "metadata": {},
   "outputs": [],
   "source": [
    "ncModel.load(f\"{run_ids[idx]}.pkl\")"
   ]
  },
  {
   "cell_type": "code",
   "execution_count": null,
   "id": "a284be8a",
   "metadata": {},
   "outputs": [],
   "source": [
    "#plt.hist(ncModel.inference_data.posterior.b.values.reshape((ncModel.inference_data.posterior.b.values.size,)),\n",
    "#        bins=100);"
   ]
  },
  {
   "cell_type": "code",
   "execution_count": null,
   "id": "3518ee98",
   "metadata": {},
   "outputs": [],
   "source": [
    "#plt.hist(ncModel.inference_data.posterior.c.values.reshape((ncModel.inference_data.posterior.c.values.size,)),\n",
    "#        bins=100);"
   ]
  },
  {
   "cell_type": "code",
   "execution_count": null,
   "id": "6bf54ebc",
   "metadata": {},
   "outputs": [],
   "source": [
    "ncModel.prior_stats"
   ]
  },
  {
   "cell_type": "code",
   "execution_count": null,
   "id": "9e9318c5",
   "metadata": {},
   "outputs": [],
   "source": [
    "ncModel.plot_posterior_samples(\n",
    "    init_params={\"a\": simulation_params[\"a_sim\"],\n",
    "                 \"b\": simulation_params[\"b_sim\"],\n",
    "                 #\"c\": simulation_params[\"c_sim\"],\n",
    "                 \"epsilon\": 0.0,\n",
    "                 \"noise\": np.sqrt(2 * simulation_params[\"nsig\"])\n",
    "                }\n",
    ")"
   ]
  },
  {
   "cell_type": "code",
   "execution_count": null,
   "id": "acf960eb",
   "metadata": {},
   "outputs": [],
   "source": [
    "n_draws = len(ncModel.inference_data.sample_stats.draw)\n",
    "n_chains = len(ncModel.inference_data.sample_stats.chain)"
   ]
  },
  {
   "cell_type": "code",
   "execution_count": null,
   "id": "8d9168b0",
   "metadata": {},
   "outputs": [],
   "source": [
    "posterior_x_obs = ncModel.inference_data.posterior_predictive.x_obs.values.reshape((n_chains*n_draws, *X.shape))"
   ]
  },
  {
   "cell_type": "code",
   "execution_count": null,
   "id": "0e467060",
   "metadata": {},
   "outputs": [],
   "source": [
    "f3, axes3 = plt.subplots(nrows=2, ncols=1, figsize=(18,15))\n",
    "axes3[0].plot(np.percentile(posterior_x_obs[:, :, 0, 0, 0], [2.5, 97.5], axis=0).T, \n",
    "              \"k\", label=r\"$V_{95\\% PP}(t)$\")\n",
    "axes3[0].plot(X[:, 0, 0, 0], label=\"V_observed\")\n",
    "#axes3[0].plot(posterior_x_obs[0, :, 0, 0, 0])\n",
    "axes3[0].legend(fontsize=16)\n",
    "axes3[0].set_xlabel(\"time (ms)\", fontsize=16)\n",
    "axes3[0].tick_params(axis=\"both\", labelsize=16)\n",
    "\n",
    "axes3[1].plot(np.percentile(posterior_x_obs[:, :, 1, 0, 0], [2.5, 97.5], axis=0).T, \n",
    "         \"k\", label=r\"$W_{95\\% PP}(t)$\")\n",
    "axes3[1].plot(X[:, 1, 0, 0], label=\"W_observed\")\n",
    "#axes3[1].plot(posterior_x_obs[0, :, 1, 0, 0])\n",
    "axes3[1].legend(fontsize=16)\n",
    "axes3[1].set_xlabel(\"time (ms)\", fontsize=16)\n",
    "axes3[1].tick_params(axis=\"both\", labelsize=16)\n",
    "\n",
    "plt.show()"
   ]
  },
  {
   "cell_type": "code",
   "execution_count": null,
   "id": "af8eeaa7",
   "metadata": {},
   "outputs": [],
   "source": [
    "criteria = ncModel.model_criteria([\"WAIC\", \"LOO\"])"
   ]
  },
  {
   "cell_type": "code",
   "execution_count": null,
   "id": "96587fdc",
   "metadata": {},
   "outputs": [],
   "source": [
    "criteria"
   ]
  },
  {
   "cell_type": "code",
   "execution_count": null,
   "id": "f7cd0d16",
   "metadata": {},
   "outputs": [],
   "source": [
    "ncModel.summary[ncModel.summary[\"r_hat\"] >= 1.2]"
   ]
  },
  {
   "cell_type": "code",
   "execution_count": null,
   "id": "80b206bb",
   "metadata": {},
   "outputs": [],
   "source": [
    "ncModel.summary.loc[[\"a\", \"b\", \"noise\", \"epsilon\"]] #, \"b\", \"c\", \"d\", \"I\"]]"
   ]
  },
  {
   "cell_type": "code",
   "execution_count": null,
   "id": "85431b6c",
   "metadata": {},
   "outputs": [],
   "source": [
    "divergent = ncModel.trace[\"diverging\"]\n",
    "print(\"Number of Divergent %d\" % divergent.nonzero()[0].size)\n",
    "divperc = divergent.nonzero()[0].size / len(ncModel.trace) * 100\n",
    "print(\"Percentage of Divergent %.1f\" % divperc)\n",
    "print(\"Mean tree accept %.1f\" % ncModel.trace['mean_tree_accept'].mean())"
   ]
  },
  {
   "cell_type": "code",
   "execution_count": null,
   "id": "a236c768",
   "metadata": {},
   "outputs": [],
   "source": [
    "print(\"Sampling time in hours:\", ncModel.inference_data.sample_stats.sampling_time / 3600)"
   ]
  },
  {
   "cell_type": "code",
   "execution_count": null,
   "id": "a72e8945",
   "metadata": {},
   "outputs": [],
   "source": []
  }
 ],
 "metadata": {
  "kernelspec": {
   "display_name": "BrainSim-env",
   "language": "python",
   "name": "brainsim-env"
  },
  "language_info": {
   "codemirror_mode": {
    "name": "ipython",
    "version": 3
   },
   "file_extension": ".py",
   "mimetype": "text/x-python",
   "name": "python",
   "nbconvert_exporter": "python",
   "pygments_lexer": "ipython3",
   "version": "3.9.12"
  }
 },
 "nbformat": 4,
 "nbformat_minor": 5
}
