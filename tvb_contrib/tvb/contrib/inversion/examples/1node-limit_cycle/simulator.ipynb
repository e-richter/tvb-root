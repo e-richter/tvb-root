{
 "cells": [
  {
   "cell_type": "code",
   "execution_count": null,
   "id": "8535114e",
   "metadata": {},
   "outputs": [],
   "source": [
    "import tvb.simulator.models\n",
    "import tvb.simulator.integrators\n",
    "\n",
    "import matplotlib.pyplot as plt\n",
    "import numpy as np\n",
    "import math\n",
    "import pickle\n",
    "\n",
    "%load_ext autoreload\n",
    "%autoreload 2"
   ]
  },
  {
   "cell_type": "code",
   "execution_count": null,
   "id": "9646d4ee",
   "metadata": {},
   "outputs": [],
   "source": [
    "simulator_setup = {\n",
    "    \"model\": \"Generic2dOscillator\",\n",
    "    \"integrator\": \"HeunStochastic\",\n",
    "}"
   ]
  },
  {
   "cell_type": "code",
   "execution_count": null,
   "id": "4c79d5a4",
   "metadata": {},
   "outputs": [],
   "source": [
    "# Parameters\n",
    "simulator_params = {\n",
    "    \"a_sim\": 2.0,\n",
    "    \"b_sim\": -10.0,\n",
    "    \"c_sim\": 0.0,\n",
    "    \"d_sim\": 0.02,\n",
    "    \"I_sim\": 0.0,\n",
    "    \"nsig\": 0.003,\n",
    "    \"dt\": 1.0,\n",
    "    \"simulation_length\": 500\n",
    "}"
   ]
  },
  {
   "cell_type": "code",
   "execution_count": null,
   "id": "52995828",
   "metadata": {},
   "outputs": [],
   "source": [
    "# TVB model and integrator setup\n",
    "oscillator_model = getattr(tvb.simulator.models, simulator_setup[\"model\"])(\n",
    "    a=np.asarray([simulator_params[\"a_sim\"]]),\n",
    "    b=np.asarray([simulator_params[\"b_sim\"]]),\n",
    "    c=np.asarray([simulator_params[\"c_sim\"]]),\n",
    "    d=np.asarray([simulator_params[\"d_sim\"]]),\n",
    "    I=np.asarray([simulator_params[\"I_sim\"]]),\n",
    ")\n",
    "oscillator_model.configure()\n",
    "\n",
    "integrator = getattr(tvb.simulator.integrators, simulator_setup[\"integrator\"])(dt=simulator_params[\"dt\"])\n",
    "integrator.noise.nsig = np.array([simulator_params[\"nsig\"]])\n",
    "integrator.noise.configure()\n",
    "integrator.noise.configure_white(dt=integrator.dt)\n",
    "integrator.set_random_state(random_state=None)\n",
    "integrator.configure()\n",
    "integrator.configure_boundaries(oscillator_model)"
   ]
  },
  {
   "cell_type": "code",
   "execution_count": null,
   "id": "27f814bd",
   "metadata": {},
   "outputs": [],
   "source": [
    "simulation_length = simulator_params[\"simulation_length\"]\n",
    "stimulus = 0.0\n",
    "local_coupling = 0.0\n",
    "\n",
    "current_state_v = np.random.uniform(low=-2.0, high=4.0, size=[1, 1, 1])\n",
    "current_state_w = np.random.uniform(low=-6.0, high=6.0, size=[1, 1, 1])\n",
    "current_state = np.vstack([current_state_v, current_state_w])\n",
    "state = current_state\n",
    "\n",
    "current_step = 0\n",
    "number_of_nodes = 1\n",
    "start_step = current_step + 1\n",
    "node_coupling = np.zeros([2, 1, 1])\n",
    "n_steps = int(math.ceil(simulation_length / integrator.dt))\n",
    "\n",
    "X = [current_state.copy()]\n",
    "for step in range(start_step, start_step + n_steps):\n",
    "    state = integrator.integrate(state, oscillator_model, node_coupling, local_coupling, stimulus)\n",
    "    X.append(state.copy())\n",
    "\n",
    "X = np.asarray(X)"
   ]
  },
  {
   "cell_type": "code",
   "execution_count": null,
   "id": "31ed5948",
   "metadata": {},
   "outputs": [],
   "source": [
    "X = np.load(\"limit-cycle_simulation.npy\")"
   ]
  },
  {
   "cell_type": "code",
   "execution_count": null,
   "id": "d7c1df28",
   "metadata": {},
   "outputs": [],
   "source": [
    "f1 = plt.figure(figsize=(14,8))\n",
    "plt.plot(X[:, 0, 0, 0], label=\"V\")\n",
    "plt.plot(X[:, 1, 0, 0], label=\"W\")\n",
    "plt.xlabel(\"time (ms)\")\n",
    "plt.ylabel(\"states\")\n",
    "plt.legend()\n",
    "plt.show()"
   ]
  },
  {
   "cell_type": "code",
   "execution_count": null,
   "id": "c7424bb7",
   "metadata": {},
   "outputs": [],
   "source": [
    "X.shape"
   ]
  },
  {
   "cell_type": "code",
   "execution_count": null,
   "id": "0da55d50",
   "metadata": {},
   "outputs": [],
   "source": [
    "with open(\"limit-cycle_simulation.pkl\", \"wb\") as f:\n",
    "    pickle.dump({**simulator_setup, **simulator_params, \"simulation\": X}, f)"
   ]
  },
  {
   "cell_type": "code",
   "execution_count": null,
   "id": "776a1bab",
   "metadata": {},
   "outputs": [],
   "source": [
    "#np.save(f\"limit-cycle_simulation\", X)"
   ]
  },
  {
   "cell_type": "code",
   "execution_count": null,
   "id": "f7f8ca3b",
   "metadata": {},
   "outputs": [],
   "source": []
  }
 ],
 "metadata": {
  "kernelspec": {
   "display_name": "Python 3 (ipykernel)",
   "language": "python",
   "name": "python3"
  },
  "language_info": {
   "codemirror_mode": {
    "name": "ipython",
    "version": 3
   },
   "file_extension": ".py",
   "mimetype": "text/x-python",
   "name": "python",
   "nbconvert_exporter": "python",
   "pygments_lexer": "ipython3",
   "version": "3.9.13"
  }
 },
 "nbformat": 4,
 "nbformat_minor": 5
}
