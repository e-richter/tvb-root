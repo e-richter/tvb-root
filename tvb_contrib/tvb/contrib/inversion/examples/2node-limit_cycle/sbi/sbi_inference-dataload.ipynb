{
 "cells": [
  {
   "cell_type": "code",
   "execution_count": null,
   "id": "501c3848",
   "metadata": {},
   "outputs": [],
   "source": [
    "from tvb.simulator.simulator import Simulator\n",
    "from tvb.datatypes.connectivity import Connectivity\n",
    "from tvb.contrib.inversion.sbiInference import sbiModel, sbiPrior\n",
    "\n",
    "import tvb.simulator.models\n",
    "import tvb.simulator.integrators\n",
    "import tvb.simulator.coupling\n",
    "import tvb.simulator.monitors\n",
    "\n",
    "import matplotlib.pyplot as plt\n",
    "import numpy as np\n",
    "import torch\n",
    "import math\n",
    "import arviz as az\n",
    "import pickle\n",
    "\n",
    "%load_ext autoreload\n",
    "%autoreload 2"
   ]
  },
  {
   "cell_type": "code",
   "execution_count": null,
   "id": "26f69b5a",
   "metadata": {},
   "outputs": [],
   "source": [
    "#run_ids = [\n",
    "#    \"2022-11-16_09-38-21-545432_instance\",\n",
    "#    \"2022-11-16_09-38-21-555473_instance\",\n",
    "#    \"2022-11-16_09-38-21-642074_instance\",\n",
    "#    \"2022-11-16_09-38-21-707618_instance\"\n",
    "#]\n",
    "\n",
    "#run_ids = [\n",
    "#    \"2022-11-16_09-40-42-780023_instance\",\n",
    "#    \"2022-11-16_09-40-42-786705_instance\",\n",
    "#    \"2022-11-16_09-40-42-813028_instance\",\n",
    "#    \"2022-11-16_09-40-42-814468_instance\"\n",
    "#]\n",
    "\n",
    "run_ids = [\n",
    "    \"2022-11-22_16-45-06-670747_instance\",\n",
    "    \"2022-11-22_16-45-44-588078_instance\",\n",
    "    \"2022-11-23_09-50-33-332108_instance\",\n",
    "    \"2022-11-23_10-1-59-508195_instance\",\n",
    "    \"2022-11-23_10-39-43-303435_instance\",\n",
    "    \"2022-11-23_22-43-43-610772_instance\",\n",
    "    \"2022-11-23_23-19-27-526335_instance\",\n",
    "    \"2022-11-24_09-30-46-725224_instance\",\n",
    "    \"2022-11-24_10-42-57-333240_instance\",\n",
    "    \"2022-11-24_14-25-03-153868_instance\",\n",
    "    \"2022-11-24_14-25-03-154492_instance\",\n",
    "    \"2022-11-24_16-46-25-876713_instance\",\n",
    "    \"2022-11-24_16-48-21-754821_instance\",\n",
    "    \"2022-11-25_10-1-29-944905_instance\",\n",
    "    \"2022-11-25_10-2-04-719592_instance\",\n",
    "    \"2022-11-25_16-33-24-503044_instance\",\n",
    "    \"2022-11-25_16-34-14-974959_instance\",\n",
    "    \"2022-11-25_20-34-23-718078_instance\",\n",
    "    \"2022-11-25_20-36-32-281698_instance\",\n",
    "    \"2022-11-27_13-47-55-965479_instance\",\n",
    "    \"2022-11-27_13-48-56-280657_instance\",\n",
    "    \"2022-11-28_14-20-45-301958_instance\",\n",
    "    \"2022-11-28_14-24-33-141601_instance\"\n",
    "]"
   ]
  },
  {
   "cell_type": "code",
   "execution_count": null,
   "id": "d300c374",
   "metadata": {},
   "outputs": [],
   "source": [
    "with open(f\"sbi_data/inference_data/{run_ids[-2]}.pkl\", \"rb\") as f:\n",
    "    instance_params = pickle.load(f)\n",
    "    simulation_params = instance_params[\"simulation_params\"]"
   ]
  },
  {
   "cell_type": "code",
   "execution_count": null,
   "id": "976ded35",
   "metadata": {},
   "outputs": [],
   "source": [
    "# Connectivity\n",
    "if simulation_params[\"connectivity\"] == \"Own\":\n",
    "    connectivity = Connectivity()\n",
    "    connectivity.weights = np.array([[0., 2.], [2., 0.]])\n",
    "    connectivity.region_labels = np.array([\"R1\", \"R2\"])\n",
    "    connectivity.centres = np.array([[0.1, 0.1, 0.1], [0.2, 0.1, 0.1]])\n",
    "    connectivity.tract_lengths = np.array([[0., 2.5], [2.5, 0.]])\n",
    "    # connectivity.configure()\n",
    "\n",
    "# Model\n",
    "oscillator_model = getattr(tvb.simulator.models, simulation_params[\"model\"])(\n",
    "    a=np.asarray([simulation_params[\"a_sim\"]]),\n",
    "    b=np.asarray([simulation_params[\"b_sim\"]]),\n",
    "    c=np.asarray([simulation_params[\"c_sim\"]]),\n",
    "    d=np.asarray([simulation_params[\"d_sim\"]]),\n",
    "    I=np.asarray([simulation_params[\"I_sim\"]]),\n",
    ")\n",
    "# oscillator_model.configure()\n",
    "\n",
    "# Integrator\n",
    "integrator = getattr(tvb.simulator.integrators, simulation_params[\"integrator\"])(dt=simulation_params[\"dt\"])\n",
    "integrator.noise.nsig = np.array([simulation_params[\"nsig\"]])\n",
    "# integrator.configure()\n",
    "\n",
    "# Global coupling\n",
    "coupling = getattr(tvb.simulator.coupling, simulation_params[\"coupling\"])()\n",
    "\n",
    "# Monitor\n",
    "monitor = getattr(tvb.simulator.monitors, simulation_params[\"monitor\"])()"
   ]
  },
  {
   "cell_type": "code",
   "execution_count": null,
   "id": "c65b13b5",
   "metadata": {},
   "outputs": [],
   "source": [
    "# Simulator\n",
    "sim = Simulator(\n",
    "    model=oscillator_model,\n",
    "    connectivity=connectivity,\n",
    "    coupling=coupling,\n",
    "    integrator=integrator,\n",
    "    monitors=(monitor,),\n",
    "    simulation_length=simulation_params[\"simulation_length\"]\n",
    ")\n",
    "\n",
    "# sim.configure();"
   ]
  },
  {
   "cell_type": "code",
   "execution_count": null,
   "id": "9e82f095",
   "metadata": {},
   "outputs": [],
   "source": [
    "X = instance_params[\"obs\"]"
   ]
  },
  {
   "cell_type": "code",
   "execution_count": null,
   "id": "66208f4a",
   "metadata": {},
   "outputs": [],
   "source": [
    "f1 = plt.figure(figsize=(14,8))\n",
    "plt.plot(X[:, 0, 0, 0], label=\"Region 1\")\n",
    "plt.plot(X[:, 0, 1, 0], label=\"Region 2\")\n",
    "plt.ylabel(\"states\", fontsize=16)\n",
    "plt.xlabel(\"time (ms)\", fontsize=16)\n",
    "plt.legend(fontsize=16)\n",
    "plt.xticks(fontsize=16)\n",
    "plt.yticks(fontsize=16)\n",
    "plt.show()"
   ]
  },
  {
   "cell_type": "markdown",
   "id": "fae2790f",
   "metadata": {},
   "source": [
    "### SNPE inference"
   ]
  },
  {
   "cell_type": "code",
   "execution_count": null,
   "id": "f9a3d3e5",
   "metadata": {},
   "outputs": [],
   "source": [
    "snpe_model = sbiModel(\n",
    "    method=\"SNPE\",\n",
    "    obs=X,\n",
    "    simulator_instance=sim\n",
    ")"
   ]
  },
  {
   "cell_type": "code",
   "execution_count": null,
   "id": "fe03c379",
   "metadata": {},
   "outputs": [],
   "source": [
    "# run_id = \"2022-11-15_15-15-37-401909_instance\"\n",
    "# run_id = \"2022-11-15_14-47-44-012410_instance\"\n",
    "# run_id = \"2022-11-15_16-57-04-711747_instance\"\n",
    "# run_id = \"2022-11-15_17-11-07-890014_instance\"\n",
    "\n",
    "snpe_model.load(f\"{run_ids[-2]}.pkl\")"
   ]
  },
  {
   "cell_type": "code",
   "execution_count": null,
   "id": "e61e1904",
   "metadata": {},
   "outputs": [],
   "source": [
    "print(\"Priors\\n------\")\n",
    "for iprior in snpe_model.prior.identifier:\n",
    "    print(f\"{iprior[2]}.{iprior[1]}:\", \"\\t\", \"\\t\",\n",
    "          \"mean:\", np.array(snpe_model.prior.location)[iprior[0]], \"\\t\",\n",
    "          \"std:\", np.array(snpe_model.prior.scale)[iprior[0]])"
   ]
  },
  {
   "cell_type": "code",
   "execution_count": null,
   "id": "beeccf1d",
   "metadata": {},
   "outputs": [],
   "source": [
    "snpe_model.plot_posterior_samples(\n",
    "    init_params={\"a_model\": simulation_params[\"a_sim\"], \n",
    "                 \"b_model\": simulation_params[\"b_sim\"],\n",
    "                 \"c_model\": simulation_params[\"c_sim\"],\n",
    "                 #\"d_model\": simulation_params[\"d_sim\"],\n",
    "                 \"I_model\": simulation_params[\"I_sim\"],\n",
    "                 \"a_coupling\": 0.1,\n",
    "                 \"nsig_integrator.noise\": 0.003,\n",
    "                 \"noise_global\": 0.0}\n",
    ")"
   ]
  },
  {
   "cell_type": "code",
   "execution_count": null,
   "id": "165eb3cc",
   "metadata": {},
   "outputs": [],
   "source": [
    "print(\"posterior std dev:\", snpe_model.posterior_samples.std(dim=0).numpy())\n",
    "print(\"prior std dev:\", torch.diag(snpe_model.priors.scale_tril).numpy())\n",
    "print(\"shrinkages:\", snpe_model.posterior_shrinkage().numpy())"
   ]
  },
  {
   "cell_type": "code",
   "execution_count": null,
   "id": "2abdc034",
   "metadata": {},
   "outputs": [],
   "source": [
    "posterior_zscores = snpe_model.posterior_zscore(\n",
    "    init_params={\"a_model\": simulation_params[\"a_sim\"],\n",
    "                 #\"b_model\": simulation_params[\"b_sim\"],\n",
    "                 # \"c_model\": simulation_params[\"c_sim\"],\n",
    "                 # \"d_model\": simulation_params[\"d_sim\"],\n",
    "                 # \"I_model\": simulation_params[\"I_sim\"],\n",
    "                 \"a_coupling\": 0.1,\n",
    "                 \"nsig_integrator.noise\": 0.003,\n",
    "                 \"epsilon_global\": 0.0}\n",
    ")\n",
    "posterior_zscores"
   ]
  },
  {
   "cell_type": "code",
   "execution_count": null,
   "id": "a4556f45",
   "metadata": {},
   "outputs": [],
   "source": [
    "posterior_shrinkages = snpe_model.posterior_shrinkage()\n",
    "posterior_shrinkages"
   ]
  },
  {
   "cell_type": "code",
   "execution_count": null,
   "id": "3d14b0e9",
   "metadata": {},
   "outputs": [],
   "source": [
    "f2 = plt.figure(figsize=(12,8))\n",
    "plt.plot(posterior_shrinkages, posterior_zscores,\n",
    "         color=\"blue\", linewidth=0, marker=\"*\", markersize=12)\n",
    "plt.xlabel(\"posterior shrinkage\")\n",
    "plt.ylabel(\"posterior zscore\")\n",
    "plt.xlim([-1.6, 1.1])\n",
    "plt.ylim([0.0, 2])\n",
    "plt.show();"
   ]
  },
  {
   "cell_type": "code",
   "execution_count": null,
   "id": "f4819f16",
   "metadata": {},
   "outputs": [],
   "source": [
    "posterior_sample = snpe_model.get_sample()[0]\n",
    "posterior_sample"
   ]
  },
  {
   "cell_type": "code",
   "execution_count": null,
   "id": "cf8574b7",
   "metadata": {},
   "outputs": [],
   "source": [
    "posterior_sample = torch.tensor([2.0, -10.0, 0.0, 0.0, 0.1, 0.003, 0.00001])\n",
    "posterior_sample"
   ]
  },
  {
   "cell_type": "code",
   "execution_count": null,
   "id": "5b51c13c",
   "metadata": {},
   "outputs": [],
   "source": [
    "posterior_obs = snpe_model.simulation_wrapper(params=posterior_sample)\n",
    "posterior_obs = posterior_obs.numpy().reshape(X.shape, order=\"F\")"
   ]
  },
  {
   "cell_type": "code",
   "execution_count": null,
   "id": "01430674",
   "metadata": {},
   "outputs": [],
   "source": [
    "f3, axes3 = plt.subplots(nrows=2, ncols=1, figsize=(18,15))\n",
    "axes3[0].plot(snpe_model.inference_data.observed_data.x_obs.values[:, 0, 0, 0], label=\"R1_observed\", color=\"blue\")\n",
    "axes3[0].plot(posterior_obs[:, 0, 0, 0], label=\"R1_posterior\", color=\"cyan\")\n",
    "axes3[0].legend(fontsize=16)\n",
    "axes3[0].set_xlabel(\"time (ms)\", fontsize=16)\n",
    "axes3[0].tick_params(axis=\"both\", labelsize=16)\n",
    "\n",
    "axes3[1].plot(snpe_model.inference_data.observed_data.x_obs.values[:, 0, 1, 0], label=\"R2_observed\", color=\"red\")\n",
    "axes3[1].plot(posterior_obs[:, 0, 1, 0], label=\"R2_posterior\", color=\"orange\")\n",
    "axes3[1].legend(fontsize=16)\n",
    "axes3[1].set_xlabel(\"time (ms)\", fontsize=16)\n",
    "axes3[1].tick_params(axis=\"both\", labelsize=16)\n",
    "\n",
    "plt.show()"
   ]
  },
  {
   "cell_type": "code",
   "execution_count": null,
   "id": "49f6a7a7",
   "metadata": {},
   "outputs": [],
   "source": [
    "#snpe_model.save()"
   ]
  },
  {
   "cell_type": "code",
   "execution_count": null,
   "id": "17e71cb4",
   "metadata": {},
   "outputs": [],
   "source": []
  }
 ],
 "metadata": {
  "kernelspec": {
   "display_name": "BrainSim-env",
   "language": "python",
   "name": "brainsim-env"
  },
  "language_info": {
   "codemirror_mode": {
    "name": "ipython",
    "version": 3
   },
   "file_extension": ".py",
   "mimetype": "text/x-python",
   "name": "python",
   "nbconvert_exporter": "python",
   "pygments_lexer": "ipython3",
   "version": "3.9.12"
  }
 },
 "nbformat": 4,
 "nbformat_minor": 5
}
