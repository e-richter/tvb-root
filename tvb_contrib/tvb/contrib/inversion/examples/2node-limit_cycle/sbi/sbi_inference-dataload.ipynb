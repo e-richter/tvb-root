{
 "cells": [
  {
   "cell_type": "code",
   "execution_count": null,
   "id": "7fbb3ddc",
   "metadata": {},
   "outputs": [],
   "source": [
    "from tvb.simulator.simulator import Simulator\n",
    "from tvb.datatypes.connectivity import Connectivity\n",
    "from tvb.contrib.inversion.sbiInference import sbiModel, sbiPrior\n",
    "\n",
    "import tvb.simulator.models\n",
    "import tvb.simulator.integrators\n",
    "import tvb.simulator.coupling\n",
    "import tvb.simulator.monitors\n",
    "\n",
    "import matplotlib.pyplot as plt\n",
    "import numpy as np\n",
    "import torch\n",
    "import math\n",
    "import arviz as az\n",
    "import pickle\n",
    "\n",
    "%load_ext autoreload\n",
    "%autoreload 2"
   ]
  },
  {
   "cell_type": "code",
   "execution_count": null,
   "id": "4935f335",
   "metadata": {},
   "outputs": [],
   "source": [
    "#run_ids = [\n",
    "#    \"2022-10-15_11-37-56-982207_instance\",\n",
    "#    \"2022-10-15_11-37-57-045966_instance\",\n",
    "#    \"2022-10-15_11-37-57-068800_instance\",\n",
    "#    \"2022-10-15_11-37-57-077944_instance\"\n",
    "#]\n",
    "\n",
    "#run_ids = [\n",
    "#    \"2022-10-15_18-38-18-522749_instance\",\n",
    "#    \"2022-10-15_18-38-18-543724_instance\",\n",
    "#    \"2022-10-15_18-38-18-564449_instance\",\n",
    "#    \"2022-10-15_18-38-18-570811_instance\",\n",
    "#]\n",
    "\n",
    "#run_ids = [\n",
    "#    \"2022-10-16_11-58-03-990396_instance\",\n",
    "#    \"2022-10-16_11-58-04-005395_instance\",\n",
    "#    \"2022-10-16_11-58-04-012163_instance\",\n",
    "#    \"2022-10-16_11-58-04-014874_instance\"\n",
    "#]\n",
    "\n",
    "#run_ids = [\n",
    "#    \"2022-10-16_22-46-26-433463_instance\",\n",
    "#    \"2022-10-16_22-46-26-442912_instance\",\n",
    "#    \"2022-10-16_22-46-26-467506_instance\",\n",
    "#    \"2022-10-16_22-46-26-535119_instance\"\n",
    "#]\n",
    "\n",
    "#run_ids = [\n",
    "#    \"2022-10-17_12-58-17-917167_instance\",\n",
    "#    \"2022-10-17_12-58-17-937040_instance\",\n",
    "#    \"2022-10-17_12-58-18-298925_instance\",\n",
    "#    \"2022-10-17_12-58-18-303247_instance\"\n",
    "#]\n",
    "\n",
    "#run_ids = [\n",
    "#    \"2022-10-17_18-30-34-971510_instance\",\n",
    "#    \"2022-10-17_18-30-34-987136_instance\",\n",
    "#    \"2022-10-17_18-30-35-214880_instance\",\n",
    "#    \"2022-10-17_18-30-35-261021_instance\"\n",
    "#]\n",
    "\n",
    "#run_ids = [\n",
    "#    \"2022-10-18_09-12-17-228856_instance\",\n",
    "#    \"2022-10-18_09-12-17-251964_instance\",\n",
    "#    \"2022-10-18_09-12-17-268330_instance\",\n",
    "#    \"2022-10-18_09-12-17-293248_instance\"\n",
    "#]\n",
    "\n",
    "#run_ids = [\n",
    "#    \"2022-10-18_09-19-32-373454_instance\",\n",
    "#    \"2022-10-18_09-19-32-489723_instance\",\n",
    "#    \"2022-10-18_09-19-32-540591_instance\",\n",
    "#    \"2022-10-18_09-19-32-647061_instance\"\n",
    "#]\n",
    "\n",
    "#run_ids = [\n",
    "#    \"2022-10-19_23-53-13-821369_instance\",\n",
    "#    \"2022-10-19_23-53-13-845648_instance\",\n",
    "#    \"2022-10-19_23-53-13-851198_instance\",\n",
    "#    \"2022-10-19_23-53-13-859087_instance\"\n",
    "#]\n",
    "\n",
    "#run_ids = [\n",
    "#    \"2022-10-19_23-53-14-055834_instance\",\n",
    "#    \"2022-10-19_23-53-14-062800_instance\",\n",
    "#    \"2022-10-19_23-53-14-073067_instance\",\n",
    "#    \"2022-10-19_23-53-14-108728_instance\"\n",
    "#]\n",
    "\n",
    "#run_ids = [\n",
    "#    \"2022-10-20_09-53-02-314927_instance\",\n",
    "#    \"2022-10-20_09-53-02-359245_instance\",\n",
    "#    \"2022-10-20_09-53-02-428250_instance\",\n",
    "#    \"2022-10-20_09-53-02-545439_instance\"\n",
    "#]\n",
    "\n",
    "#run_ids = [\n",
    "#    \"2022-10-20_11-44-37-689954_instance\",\n",
    "#    \"2022-10-20_11-44-37-717804_instance\",\n",
    "#    \"2022-10-20_11-44-37-722122_instance\",\n",
    "#    \"2022-10-20_11-44-37-724352_instance\"\n",
    "#]\n",
    "\n",
    "#run_ids = [\n",
    "#    \"2022-10-20_20-9-06-621622_instance\",\n",
    "#    \"2022-10-20_20-9-06-627269_instance\",\n",
    "#    \"2022-10-20_20-9-06-642803_instance\"\n",
    "#]\n",
    "\n",
    "#run_ids = [\n",
    "#    \"2022-10-20_21-52-18-643971_instance\",\n",
    "#    \"2022-10-20_21-52-18-668999_instance\",\n",
    "#    \"2022-10-20_21-52-18-710365_instance\",\n",
    "#    \"2022-10-20_21-52-18-721567_instance\"\n",
    "#]\n",
    "\n",
    "#run_ids = [\n",
    "#    \"2022-10-26_22-47-15-635586_instance\",\n",
    "#    \"2022-10-26_22-47-15-635789_instance\",\n",
    "#    \"2022-10-26_22-47-15-656023_instance\",\n",
    "#    \"2022-10-26_22-47-15-669513_instance\"\n",
    "#]\n",
    "\n",
    "#run_ids = [\n",
    "#    \"2022-10-26_22-47-16-100078_instance\",\n",
    "#    \"2022-10-26_22-47-16-216359_instance\",\n",
    "#    \"2022-10-26_22-47-16-248740_instance\",\n",
    "#    \"2022-10-26_22-47-16-269873_instance\"\n",
    "#]\n",
    "\n",
    "#run_ids = [\n",
    "#    \"2022-10-28_19-14-32-769529_instance\",\n",
    "#    \"2022-10-28_19-14-32-956637_instance\",\n",
    "#    \"2022-10-28_19-14-32-976986_instance\",\n",
    "#    \"2022-10-28_19-14-33-075237_instance\"\n",
    "#]\n",
    "\n",
    "#run_ids = [\n",
    "#    \"2022-10-28_19-41-59-308270_instance\",\n",
    "#    \"2022-10-28_19-41-59-318229_instance\",\n",
    "#    \"2022-10-28_19-41-59-345927_instance\",\n",
    "#    \"2022-10-28_19-41-59-353976_instance\"\n",
    "#]\n",
    "\n",
    "#run_ids = [\n",
    "#    \"2022-10-28_19-41-59-440573_instance\",\n",
    "#    \"2022-10-28_19-41-59-467479_instance\",\n",
    "#    \"2022-10-28_19-41-59-566238_instance\",\n",
    "#    \"2022-10-28_19-41-59-659763_instance\"\n",
    "#]\n",
    "\n",
    "#run_ids = [\n",
    "#    \"2022-11-01_14-58-48-404463_instance\",\n",
    "#    \"2022-11-01_14-58-48-417278_instance\",\n",
    "#    \"2022-11-01_14-58-48-450761_instance\"\n",
    "#]\n",
    "\n",
    "#run_ids = [\n",
    "#    \"2022-11-02_20-42-43-876346_instance\",\n",
    "#    \"2022-11-02_20-42-43-908537_instance\",\n",
    "#    \"2022-11-02_20-42-44-186440_instance\",\n",
    "#    \"2022-11-02_20-42-44-252045_instance\"\n",
    "#]\n",
    "\n",
    "#run_ids = [\n",
    "#    \"2022-11-02_20-44-02-520548_instance\",\n",
    "#    \"2022-11-02_20-44-02-527643_instance\",\n",
    "#    \"2022-11-02_20-44-02-588901_instance\",\n",
    "#    \"2022-11-02_20-44-02-592916_instance\"\n",
    "#]\n",
    "\n",
    "#run_ids = [\n",
    "#    \"2022-11-03_11-40-12-135697_instance\",\n",
    "#    \"2022-11-03_11-40-12-143871_instance\",\n",
    "#    \"2022-11-03_11-40-12-148828_instance\",\n",
    "#    \"2022-11-03_11-40-12-149028_instance\"\n",
    "#]\n",
    "\n",
    "#run_ids = [\n",
    "#    \"2022-11-03_11-42-58-005356_instance\",\n",
    "#    \"2022-11-03_11-42-58-007562_instance\",\n",
    "#    \"2022-11-03_11-42-58-017703_instance\",\n",
    "#    \"2022-11-03_11-42-58-041547_instance\"\n",
    "#]\n",
    "\n",
    "#run_ids = [\n",
    "#    \"2022-11-05_11-13-08-503833_instance\",\n",
    "#    \"2022-11-05_11-13-08-522633_instance\",\n",
    "#    \"2022-11-05_11-13-08-576614_instance\",\n",
    "#    \"2022-11-05_11-13-08-581356_instance\"\n",
    "#]\n",
    "\n",
    "run_ids = [\n",
    "    \"2022-11-05_11-13-10-660672_instance\",\n",
    "    \"2022-11-05_11-13-10-753717_instance\",\n",
    "    \"2022-11-05_11-13-10-754132_instance\",\n",
    "    \"2022-11-05_11-13-10-761661_instance\"\n",
    "]"
   ]
  },
  {
   "cell_type": "code",
   "execution_count": null,
   "id": "5ded5da8",
   "metadata": {},
   "outputs": [],
   "source": [
    "with open(f\"sbi_data/inference_data/{run_ids[0]}.pkl\", \"rb\") as f:\n",
    "    instance_params = pickle.load(f)\n",
    "    simulation_params = instance_params[\"simulation_params\"]"
   ]
  },
  {
   "cell_type": "code",
   "execution_count": null,
   "id": "cf32ba9d",
   "metadata": {},
   "outputs": [],
   "source": [
    "# Connectivity\n",
    "if simulation_params[\"connectivity\"] == \"Own\":\n",
    "    connectivity = Connectivity()\n",
    "    connectivity.weights = np.array([[0., 2.], [2., 0.]])\n",
    "    connectivity.region_labels = np.array([\"R1\", \"R2\"])\n",
    "    connectivity.centres = np.array([[0.1, 0.1, 0.1], [0.2, 0.1, 0.1]])\n",
    "    connectivity.tract_lengths = np.array([[0., 2.5], [2.5, 0.]])\n",
    "    connectivity.configure()\n",
    "\n",
    "# Model\n",
    "oscillator_model = getattr(tvb.simulator.models, simulation_params[\"model\"])(\n",
    "    a=np.asarray([simulation_params[\"a_sim\"]]),\n",
    "    b=np.asarray([simulation_params[\"b_sim\"]]),\n",
    "    c=np.asarray([simulation_params[\"c_sim\"]]),\n",
    "    d=np.asarray([simulation_params[\"d_sim\"]]),\n",
    "    I=np.asarray([simulation_params[\"I_sim\"]]),\n",
    ")\n",
    "oscillator_model.configure()\n",
    "\n",
    "# Integrator\n",
    "integrator = getattr(tvb.simulator.integrators, simulation_params[\"integrator\"])(dt=simulation_params[\"dt\"])\n",
    "integrator.noise.nsig = np.array([simulation_params[\"nsig\"]])\n",
    "integrator.configure()\n",
    "\n",
    "# Global coupling\n",
    "coupling = getattr(tvb.simulator.coupling, simulation_params[\"coupling\"])()\n",
    "\n",
    "# Monitor\n",
    "monitor = getattr(tvb.simulator.monitors, simulation_params[\"monitor\"])()"
   ]
  },
  {
   "cell_type": "code",
   "execution_count": null,
   "id": "7d216d73",
   "metadata": {},
   "outputs": [],
   "source": [
    "# Simulator\n",
    "sim = Simulator(\n",
    "    model=oscillator_model,\n",
    "    connectivity=connectivity,\n",
    "    coupling=coupling,\n",
    "    integrator=integrator,\n",
    "    monitors=(monitor,),\n",
    "    simulation_length=simulation_params[\"simulation_length\"]\n",
    ")\n",
    "\n",
    "sim.configure();"
   ]
  },
  {
   "cell_type": "code",
   "execution_count": null,
   "id": "74583374",
   "metadata": {},
   "outputs": [],
   "source": [
    "X = instance_params[\"obs\"]"
   ]
  },
  {
   "cell_type": "code",
   "execution_count": null,
   "id": "4b5f401d",
   "metadata": {},
   "outputs": [],
   "source": [
    "f1 = plt.figure(figsize=(14,8))\n",
    "plt.plot(X[:, 0, 0, 0], label=\"Region 1\")\n",
    "plt.plot(X[:, 0, 1, 0], label=\"Region 2\")\n",
    "plt.ylabel(\"states\", fontsize=16)\n",
    "plt.xlabel(\"time (ms)\", fontsize=16)\n",
    "plt.legend(fontsize=16)\n",
    "plt.xticks(fontsize=16)\n",
    "plt.yticks(fontsize=16)\n",
    "plt.show()"
   ]
  },
  {
   "cell_type": "markdown",
   "id": "05cd02ce",
   "metadata": {},
   "source": [
    "### SNPE inference"
   ]
  },
  {
   "cell_type": "code",
   "execution_count": null,
   "id": "e538706d",
   "metadata": {},
   "outputs": [],
   "source": [
    "snpe_model = sbiModel(\n",
    "    method=\"SNPE\",\n",
    "    obs=X,\n",
    "    simulator_instance=sim\n",
    ")"
   ]
  },
  {
   "cell_type": "code",
   "execution_count": null,
   "id": "abc0d1a7",
   "metadata": {},
   "outputs": [],
   "source": [
    "snpe_model.load(f\"{run_ids[0]}.pkl\")"
   ]
  },
  {
   "cell_type": "code",
   "execution_count": null,
   "id": "723aa0a6",
   "metadata": {
    "collapsed": false
   },
   "outputs": [],
   "source": [
    "print(\"Priors\\n------\")\n",
    "for iprior in snpe_model.prior.identifier:\n",
    "    print(f\"{iprior[2]}.{iprior[1]}:\", \"\\t\", \"\\t\",\n",
    "          \"mean:\", np.array(snpe_model.prior.location)[iprior[0]], \"\\t\",\n",
    "          \"std:\", np.array(snpe_model.prior.scale)[iprior[0]])"
   ]
  },
  {
   "cell_type": "code",
   "execution_count": null,
   "id": "64425879",
   "metadata": {},
   "outputs": [],
   "source": [
    "snpe_model.plot_posterior_samples(\n",
    "    init_params={\"a_model\": simulation_params[\"a_sim\"], \n",
    "                 \"b_model\": simulation_params[\"b_sim\"],\n",
    "                 \"c_model\": simulation_params[\"c_sim\"],\n",
    "                 #\"d_model\": simulation_params[\"d_sim\"],\n",
    "                 \"I_model\": simulation_params[\"I_sim\"],\n",
    "                 \"a_coupling\": 0.1,\n",
    "                 \"nsig_integrator.noise\": 0.003,\n",
    "                 \"noise_global\": 0.0}\n",
    ")"
   ]
  },
  {
   "cell_type": "code",
   "execution_count": null,
   "id": "62f38c58",
   "metadata": {},
   "outputs": [],
   "source": [
    "print(\"posterior std dev:\", snpe_model.posterior_samples.std(dim=0).numpy())\n",
    "print(\"prior std dev:\", torch.diag(snpe_model.priors.scale_tril).numpy())\n",
    "print(\"shrinkages:\", snpe_model.posterior_shrinkage().numpy())"
   ]
  },
  {
   "cell_type": "code",
   "execution_count": null,
   "id": "73230266",
   "metadata": {
    "collapsed": false
   },
   "outputs": [],
   "source": [
    "posterior_zscores = snpe_model.posterior_zscore(\n",
    "    init_params={\"a_model\": simulation_params[\"a_sim\"],\n",
    "                 #\"b_model\": simulation_params[\"b_sim\"],\n",
    "                 # \"c_model\": simulation_params[\"c_sim\"],\n",
    "                 # \"d_model\": simulation_params[\"d_sim\"],\n",
    "                 # \"I_model\": simulation_params[\"I_sim\"],\n",
    "                 \"a_coupling\": 0.1,\n",
    "                 \"nsig_integrator.noise\": 0.003,\n",
    "                 \"epsilon_global\": 0.0}\n",
    ")\n",
    "posterior_zscores"
   ]
  },
  {
   "cell_type": "code",
   "execution_count": null,
   "id": "4864311f",
   "metadata": {
    "collapsed": false
   },
   "outputs": [],
   "source": [
    "posterior_shrinkages = snpe_model.posterior_shrinkage()\n",
    "posterior_shrinkages"
   ]
  },
  {
   "cell_type": "code",
   "execution_count": null,
   "id": "63b545fa",
   "metadata": {},
   "outputs": [],
   "source": [
    "f2 = plt.figure(figsize=(12,8))\n",
    "plt.plot(posterior_shrinkages, posterior_zscores,\n",
    "         color=\"blue\", linewidth=0, marker=\"*\", markersize=12)\n",
    "plt.xlabel(\"posterior shrinkage\")\n",
    "plt.ylabel(\"posterior zscore\")\n",
    "plt.xlim([-1.6, 1.1])\n",
    "plt.ylim([0.0, 2])\n",
    "plt.show();"
   ]
  },
  {
   "cell_type": "code",
   "execution_count": null,
   "id": "1b5e5cf0",
   "metadata": {},
   "outputs": [],
   "source": [
    "posterior_sample = snpe_model.get_sample()[0]\n",
    "posterior_sample"
   ]
  },
  {
   "cell_type": "code",
   "execution_count": null,
   "id": "a4794aac",
   "metadata": {
    "collapsed": false
   },
   "outputs": [],
   "source": [
    "# posterior_sample = torch.tensor([2.0, -10.0, 0.0, 0.0, 0.1, 0.003, 0.00001])\n",
    "# posterior_sample"
   ]
  },
  {
   "cell_type": "code",
   "execution_count": null,
   "id": "a8bc494e",
   "metadata": {},
   "outputs": [],
   "source": [
    "posterior_obs = snpe_model.simulation_wrapper(params=posterior_sample)\n",
    "posterior_obs = posterior_obs.numpy().reshape(X.shape, order=\"F\")"
   ]
  },
  {
   "cell_type": "code",
   "execution_count": null,
   "id": "d5985cbb",
   "metadata": {},
   "outputs": [],
   "source": [
    "f3, axes3 = plt.subplots(nrows=2, ncols=1, figsize=(18,15))\n",
    "axes3[0].plot(snpe_model.inference_data.observed_data.x_obs.values[:, 0, 0, 0], label=\"R1_observed\", color=\"blue\")\n",
    "axes3[0].plot(posterior_obs[:, 0, 0, 0], label=\"R1_posterior\", color=\"cyan\")\n",
    "axes3[0].legend(fontsize=16)\n",
    "axes3[0].set_xlabel(\"time (ms)\", fontsize=16)\n",
    "axes3[0].tick_params(axis=\"both\", labelsize=16)\n",
    "\n",
    "axes3[1].plot(snpe_model.inference_data.observed_data.x_obs.values[:, 0, 1, 0], label=\"R2_observed\", color=\"red\")\n",
    "axes3[1].plot(posterior_obs[:, 0, 1, 0], label=\"R2_posterior\", color=\"orange\")\n",
    "axes3[1].legend(fontsize=16)\n",
    "axes3[1].set_xlabel(\"time (ms)\", fontsize=16)\n",
    "axes3[1].tick_params(axis=\"both\", labelsize=16)\n",
    "\n",
    "plt.show()"
   ]
  },
  {
   "cell_type": "code",
   "execution_count": null,
   "id": "e09bd04e",
   "metadata": {},
   "outputs": [],
   "source": [
    "#snpe_model.save()"
   ]
  },
  {
   "cell_type": "code",
   "execution_count": null,
   "id": "c5697465",
   "metadata": {
    "collapsed": false
   },
   "outputs": [],
   "source": []
  }
 ],
 "metadata": {
  "kernelspec": {
   "display_name": "BrainSim-env",
   "language": "python",
   "name": "brainsim-env"
  },
  "language_info": {
   "codemirror_mode": {
    "name": "ipython",
    "version": 3
   },
   "file_extension": ".py",
   "mimetype": "text/x-python",
   "name": "python",
   "nbconvert_exporter": "python",
   "pygments_lexer": "ipython3",
   "version": "3.9.12"
  }
 },
 "nbformat": 4,
 "nbformat_minor": 5
}
