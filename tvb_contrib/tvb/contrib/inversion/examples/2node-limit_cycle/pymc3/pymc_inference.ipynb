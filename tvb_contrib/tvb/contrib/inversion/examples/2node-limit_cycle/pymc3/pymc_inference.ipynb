{
 "cells": [
  {
   "cell_type": "code",
   "execution_count": null,
   "id": "9422e5c6",
   "metadata": {},
   "outputs": [],
   "source": [
    "from tvb.simulator.simulator import Simulator\n",
    "from tvb.datatypes.connectivity import Connectivity\n",
    "from tvb.contrib.inversion.pymcInference import pymcModel\n",
    "\n",
    "import tvb.simulator.models\n",
    "import tvb.simulator.integrators\n",
    "import tvb.simulator.coupling\n",
    "import tvb.simulator.monitors\n",
    "\n",
    "import matplotlib.pyplot as plt\n",
    "import numpy as np\n",
    "import arviz as az\n",
    "import pymc3 as pm\n",
    "import scipy\n",
    "import theano.tensor as tt\n",
    "import theano\n",
    "import math\n",
    "from tqdm import tqdm\n",
    "import pickle\n",
    "\n",
    "%load_ext autoreload\n",
    "%autoreload 2\n",
    "%matplotlib inline"
   ]
  },
  {
   "cell_type": "code",
   "execution_count": null,
   "id": "51e675eb",
   "metadata": {},
   "outputs": [],
   "source": [
    "# Simulation parameters\n",
    "with open(\"../limit-cycle_simulation.pkl\", \"rb\") as f:\n",
    "    simulation_params = pickle.load(f)"
   ]
  },
  {
   "cell_type": "code",
   "execution_count": null,
   "id": "7f365b4c",
   "metadata": {},
   "outputs": [],
   "source": [
    "simulation_params[\"x0\"].shape"
   ]
  },
  {
   "cell_type": "code",
   "execution_count": null,
   "id": "f10c9cbe",
   "metadata": {},
   "outputs": [],
   "source": [
    "# Connectivity\n",
    "connectivity = Connectivity()\n",
    "connectivity.weights = np.array([[0., 2.], [2., 0.]])\n",
    "connectivity.region_labels = np.array([\"R1\", \"R2\"])\n",
    "connectivity.centres = np.array([[0.1, 0.1, 0.1], [0.2, 0.1, 0.1]])\n",
    "connectivity.tract_lengths = np.array([[0., 2.5], [2.5, 0.]])\n",
    "connectivity.configure()\n",
    "\n",
    "# Model\n",
    "oscillator_model = getattr(tvb.simulator.models, simulation_params[\"model\"])(\n",
    "    a=np.asarray([simulation_params[\"a_sim\"]]),\n",
    "    b=np.asarray([simulation_params[\"b_sim\"]]),\n",
    "    c=np.asarray([simulation_params[\"c_sim\"]]),\n",
    "    d=np.asarray([simulation_params[\"d_sim\"]]),\n",
    "    I=np.asarray([simulation_params[\"I_sim\"]]),\n",
    ")\n",
    "oscillator_model.configure()\n",
    "\n",
    "# Integrator\n",
    "integrator = getattr(tvb.simulator.integrators, simulation_params[\"integrator\"])(dt=simulation_params[\"dt\"])\n",
    "integrator.noise.nsig = np.array([simulation_params[\"nsig\"]])\n",
    "integrator.configure()\n",
    "\n",
    "# Global coupling\n",
    "coupling = getattr(tvb.simulator.coupling, simulation_params[\"coupling\"])()\n",
    "\n",
    "# Monitor\n",
    "monitor = getattr(tvb.simulator.monitors, simulation_params[\"monitor\"])()"
   ]
  },
  {
   "cell_type": "code",
   "execution_count": null,
   "id": "1987d670",
   "metadata": {},
   "outputs": [],
   "source": [
    "# Simulator\n",
    "sim = Simulator(\n",
    "    model=oscillator_model,\n",
    "    connectivity=connectivity,\n",
    "    coupling=coupling,\n",
    "    integrator=integrator,\n",
    "    monitors=(monitor,),\n",
    "    simulation_length=simulation_params[\"simulation_length\"]\n",
    ")\n",
    "\n",
    "sim.configure()"
   ]
  },
  {
   "cell_type": "code",
   "execution_count": null,
   "id": "652a0eed",
   "metadata": {},
   "outputs": [],
   "source": [
    "X = simulation_params[\"simulation\"]"
   ]
  },
  {
   "cell_type": "code",
   "execution_count": null,
   "id": "7d1bfaac",
   "metadata": {},
   "outputs": [],
   "source": [
    "f1 = plt.figure(figsize=(14,8))\n",
    "plt.plot(X[:, 0, 0, 0], label=\"R1\")\n",
    "plt.plot(X[:, 0, 1, 0], label=\"R2\")\n",
    "plt.ylabel(\"states\", fontsize=18)\n",
    "plt.xlabel(\"time (ms)\", fontsize=18)\n",
    "plt.legend(fontsize=18)\n",
    "plt.xticks(fontsize=18)\n",
    "plt.yticks(fontsize=18)\n",
    "plt.show()"
   ]
  },
  {
   "cell_type": "code",
   "execution_count": null,
   "id": "711799e1",
   "metadata": {},
   "outputs": [],
   "source": [
    "dt = theano.shared(simulation_params[\"dt\"], name=\"dt\")"
   ]
  },
  {
   "cell_type": "code",
   "execution_count": null,
   "id": "a39df8e5",
   "metadata": {},
   "outputs": [],
   "source": [
    "priors = {\n",
    "    \"model_a\": np.array([simulation_params[\"a_sim\"]]),\n",
    "    \"model_b\": np.array([simulation_params[\"b_sim\"]]),\n",
    "    \"model_c\": np.array([simulation_params[\"c_sim\"]]),\n",
    "    \"model_d\": np.array([simulation_params[\"d_sim\"]]),\n",
    "    \"model_I\": np.array([simulation_params[\"I_sim\"]]),\n",
    "    \"model_tau\": np.array([1.0]),\n",
    "    \"model_e\": np.array([3.0]),\n",
    "    \"model_f\": np.array([1.0]),\n",
    "    \"model_g\": np.array([0.0]),\n",
    "    \"model_alpha\": np.array([1.0]),\n",
    "    \"model_beta\": np.array([1.0]),\n",
    "    \"model_gamma\": np.array([1.0]),\n",
    "    \"coupling_a\": np.array([0.1]),\n",
    "    \"local_coupling\": 0.0\n",
    "}"
   ]
  },
  {
   "cell_type": "code",
   "execution_count": null,
   "id": "16ad628e",
   "metadata": {},
   "outputs": [],
   "source": [
    "from theano.tensor.random.utils import RandomStream\n",
    "random_stream = RandomStream(seed=42)"
   ]
  },
  {
   "cell_type": "code",
   "execution_count": null,
   "id": "5a6cb79a",
   "metadata": {},
   "outputs": [],
   "source": [
    "def scheme(*args):\n",
    "    Nr = sim.connectivity.number_of_regions\n",
    "    Ncv = sim.history.n_cvar\n",
    "\n",
    "    x_prev = args[-1]\n",
    "\n",
    "    x_i = x_prev[sim.model.cvar, :, :]\n",
    "    x_i = tt.transpose(tt.reshape(tt.tile(x_i, (1, Nr)), (Nr, Nr)))\n",
    "\n",
    "    x_j = tt.stack(args, axis=0)\n",
    "    x_j = x_j[:, sim.model.cvar, :, :]\n",
    "    x_j = tt.flatten(x_j)[-1 * sim.connectivity.idelays - 1]\n",
    "\n",
    "    # x_j = x_j[-1 * sim.history.nnz_idelays, :, :, :]\n",
    "    # x_j = x_j[np.arange(sim.history.n_nnzw), :, sim.history.nnz_col_el_idx, :].reshape([Ncv, sim.history.n_nnzw, 1])\n",
    "    # x_i = x_i[:, sim.history.nnz_row_el_idx, :]\n",
    "\n",
    "    pre = sim.coupling.pre(x_i, x_j)\n",
    "    gx = tt.sum(sim.connectivity.weights * pre, axis=-1)\n",
    "    nc = sim.coupling.post_tensor(gx, priors)\n",
    "\n",
    "    # weights_col = sim.history.nnz_weights.reshape((sim.history.n_nnzw, 1))\n",
    "    # sum_ = np.zeros((Ncv, Nr, 1))\n",
    "    # lri, nzr = sim.coupling._lri(sim.history.nnz_row_el_idx)\n",
    "    # sum_[:, nzr] = np.add.reduceat(weights_col * pre, lri, axis=1)\n",
    "    # node_coupling = sim.coupling.post(sum_)\n",
    "    # node_coupling = np.zeros((1, 2, 1))\n",
    "\n",
    "    # try:\n",
    "    #     sum_[:, nzr] = np.add.reduceat(weights_col * pre, lri, axis=1)\n",
    "    #     node_coupling = sim.coupling.post(sum_)\n",
    "    # except:\n",
    "    #     node_coupling = sim.coupling.post(sum_)\n",
    "\n",
    "    noise = random_stream.normal(size=(2, 2, 1))\n",
    "    noise_gfun = sim.integrator.noise.gfun(x_prev)\n",
    "    noise *= noise_gfun\n",
    "\n",
    "    m_dx_tn = sim.model.dfun_tensor(x_prev, priors, nc)\n",
    "    inter = x_prev + dt * m_dx_tn + noise\n",
    "    # sim.integrator.integration_bound_and_clamp(inter)\n",
    "    x_next = x_prev + (m_dx_tn + sim.model.dfun_tensor(inter, priors, nc)) * dt / 2.0 + noise\n",
    "    # sim.integrator.integration_bound_and_clamp(x_next)\n",
    "    # x_next = x_prev + dt * sim.model.dfun_tensor(x_prev, priors, nc) + noise\n",
    "\n",
    "    return x_next"
   ]
  },
  {
   "cell_type": "code",
   "execution_count": null,
   "id": "e2f4a696",
   "metadata": {},
   "outputs": [],
   "source": [
    "Nt = int(sim.simulation_length)\n",
    "Nsv = len(sim.model.state_variables)\n",
    "Nr = sim.connectivity.number_of_regions\n",
    "Ncv = sim.history.n_cvar\n",
    "Nc = 1\n",
    "idmax = sim.connectivity.idelays.max()\n",
    "cvars = sim.history.cvars\n",
    "\n",
    "# series_init = theano.shared(np.random.rand(*shape))\n",
    "# x_init = theano.shared(np.random.rand(idmax+1, Nsv, Nr, 1))"
   ]
  },
  {
   "cell_type": "code",
   "execution_count": null,
   "id": "cdc5ec3e",
   "metadata": {},
   "outputs": [],
   "source": [
    "x0_init = np.zeros((Nsv, Nr, 1))\n",
    "for i, (_, value) in enumerate(sim.model.state_variable_range.items()):\n",
    "    loc = (value[0] + value[1]) / 2\n",
    "    scale = (value[1] - value[0]) / 2\n",
    "    x0_init[i, :, :] = np.random.normal(loc=loc, scale=scale, size=(1, Nr, 1))\n",
    "\n",
    "x_init = np.zeros((idmax + 1, Nsv, Nr, 1))\n",
    "x_init = theano.shared(x_init, name=\"x_init\")\n",
    "x_init = tt.set_subtensor(x_init[-1], x0_init)"
   ]
  },
  {
   "cell_type": "code",
   "execution_count": null,
   "id": "b1f540a1",
   "metadata": {},
   "outputs": [],
   "source": [
    "taps = list(-1 * np.arange(np.unique(sim.history.nnz_idelays).max() + 1) - 1)[::-1]"
   ]
  },
  {
   "cell_type": "code",
   "execution_count": null,
   "id": "c5201d16",
   "metadata": {},
   "outputs": [],
   "source": [
    "x_sim, updates = theano.scan(\n",
    "    fn=scheme,\n",
    "    outputs_info=[dict(initial=x_init, taps=taps)],\n",
    "    n_steps=X.shape[0]\n",
    ")"
   ]
  },
  {
   "cell_type": "code",
   "execution_count": null,
   "id": "bdf3a1fc",
   "metadata": {},
   "outputs": [],
   "source": [
    "x_sim_np = x_sim.eval()"
   ]
  },
  {
   "cell_type": "code",
   "execution_count": null,
   "id": "020e6641",
   "metadata": {},
   "outputs": [],
   "source": [
    "plt.figure(figsize=(18,10))\n",
    "plt.plot(x_sim_np[:, 0, 0, 0])\n",
    "plt.plot(x_sim_np[:, 0, 1, 0])"
   ]
  },
  {
   "cell_type": "markdown",
   "id": "c44f01e6",
   "metadata": {},
   "source": [
    "### Inference using non-centered model"
   ]
  },
  {
   "cell_type": "code",
   "execution_count": null,
   "id": "f8f9ab03",
   "metadata": {},
   "outputs": [],
   "source": [
    "# global inference parameters\n",
    "shape = X.shape\n",
    "draws = 500\n",
    "tune = 500\n",
    "num_cores = 2"
   ]
  },
  {
   "cell_type": "code",
   "execution_count": null,
   "id": "f5f667b7",
   "metadata": {},
   "outputs": [],
   "source": [
    "pymc_model = pymcModel(sim)"
   ]
  },
  {
   "cell_type": "code",
   "execution_count": null,
   "id": "64bc9484",
   "metadata": {},
   "outputs": [],
   "source": [
    "with pymc_model.stat_model:\n",
    "    a_star = pm.Normal(name=\"a_star\", mu=0.0, sd=1.0)\n",
    "    a = pm.Deterministic(name=\"a\", var=2.0 + a_star)\n",
    "    \n",
    "    a_coupling_star = pm.Normal(name=\"a_coupling_star\", mu=0.0, sd=1.0)\n",
    "    a_coupling = pm.Deterministic(name=\"coupling\", var=0.1 + 0.05 * a_coupling_star)\n",
    "    \n",
    "    #x_init = pm.Normal(\"x_init\", mu=0.0, sd=1.0, shape=shape[1:])\n",
    "    #x_init = theano.shared(X[0], name=\"x_init\")\n",
    "    \n",
    "    BoundedNormal = pm.Bound(pm.Normal, lower=0.0)\n",
    "    \n",
    "    # sd should be in the range of sqrt(2*nsig)\n",
    "    noise_gfun_star = BoundedNormal(name=\"noise_gfun_star\", mu=0.0, sd=1.0)\n",
    "    noise_gfun = pm.Deterministic(name=\"noise_gfun\", var=0.05 + 0.1 * noise_gfun_star)\n",
    "    \n",
    "    noise_star = pm.Normal(name=\"noise_star\", mu=0.0, sd=1.0, shape=tuple(shape))\n",
    "    noise = pm.Deterministic(name=\"noise\", var=noise_gfun * noise_star)\n",
    "    \n",
    "    epsilon = BoundedNormal(name=\"epsilon\", mu=0.0, sd=1.0)\n",
    "    \n",
    "    # Passing the prior distributions as dictionary. Also including fixed model parameters.\n",
    "    priors = {\n",
    "        \"model.a\": a,\n",
    "        \"model.b\": np.array([simulation_params[\"b_sim\"]]),\n",
    "        \"model.c\": np.array([simulation_params[\"c_sim\"]]),\n",
    "        \"model.d\": np.array([simulation_params[\"d_sim\"]]),\n",
    "        \"model.I\": np.array([simulation_params[\"I_sim\"]]),\n",
    "        \"model.tau\": np.array([1.0]),\n",
    "        \"model.e\": np.array([3.0]),\n",
    "        \"model.f\": np.array([1.0]),\n",
    "        \"model.g\": np.array([0.0]),\n",
    "        \"model.alpha\": np.array([1.0]),\n",
    "        \"model.beta\": np.array([1.0]),\n",
    "        \"model.gamma\": np.array([1.0]),\n",
    "        \"coupling.a\": a_coupling,\n",
    "        \"integrator.noise\": noise,\n",
    "        \"global.noise\": epsilon,\n",
    "        \"local_coupling\": 0.0\n",
    "    }"
   ]
  },
  {
   "cell_type": "code",
   "execution_count": null,
   "id": "954e8ba3",
   "metadata": {},
   "outputs": [],
   "source": [
    "pymc_model.prior_stats = {\n",
    "            \"model.a\": {\"mean\": 2.0, \"sd\": 1.0},\n",
    "            \"coupling.a\": {\"mean\": 0.1, \"sd\": 0.05},\n",
    "            \"noise_gfun\": {\"mean\": 0.05, \"sd\": 0.1},\n",
    "            \"global.epsilon\": {\"mean\": 0.0, \"sd\": 1.0}\n",
    "        }"
   ]
  },
  {
   "cell_type": "code",
   "execution_count": null,
   "id": "39f55b53",
   "metadata": {
    "scrolled": false
   },
   "outputs": [],
   "source": [
    "pymc_model.set_model(\n",
    "    priors=priors,\n",
    "    obs=X, \n",
    "    time_step=simulation_params[\"dt\"],\n",
    ")"
   ]
  },
  {
   "cell_type": "code",
   "execution_count": null,
   "id": "e5613e90",
   "metadata": {
    "scrolled": false
   },
   "outputs": [],
   "source": [
    "inference_data = pymc_model.run_inference(\n",
    "    draws=draws,\n",
    "    tune=tune,\n",
    "    cores=num_cores,\n",
    "    target_accept=0.9,\n",
    "    max_treedepth=20,\n",
    "    save=True\n",
    ")"
   ]
  },
  {
   "cell_type": "code",
   "execution_count": null,
   "id": "f5275937",
   "metadata": {},
   "outputs": [],
   "source": [
    "pymc_model.inference_data"
   ]
  },
  {
   "cell_type": "code",
   "execution_count": null,
   "id": "0921d116",
   "metadata": {},
   "outputs": [],
   "source": [
    "pymc_model.plot_posterior_samples(\n",
    "    init_params={\"a\": simulation_params[\"a_sim\"], \n",
    "                 \"epsilon\": 0.0, \n",
    "                 \"noise_gfun\": np.sqrt(2 * simulation_params[\"nsig\"])\n",
    "                }\n",
    ")"
   ]
  },
  {
   "cell_type": "code",
   "execution_count": null,
   "id": "2db60179",
   "metadata": {},
   "outputs": [],
   "source": [
    "posterior_x_obs = pymc_model.inference_data.posterior_predictive.x_obs.values.reshape(\n",
    "    (num_cores*draws, *shape))"
   ]
  },
  {
   "cell_type": "code",
   "execution_count": null,
   "id": "77669104",
   "metadata": {
    "scrolled": false
   },
   "outputs": [],
   "source": [
    "f3, axes3 = plt.subplots(nrows=2, ncols=1, figsize=(18,15))\n",
    "axes3[0].plot(np.percentile(posterior_x_obs[:, :, 0, 0, 0], [2.5, 97.5], axis=0).T, \n",
    "              \"k\", label=r\"$V_{95\\% PP}(t)$\")\n",
    "axes3[0].plot(X[:, 0, 0, 0], label=\"V_observed\")\n",
    "#axes3[0].plot(posterior_x_obs[0, :, 0, 0, 0])\n",
    "axes3[0].legend(fontsize=16)\n",
    "axes3[0].set_xlabel(\"time (ms)\", fontsize=16)\n",
    "axes3[0].tick_params(axis=\"both\", labelsize=16)\n",
    "\n",
    "axes3[1].plot(np.percentile(posterior_x_obs[:, :, 0, 1, 0], [2.5, 97.5], axis=0).T, \n",
    "         \"k\", label=r\"$W_{95\\% PP}(t)$\")\n",
    "axes3[1].plot(X[:, 0, 1, 0], label=\"W_observed\")\n",
    "#axes3[1].plot(posterior_x_obs[0, :, 1, 0, 0])\n",
    "axes3[1].legend(fontsize=16)\n",
    "axes3[1].set_xlabel(\"time (ms)\", fontsize=16)\n",
    "axes3[1].tick_params(axis=\"both\", labelsize=16)\n",
    "\n",
    "plt.show()"
   ]
  },
  {
   "cell_type": "code",
   "execution_count": null,
   "id": "30ca1f0f",
   "metadata": {},
   "outputs": [],
   "source": [
    "criteria = ncModel.model_criteria([\"WAIC\", \"LOO\"])"
   ]
  },
  {
   "cell_type": "code",
   "execution_count": null,
   "id": "dc96d1dc",
   "metadata": {},
   "outputs": [],
   "source": [
    "print(\"WAIC: \", criteria[\"WAIC\"])\n",
    "print(\"LOO: \", criteria[\"LOO\"])"
   ]
  },
  {
   "cell_type": "code",
   "execution_count": null,
   "id": "bd55bff7",
   "metadata": {},
   "outputs": [],
   "source": [
    "pymc_model.summary[pymc_model.summary[\"r_hat\"] > 1.2]"
   ]
  },
  {
   "cell_type": "code",
   "execution_count": null,
   "id": "7fd6bff0",
   "metadata": {},
   "outputs": [],
   "source": [
    "pymc_model.summary.loc[[\"a\", \"noise_gfun\"]] #, \"b\", \"c\", \"d\", \"I\"]]"
   ]
  },
  {
   "cell_type": "code",
   "execution_count": null,
   "id": "50ae7433",
   "metadata": {},
   "outputs": [],
   "source": [
    "divergent = pymc_model.trace[\"diverging\"]\n",
    "print(\"Number of Divergent %d\" % divergent.nonzero()[0].size)\n",
    "divperc = divergent.nonzero()[0].size / len(pymc_model.trace) * 100\n",
    "print(\"Percentage of Divergent %.1f\" % divperc)\n",
    "print(\"Mean tree accept %.1f\" % pymc_model.trace['mean_tree_accept'].mean())"
   ]
  },
  {
   "cell_type": "code",
   "execution_count": null,
   "id": "6a99a522",
   "metadata": {},
   "outputs": [],
   "source": [
    "ncModel.save(simulation_params=simulation_params.copy())"
   ]
  },
  {
   "cell_type": "code",
   "execution_count": null,
   "id": "77067305",
   "metadata": {},
   "outputs": [],
   "source": []
  }
 ],
 "metadata": {
  "kernelspec": {
   "display_name": "BrainSim-env",
   "language": "python",
   "name": "brainsim-env"
  },
  "language_info": {
   "codemirror_mode": {
    "name": "ipython",
    "version": 3
   },
   "file_extension": ".py",
   "mimetype": "text/x-python",
   "name": "python",
   "nbconvert_exporter": "python",
   "pygments_lexer": "ipython3",
   "version": "3.9.12"
  }
 },
 "nbformat": 4,
 "nbformat_minor": 5
}
