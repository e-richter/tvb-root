{
 "cells": [
  {
   "cell_type": "code",
   "execution_count": null,
   "id": "c03afa16",
   "metadata": {},
   "outputs": [],
   "source": [
    "from tvb.simulator.simulator import Simulator\n",
    "from tvb.datatypes.connectivity import Connectivity\n",
    "from tvb.contrib.inversion.pymcInference import pymcModel\n",
    "\n",
    "import tvb.simulator.models\n",
    "import tvb.simulator.integrators\n",
    "import tvb.simulator.coupling\n",
    "import tvb.simulator.monitors\n",
    "\n",
    "import matplotlib.pyplot as plt\n",
    "import numpy as np\n",
    "import arviz as az\n",
    "import pymc3 as pm\n",
    "import scipy\n",
    "import theano.tensor as tt\n",
    "import theano\n",
    "import math\n",
    "from tqdm import tqdm\n",
    "import pickle\n",
    "\n",
    "%load_ext autoreload\n",
    "%autoreload 2"
   ]
  },
  {
   "cell_type": "code",
   "execution_count": null,
   "id": "dc575f1e",
   "metadata": {},
   "outputs": [],
   "source": [
    "run_ids = [\n",
    "    \"2022-10-01_1542_instance\",\n",
    "    \"2022-10-07_1112_instance\",\n",
    "    \"2022-10-07_1821_instance\",\n",
    "    \"2022-10-08_1052_instance\",\n",
    "    \"2022-10-11_1324_instance\",\n",
    "    \"2022-10-15_2126_instance\",\n",
    "    \"2022-10-20_2106_instance\",\n",
    "    \"2022-11-02_1223_instance\",\n",
    "    \"2022-11-02_1224_instance\",\n",
    "    \"2022-11-03_1048_instance\",\n",
    "    \"2022-11-06_1430_instance\"\n",
    "]"
   ]
  },
  {
   "cell_type": "code",
   "execution_count": null,
   "id": "401644ee",
   "metadata": {},
   "outputs": [],
   "source": [
    "idx = -1"
   ]
  },
  {
   "cell_type": "code",
   "execution_count": null,
   "id": "9a24e08d",
   "metadata": {},
   "outputs": [],
   "source": [
    "with open(f\"pymc_data/inference_data/{run_ids[idx]}.pkl\", \"rb\") as f:\n",
    "    instance_params = pickle.load(f)\n",
    "    simulation_params = instance_params[\"simulation_params\"]"
   ]
  },
  {
   "cell_type": "code",
   "execution_count": null,
   "id": "b4406e84",
   "metadata": {},
   "outputs": [],
   "source": [
    "# Connectivity\n",
    "connectivity = Connectivity()\n",
    "connectivity.weights = np.array([[0., 2.], [2., 0.]])\n",
    "connectivity.region_labels = np.array([\"R1\", \"R2\"])\n",
    "connectivity.centres = np.array([[0.1, 0.1, 0.1], [0.2, 0.1, 0.1]])\n",
    "connectivity.tract_lengths = np.array([[0., 2.5], [2.5, 0.]])\n",
    "connectivity.configure()\n",
    "\n",
    "# Model\n",
    "oscillator_model = getattr(tvb.simulator.models, simulation_params[\"model\"])(\n",
    "    a=np.asarray([simulation_params[\"a_sim\"]]),\n",
    "    b=np.asarray([simulation_params[\"b_sim\"]]),\n",
    "    c=np.asarray([simulation_params[\"c_sim\"]]),\n",
    "    d=np.asarray([simulation_params[\"d_sim\"]]),\n",
    "    I=np.asarray([simulation_params[\"I_sim\"]]),\n",
    ")\n",
    "oscillator_model.configure()\n",
    "\n",
    "# Integrator\n",
    "integrator = getattr(tvb.simulator.integrators, simulation_params[\"integrator\"])(dt=simulation_params[\"dt\"])\n",
    "integrator.noise.nsig = np.array([simulation_params[\"nsig\"]])\n",
    "integrator.configure()\n",
    "\n",
    "# Global coupling\n",
    "coupling = getattr(tvb.simulator.coupling, simulation_params[\"coupling\"])()\n",
    "\n",
    "# Monitor\n",
    "monitor = getattr(tvb.simulator.monitors, simulation_params[\"monitor\"])()"
   ]
  },
  {
   "cell_type": "code",
   "execution_count": null,
   "id": "43cdf445",
   "metadata": {},
   "outputs": [],
   "source": [
    "# Simulator\n",
    "sim = Simulator(\n",
    "    model=oscillator_model,\n",
    "    connectivity=connectivity,\n",
    "    coupling=coupling,\n",
    "    integrator=integrator,\n",
    "    monitors=(monitor,),\n",
    "    simulation_length=simulation_params[\"simulation_length\"]\n",
    ")\n",
    "\n",
    "sim.configure()"
   ]
  },
  {
   "cell_type": "code",
   "execution_count": null,
   "id": "e5c24f23",
   "metadata": {},
   "outputs": [],
   "source": [
    "X = instance_params[\"obs\"]"
   ]
  },
  {
   "cell_type": "code",
   "execution_count": null,
   "id": "d98b57c9",
   "metadata": {},
   "outputs": [],
   "source": [
    "f1 = plt.figure(figsize=(14,8))\n",
    "plt.plot(X[:, 0, 0, 0], label=\"Region 1\")\n",
    "plt.plot(X[:, 0, 1, 0], label=\"Region 2\")\n",
    "plt.ylabel(\"V (a.u.)\", fontsize=16)\n",
    "plt.xlabel(\"time (ms)\", fontsize=16)\n",
    "plt.legend(fontsize=16)\n",
    "plt.xticks(fontsize=16)\n",
    "plt.yticks(fontsize=16)\n",
    "plt.show()"
   ]
  },
  {
   "cell_type": "code",
   "execution_count": null,
   "id": "1ab43d8d",
   "metadata": {},
   "outputs": [],
   "source": [
    "pymc_model = pymcModel(sim)"
   ]
  },
  {
   "cell_type": "code",
   "execution_count": null,
   "id": "e77975aa",
   "metadata": {},
   "outputs": [],
   "source": [
    "pymc_model.load(f\"{run_ids[idx]}.pkl\")"
   ]
  },
  {
   "cell_type": "code",
   "execution_count": null,
   "id": "8b72f084",
   "metadata": {},
   "outputs": [],
   "source": [
    "pymc_model.prior_stats"
   ]
  },
  {
   "cell_type": "code",
   "execution_count": null,
   "id": "027776e7",
   "metadata": {
    "collapsed": false
   },
   "outputs": [],
   "source": [
    "#plt.hist(pymc_model.inference_data.posterior.global_noise.values.reshape(700,), bins=100);"
   ]
  },
  {
   "cell_type": "code",
   "execution_count": null,
   "id": "ea3e239b",
   "metadata": {},
   "outputs": [],
   "source": [
    "pymc_model.plot_posterior_samples(\n",
    "    init_params={\"coupling_a\": sim.coupling.a[0],\n",
    "                 \"model_a\": simulation_params[\"a_sim\"],\n",
    "                 #\"model_b\": simulation_params[\"b_sim\"],\n",
    "                 \"noise_gfun\": np.sqrt(2 * simulation_params[\"nsig\"]), \n",
    "                 \"global_noise\": 0.0\n",
    "                }\n",
    ")"
   ]
  },
  {
   "cell_type": "code",
   "execution_count": null,
   "id": "609e6677",
   "metadata": {},
   "outputs": [],
   "source": [
    "s = pymc_model.posterior_shrinkage()\n",
    "z = pymc_model.posterior_zscore(init_params={\n",
    "    \"coupling_a\": sim.coupling.a[0],\n",
    "    \"model_a\": simulation_params[\"a_sim\"],\n",
    "    \"global_noise\": 0.0,\n",
    "    \"noise_gfun\": np.sqrt(2 * simulation_params[\"nsig\"])\n",
    "})"
   ]
  },
  {
   "cell_type": "code",
   "execution_count": null,
   "id": "3c46bed9",
   "metadata": {},
   "outputs": [],
   "source": [
    "f2 = plt.figure(figsize=(12,8))\n",
    "plt.plot(s, z, color=\"blue\", linewidth=0, marker=\"*\", markersize=12)\n",
    "plt.xlabel(\"posterior shrinkage\")\n",
    "plt.ylabel(\"posterior zscore\")\n",
    "#plt.xlim([0.0, 1.1])\n",
    "#plt.ylim([0.0, 5])\n",
    "plt.plot();"
   ]
  },
  {
   "cell_type": "code",
   "execution_count": null,
   "id": "8bf9787d",
   "metadata": {},
   "outputs": [],
   "source": [
    "n_draws = len(pymc_model.inference_data.sample_stats.draw)\n",
    "n_chains = len(pymc_model.inference_data.sample_stats.chain)"
   ]
  },
  {
   "cell_type": "code",
   "execution_count": null,
   "id": "bf072633",
   "metadata": {},
   "outputs": [],
   "source": [
    "posterior_x_obs = pymc_model.inference_data.posterior_predictive.x_obs.values.reshape((n_chains*n_draws, *X.shape))"
   ]
  },
  {
   "cell_type": "code",
   "execution_count": null,
   "id": "4312d0c7",
   "metadata": {},
   "outputs": [],
   "source": [
    "f3, axes3 = plt.subplots(nrows=2, ncols=1, figsize=(18,15))\n",
    "axes3[0].plot(np.percentile(posterior_x_obs[:, :, 0, 0, 0], [2.5, 97.5], axis=0).T, \n",
    "              \"k\", label=r\"$V_{95\\% PP}(t)$\")\n",
    "axes3[0].plot(X[:, 0, 0, 0], label=\"V_observed\")\n",
    "#axes3[0].plot(posterior_x_obs[0, :, 0, 0, 0])\n",
    "axes3[0].legend(fontsize=16)\n",
    "axes3[0].set_xlabel(\"time (ms)\", fontsize=16)\n",
    "axes3[0].tick_params(axis=\"both\", labelsize=16)\n",
    "\n",
    "axes3[1].plot(np.percentile(posterior_x_obs[:, :, 0, 1, 0], [2.5, 97.5], axis=0).T, \n",
    "         \"k\", label=r\"$W_{95\\% PP}(t)$\")\n",
    "axes3[1].plot(X[:, 0, 1, 0], label=\"W_observed\")\n",
    "#axes3[1].plot(posterior_x_obs[0, :, 1, 0, 0])\n",
    "axes3[1].legend(fontsize=16)\n",
    "axes3[1].set_xlabel(\"time (ms)\", fontsize=16)\n",
    "axes3[1].tick_params(axis=\"both\", labelsize=16)\n",
    "\n",
    "plt.show()"
   ]
  },
  {
   "cell_type": "code",
   "execution_count": null,
   "id": "4a31e1b9",
   "metadata": {},
   "outputs": [],
   "source": [
    "criteria = pymc_model.model_criteria([\"WAIC\", \"LOO\"])"
   ]
  },
  {
   "cell_type": "code",
   "execution_count": null,
   "id": "ce4bd1d5",
   "metadata": {},
   "outputs": [],
   "source": [
    "criteria"
   ]
  },
  {
   "cell_type": "code",
   "execution_count": null,
   "id": "d4bbf03b",
   "metadata": {},
   "outputs": [],
   "source": [
    "pymc_model.summary.loc[[\"coupling_a\", \"model_a\", \"noise_gfun\", \"global_noise\"]] #, \"b\", \"c\", \"d\", \"I\"]]"
   ]
  },
  {
   "cell_type": "code",
   "execution_count": null,
   "id": "fe97354a",
   "metadata": {},
   "outputs": [],
   "source": [
    "divergent = pymc_model.trace[\"diverging\"]\n",
    "print(\"Number of Divergent %d\" % divergent.nonzero()[0].size)\n",
    "divperc = divergent.nonzero()[0].size / len(pymc_model.trace) * 100\n",
    "print(\"Percentage of Divergent %.1f\" % divperc)\n",
    "print(\"Mean tree accept %.1f\" % pymc_model.trace['mean_tree_accept'].mean())"
   ]
  },
  {
   "cell_type": "code",
   "execution_count": null,
   "id": "4ab6ebc5",
   "metadata": {},
   "outputs": [],
   "source": [
    "print(\"Sampling time in hours:\", pymc_model.inference_data.sample_stats.sampling_time / 3600)"
   ]
  },
  {
   "cell_type": "code",
   "execution_count": null,
   "id": "8a9dd447",
   "metadata": {},
   "outputs": [],
   "source": []
  }
 ],
 "metadata": {
  "kernelspec": {
   "display_name": "BrainSim-env",
   "language": "python",
   "name": "brainsim-env"
  },
  "language_info": {
   "codemirror_mode": {
    "name": "ipython",
    "version": 3
   },
   "file_extension": ".py",
   "mimetype": "text/x-python",
   "name": "python",
   "nbconvert_exporter": "python",
   "pygments_lexer": "ipython3",
   "version": "3.9.12"
  }
 },
 "nbformat": 4,
 "nbformat_minor": 5
}
