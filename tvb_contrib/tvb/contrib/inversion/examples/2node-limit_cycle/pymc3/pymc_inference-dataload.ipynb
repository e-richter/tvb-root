{
 "cells": [
  {
   "cell_type": "code",
   "execution_count": null,
   "id": "67d5ca2d",
   "metadata": {},
   "outputs": [],
   "source": [
    "from tvb.simulator.simulator import Simulator\n",
    "from tvb.datatypes.connectivity import Connectivity\n",
    "from tvb.contrib.inversion.pymcInference import NonCenteredModel\n",
    "\n",
    "import tvb.simulator.models\n",
    "import tvb.simulator.integrators\n",
    "import tvb.simulator.coupling\n",
    "import tvb.simulator.monitors\n",
    "\n",
    "import matplotlib.pyplot as plt\n",
    "import numpy as np\n",
    "import arviz as az\n",
    "import pymc3 as pm\n",
    "import scipy\n",
    "import theano.tensor as tt\n",
    "import theano\n",
    "import math\n",
    "from tqdm import tqdm\n",
    "import pickle\n",
    "\n",
    "%load_ext autoreload\n",
    "%autoreload 2"
   ]
  },
  {
   "cell_type": "code",
   "execution_count": null,
   "id": "69200154",
   "metadata": {},
   "outputs": [],
   "source": [
    "run_ids = [\n",
    "    \"\"\n",
    "]"
   ]
  },
  {
   "cell_type": "code",
   "execution_count": null,
   "id": "c3b25234",
   "metadata": {},
   "outputs": [],
   "source": [
    "idx = 0"
   ]
  },
  {
   "cell_type": "code",
   "execution_count": null,
   "id": "bc6d990d",
   "metadata": {},
   "outputs": [],
   "source": [
    "with open(f\"pymc_data/inference_data/{run_ids[idx]}.pkl\", \"rb\") as f:\n",
    "    instance_params = pickle.load(f)\n",
    "    simulation_params = instance_params[\"simulation_params\"]"
   ]
  },
  {
   "cell_type": "code",
   "execution_count": null,
   "id": "ee39a522",
   "metadata": {},
   "outputs": [],
   "source": [
    "# Connectivity\n",
    "connectivity = Connectivity()\n",
    "connectivity.weights = np.array([[0., 2.], [2., 0.]])\n",
    "connectivity.region_labels = np.array([\"R1\", \"R2\"])\n",
    "connectivity.centres = np.array([[0.1, 0.1, 0.1], [0.2, 0.1, 0.1]])\n",
    "connectivity.tract_lengths = np.array([[0., 2.5], [2.5, 0.]])\n",
    "connectivity.configure()\n",
    "\n",
    "# Model\n",
    "oscillator_model = getattr(tvb.simulator.models, simulation_params[\"model\"])(\n",
    "    a=np.asarray([simulation_params[\"a_sim\"]]),\n",
    "    b=np.asarray([simulation_params[\"b_sim\"]]),\n",
    "    c=np.asarray([simulation_params[\"c_sim\"]]),\n",
    "    d=np.asarray([simulation_params[\"d_sim\"]]),\n",
    "    I=np.asarray([simulation_params[\"I_sim\"]]),\n",
    ")\n",
    "oscillator_model.configure()\n",
    "\n",
    "# Integrator\n",
    "integrator = getattr(tvb.simulator.integrators, simulation_params[\"integrator\"])(dt=simulation_params[\"dt\"])\n",
    "integrator.noise.nsig = np.array([simulation_params[\"nsig\"]])\n",
    "integrator.configure()\n",
    "\n",
    "# Global coupling\n",
    "coupling = getattr(tvb.simulator.coupling, simulation_params[\"coupling\"])()\n",
    "\n",
    "# Monitor\n",
    "monitor = getattr(tvb.simulator.monitors, simulation_params[\"monitor\"])()"
   ]
  },
  {
   "cell_type": "code",
   "execution_count": null,
   "id": "8ed75785",
   "metadata": {},
   "outputs": [],
   "source": [
    "# Simulator\n",
    "sim = Simulator(\n",
    "    model=oscillator_model,\n",
    "    connectivity=connectivity,\n",
    "    coupling=coupling,\n",
    "    integrator=integrator,\n",
    "    monitors=(monitor,),\n",
    "    simulation_length=simulation_params[\"simulation_length\"]\n",
    ")\n",
    "\n",
    "sim.configure()"
   ]
  },
  {
   "cell_type": "code",
   "execution_count": null,
   "id": "bcbdb6ab",
   "metadata": {},
   "outputs": [],
   "source": [
    "X = instance_params[\"obs\"]"
   ]
  },
  {
   "cell_type": "code",
   "execution_count": null,
   "id": "5c2c17f8",
   "metadata": {},
   "outputs": [],
   "source": [
    "f1 = plt.figure(figsize=(14,8))\n",
    "plt.plot(X[:, 0, 0, 0], label=\"V\")\n",
    "plt.plot(X[:, 1, 0, 0], label=\"W\")\n",
    "plt.ylabel(\"states\", fontsize=16)\n",
    "plt.xlabel(\"time (ms)\", fontsize=16)\n",
    "plt.legend(fontsize=16)\n",
    "plt.xticks(fontsize=16)\n",
    "plt.yticks(fontsize=16)\n",
    "plt.legend()\n",
    "plt.show()"
   ]
  },
  {
   "cell_type": "code",
   "execution_count": null,
   "id": "4057010e",
   "metadata": {},
   "outputs": [],
   "source": [
    "pymc_model = pymcModel(sim)"
   ]
  },
  {
   "cell_type": "code",
   "execution_count": null,
   "id": "e4201fd9",
   "metadata": {},
   "outputs": [],
   "source": [
    "pymc_model.load(f\"{run_ids[idx]}.pkl\")"
   ]
  },
  {
   "cell_type": "code",
   "execution_count": null,
   "id": "66a98e69",
   "metadata": {},
   "outputs": [],
   "source": [
    "pymc_model.prior_stats"
   ]
  },
  {
   "cell_type": "code",
   "execution_count": null,
   "id": "3a418b9e",
   "metadata": {},
   "outputs": [],
   "source": [
    "pymc_model.plot_posterior_samples(\n",
    "    init_params={\"a\": simulation_params[\"a_sim\"],\n",
    "                 \"epsilon\": 0.0, \n",
    "                 \"noise\": np.sqrt(2 * simulation_params[\"nsig\"])\n",
    "                }\n",
    ")"
   ]
  },
  {
   "cell_type": "code",
   "execution_count": null,
   "id": "a104d60e",
   "metadata": {},
   "outputs": [],
   "source": [
    "n_draws = len(pymc_model.inference_data.sample_stats.draw)\n",
    "n_chains = len(pymc_model.inference_data.sample_stats.chain)"
   ]
  },
  {
   "cell_type": "code",
   "execution_count": null,
   "id": "d8322f30",
   "metadata": {},
   "outputs": [],
   "source": [
    "posterior_x_obs = pymc_model.inference_data.posterior_predictive.x_obs.values.reshape((n_chains*n_draws, *X.shape))"
   ]
  },
  {
   "cell_type": "code",
   "execution_count": null,
   "id": "5234e977",
   "metadata": {},
   "outputs": [],
   "source": [
    "f3, axes3 = plt.subplots(nrows=2, ncols=1, figsize=(18,15))\n",
    "axes3[0].plot(np.percentile(posterior_x_obs[:, :, 0, 0, 0], [2.5, 97.5], axis=0).T, \n",
    "              \"k\", label=r\"$V_{95\\% PP}(t)$\")\n",
    "axes3[0].plot(X[:, 0, 0, 0], label=\"V_observed\")\n",
    "#axes3[0].plot(posterior_x_obs[0, :, 0, 0, 0])\n",
    "axes3[0].legend(fontsize=16)\n",
    "axes3[0].set_xlabel(\"time (ms)\", fontsize=16)\n",
    "axes3[0].tick_params(axis=\"both\", labelsize=16)\n",
    "\n",
    "axes3[1].plot(np.percentile(posterior_x_obs[:, :, 0, 1, 0], [2.5, 97.5], axis=0).T, \n",
    "         \"k\", label=r\"$W_{95\\% PP}(t)$\")\n",
    "axes3[1].plot(X[:, 0, 1, 0], label=\"W_observed\")\n",
    "#axes3[1].plot(posterior_x_obs[0, :, 1, 0, 0])\n",
    "axes3[1].legend(fontsize=16)\n",
    "axes3[1].set_xlabel(\"time (ms)\", fontsize=16)\n",
    "axes3[1].tick_params(axis=\"both\", labelsize=16)\n",
    "\n",
    "plt.show()"
   ]
  },
  {
   "cell_type": "code",
   "execution_count": null,
   "id": "15b12866",
   "metadata": {},
   "outputs": [],
   "source": [
    "criteria = pymc_model.model_criteria([\"WAIC\", \"LOO\"])"
   ]
  },
  {
   "cell_type": "code",
   "execution_count": null,
   "id": "d3a273e3",
   "metadata": {},
   "outputs": [],
   "source": [
    "criteria"
   ]
  },
  {
   "cell_type": "code",
   "execution_count": null,
   "id": "917721f3",
   "metadata": {},
   "outputs": [],
   "source": [
    "ncModel.summary[pymc_model.summary[\"r_hat\"] >= 1.2]"
   ]
  },
  {
   "cell_type": "code",
   "execution_count": null,
   "id": "84e1cd99",
   "metadata": {},
   "outputs": [],
   "source": [
    "ncModel.summary.loc[[\"a\", \"b\", \"noise\", \"epsilon\"]] #, \"b\", \"c\", \"d\", \"I\"]]"
   ]
  },
  {
   "cell_type": "code",
   "execution_count": null,
   "id": "85c96ce8",
   "metadata": {},
   "outputs": [],
   "source": [
    "divergent = pymc_model.trace[\"diverging\"]\n",
    "print(\"Number of Divergent %d\" % divergent.nonzero()[0].size)\n",
    "divperc = divergent.nonzero()[0].size / len(pymc_model.trace) * 100\n",
    "print(\"Percentage of Divergent %.1f\" % divperc)\n",
    "print(\"Mean tree accept %.1f\" % pymc_model.trace['mean_tree_accept'].mean())"
   ]
  },
  {
   "cell_type": "code",
   "execution_count": null,
   "id": "9896d7d0",
   "metadata": {},
   "outputs": [],
   "source": [
    "print(\"Sampling time in hours:\", pymc_model.inference_data.sample_stats.sampling_time / 3600)"
   ]
  },
  {
   "cell_type": "code",
   "execution_count": null,
   "id": "4c228890",
   "metadata": {},
   "outputs": [],
   "source": []
  }
 ],
 "metadata": {
  "kernelspec": {
   "display_name": "BrainSim-env",
   "language": "python",
   "name": "brainsim-env"
  },
  "language_info": {
   "codemirror_mode": {
    "name": "ipython",
    "version": 3
   },
   "file_extension": ".py",
   "mimetype": "text/x-python",
   "name": "python",
   "nbconvert_exporter": "python",
   "pygments_lexer": "ipython3",
   "version": "3.9.12"
  }
 },
 "nbformat": 4,
 "nbformat_minor": 5
}
